{
 "cells": [
  {
   "cell_type": "markdown",
   "id": "5251fadd",
   "metadata": {},
   "source": [
    "Часть 1. EDA"
   ]
  },
  {
   "cell_type": "code",
   "execution_count": 1,
   "id": "986d5115",
   "metadata": {},
   "outputs": [],
   "source": [
    "import pandas as pd\n",
    "import numpy as np\n",
    "import seaborn as sns\n",
    "import matplotlib.pyplot as plt"
   ]
  },
  {
   "cell_type": "code",
   "execution_count": 2,
   "id": "7162bef5",
   "metadata": {},
   "outputs": [
    {
     "data": {
      "text/html": [
       "<div>\n",
       "<style scoped>\n",
       "    .dataframe tbody tr th:only-of-type {\n",
       "        vertical-align: middle;\n",
       "    }\n",
       "\n",
       "    .dataframe tbody tr th {\n",
       "        vertical-align: top;\n",
       "    }\n",
       "\n",
       "    .dataframe thead th {\n",
       "        text-align: right;\n",
       "    }\n",
       "</style>\n",
       "<table border=\"1\" class=\"dataframe\">\n",
       "  <thead>\n",
       "    <tr style=\"text-align: right;\">\n",
       "      <th></th>\n",
       "      <th>customerID</th>\n",
       "      <th>gender</th>\n",
       "      <th>SeniorCitizen</th>\n",
       "      <th>Partner</th>\n",
       "      <th>Dependents</th>\n",
       "      <th>tenure</th>\n",
       "      <th>PhoneService</th>\n",
       "      <th>MultipleLines</th>\n",
       "      <th>InternetService</th>\n",
       "      <th>OnlineSecurity</th>\n",
       "      <th>OnlineBackup</th>\n",
       "      <th>DeviceProtection</th>\n",
       "      <th>TechSupport</th>\n",
       "      <th>StreamingTV</th>\n",
       "      <th>StreamingMovies</th>\n",
       "      <th>Contract</th>\n",
       "      <th>PaperlessBilling</th>\n",
       "      <th>PaymentMethod</th>\n",
       "      <th>MonthlyCharges</th>\n",
       "      <th>TotalCharges</th>\n",
       "      <th>Churn</th>\n",
       "    </tr>\n",
       "  </thead>\n",
       "  <tbody>\n",
       "    <tr>\n",
       "      <th>0</th>\n",
       "      <td>7590-VHVEG</td>\n",
       "      <td>Female</td>\n",
       "      <td>0</td>\n",
       "      <td>Yes</td>\n",
       "      <td>No</td>\n",
       "      <td>1</td>\n",
       "      <td>No</td>\n",
       "      <td>No phone service</td>\n",
       "      <td>DSL</td>\n",
       "      <td>No</td>\n",
       "      <td>Yes</td>\n",
       "      <td>No</td>\n",
       "      <td>No</td>\n",
       "      <td>No</td>\n",
       "      <td>No</td>\n",
       "      <td>Month-to-month</td>\n",
       "      <td>Yes</td>\n",
       "      <td>Electronic check</td>\n",
       "      <td>29.85</td>\n",
       "      <td>29.85</td>\n",
       "      <td>No</td>\n",
       "    </tr>\n",
       "    <tr>\n",
       "      <th>1</th>\n",
       "      <td>5575-GNVDE</td>\n",
       "      <td>Male</td>\n",
       "      <td>0</td>\n",
       "      <td>No</td>\n",
       "      <td>No</td>\n",
       "      <td>34</td>\n",
       "      <td>Yes</td>\n",
       "      <td>No</td>\n",
       "      <td>DSL</td>\n",
       "      <td>Yes</td>\n",
       "      <td>No</td>\n",
       "      <td>Yes</td>\n",
       "      <td>No</td>\n",
       "      <td>No</td>\n",
       "      <td>No</td>\n",
       "      <td>One year</td>\n",
       "      <td>No</td>\n",
       "      <td>Mailed check</td>\n",
       "      <td>56.95</td>\n",
       "      <td>1889.5</td>\n",
       "      <td>No</td>\n",
       "    </tr>\n",
       "    <tr>\n",
       "      <th>2</th>\n",
       "      <td>3668-QPYBK</td>\n",
       "      <td>Male</td>\n",
       "      <td>0</td>\n",
       "      <td>No</td>\n",
       "      <td>No</td>\n",
       "      <td>2</td>\n",
       "      <td>Yes</td>\n",
       "      <td>No</td>\n",
       "      <td>DSL</td>\n",
       "      <td>Yes</td>\n",
       "      <td>Yes</td>\n",
       "      <td>No</td>\n",
       "      <td>No</td>\n",
       "      <td>No</td>\n",
       "      <td>No</td>\n",
       "      <td>Month-to-month</td>\n",
       "      <td>Yes</td>\n",
       "      <td>Mailed check</td>\n",
       "      <td>53.85</td>\n",
       "      <td>108.15</td>\n",
       "      <td>Yes</td>\n",
       "    </tr>\n",
       "    <tr>\n",
       "      <th>3</th>\n",
       "      <td>7795-CFOCW</td>\n",
       "      <td>Male</td>\n",
       "      <td>0</td>\n",
       "      <td>No</td>\n",
       "      <td>No</td>\n",
       "      <td>45</td>\n",
       "      <td>No</td>\n",
       "      <td>No phone service</td>\n",
       "      <td>DSL</td>\n",
       "      <td>Yes</td>\n",
       "      <td>No</td>\n",
       "      <td>Yes</td>\n",
       "      <td>Yes</td>\n",
       "      <td>No</td>\n",
       "      <td>No</td>\n",
       "      <td>One year</td>\n",
       "      <td>No</td>\n",
       "      <td>Bank transfer (automatic)</td>\n",
       "      <td>42.30</td>\n",
       "      <td>1840.75</td>\n",
       "      <td>No</td>\n",
       "    </tr>\n",
       "    <tr>\n",
       "      <th>4</th>\n",
       "      <td>9237-HQITU</td>\n",
       "      <td>Female</td>\n",
       "      <td>0</td>\n",
       "      <td>No</td>\n",
       "      <td>No</td>\n",
       "      <td>2</td>\n",
       "      <td>Yes</td>\n",
       "      <td>No</td>\n",
       "      <td>Fiber optic</td>\n",
       "      <td>No</td>\n",
       "      <td>No</td>\n",
       "      <td>No</td>\n",
       "      <td>No</td>\n",
       "      <td>No</td>\n",
       "      <td>No</td>\n",
       "      <td>Month-to-month</td>\n",
       "      <td>Yes</td>\n",
       "      <td>Electronic check</td>\n",
       "      <td>70.70</td>\n",
       "      <td>151.65</td>\n",
       "      <td>Yes</td>\n",
       "    </tr>\n",
       "  </tbody>\n",
       "</table>\n",
       "</div>"
      ],
      "text/plain": [
       "   customerID  gender  SeniorCitizen Partner Dependents  tenure PhoneService  \\\n",
       "0  7590-VHVEG  Female              0     Yes         No       1           No   \n",
       "1  5575-GNVDE    Male              0      No         No      34          Yes   \n",
       "2  3668-QPYBK    Male              0      No         No       2          Yes   \n",
       "3  7795-CFOCW    Male              0      No         No      45           No   \n",
       "4  9237-HQITU  Female              0      No         No       2          Yes   \n",
       "\n",
       "      MultipleLines InternetService OnlineSecurity OnlineBackup  \\\n",
       "0  No phone service             DSL             No          Yes   \n",
       "1                No             DSL            Yes           No   \n",
       "2                No             DSL            Yes          Yes   \n",
       "3  No phone service             DSL            Yes           No   \n",
       "4                No     Fiber optic             No           No   \n",
       "\n",
       "  DeviceProtection TechSupport StreamingTV StreamingMovies        Contract  \\\n",
       "0               No          No          No              No  Month-to-month   \n",
       "1              Yes          No          No              No        One year   \n",
       "2               No          No          No              No  Month-to-month   \n",
       "3              Yes         Yes          No              No        One year   \n",
       "4               No          No          No              No  Month-to-month   \n",
       "\n",
       "  PaperlessBilling              PaymentMethod  MonthlyCharges TotalCharges  \\\n",
       "0              Yes           Electronic check           29.85        29.85   \n",
       "1               No               Mailed check           56.95       1889.5   \n",
       "2              Yes               Mailed check           53.85       108.15   \n",
       "3               No  Bank transfer (automatic)           42.30      1840.75   \n",
       "4              Yes           Electronic check           70.70       151.65   \n",
       "\n",
       "  Churn  \n",
       "0    No  \n",
       "1    No  \n",
       "2   Yes  \n",
       "3    No  \n",
       "4   Yes  "
      ]
     },
     "execution_count": 2,
     "metadata": {},
     "output_type": "execute_result"
    }
   ],
   "source": [
    "df = pd.read_csv ('WA_Fn-UseC_-Telco-Customer-Churn.csv')\n",
    "pd.set_option('display.max_columns', None)\n",
    "df.head()"
   ]
  },
  {
   "cell_type": "code",
   "execution_count": 3,
   "id": "003fe2df",
   "metadata": {},
   "outputs": [
    {
     "data": {
      "text/plain": [
       "(7043, 21)"
      ]
     },
     "execution_count": 3,
     "metadata": {},
     "output_type": "execute_result"
    }
   ],
   "source": [
    "df.shape"
   ]
  },
  {
   "cell_type": "code",
   "execution_count": 4,
   "id": "55429077",
   "metadata": {},
   "outputs": [],
   "source": [
    "#7043 абонента, 21 признак."
   ]
  },
  {
   "cell_type": "code",
   "execution_count": 5,
   "id": "2b950eb3",
   "metadata": {},
   "outputs": [
    {
     "name": "stdout",
     "output_type": "stream",
     "text": [
      "<class 'pandas.core.frame.DataFrame'>\n",
      "RangeIndex: 7043 entries, 0 to 7042\n",
      "Data columns (total 21 columns):\n",
      " #   Column            Non-Null Count  Dtype  \n",
      "---  ------            --------------  -----  \n",
      " 0   customerID        7043 non-null   object \n",
      " 1   gender            7043 non-null   object \n",
      " 2   SeniorCitizen     7043 non-null   int64  \n",
      " 3   Partner           7043 non-null   object \n",
      " 4   Dependents        7043 non-null   object \n",
      " 5   tenure            7043 non-null   int64  \n",
      " 6   PhoneService      7043 non-null   object \n",
      " 7   MultipleLines     7043 non-null   object \n",
      " 8   InternetService   7043 non-null   object \n",
      " 9   OnlineSecurity    7043 non-null   object \n",
      " 10  OnlineBackup      7043 non-null   object \n",
      " 11  DeviceProtection  7043 non-null   object \n",
      " 12  TechSupport       7043 non-null   object \n",
      " 13  StreamingTV       7043 non-null   object \n",
      " 14  StreamingMovies   7043 non-null   object \n",
      " 15  Contract          7043 non-null   object \n",
      " 16  PaperlessBilling  7043 non-null   object \n",
      " 17  PaymentMethod     7043 non-null   object \n",
      " 18  MonthlyCharges    7043 non-null   float64\n",
      " 19  TotalCharges      7043 non-null   object \n",
      " 20  Churn             7043 non-null   object \n",
      "dtypes: float64(1), int64(2), object(18)\n",
      "memory usage: 1.1+ MB\n"
     ]
    }
   ],
   "source": [
    "df.info()"
   ]
  },
  {
   "cell_type": "code",
   "execution_count": 6,
   "id": "015b93de",
   "metadata": {},
   "outputs": [],
   "source": [
    "#Пропусков в данных нет. Целевая переменная - churn (отток пользователя телекоммуникационной компании: \"да\" или\"нет\").\n",
    "#Также понятно, что целевая переменная не зависит от customerID. Поэтому ее можно убрать."
   ]
  },
  {
   "cell_type": "code",
   "execution_count": 7,
   "id": "27b74b8b",
   "metadata": {},
   "outputs": [
    {
     "data": {
      "text/html": [
       "<div>\n",
       "<style scoped>\n",
       "    .dataframe tbody tr th:only-of-type {\n",
       "        vertical-align: middle;\n",
       "    }\n",
       "\n",
       "    .dataframe tbody tr th {\n",
       "        vertical-align: top;\n",
       "    }\n",
       "\n",
       "    .dataframe thead th {\n",
       "        text-align: right;\n",
       "    }\n",
       "</style>\n",
       "<table border=\"1\" class=\"dataframe\">\n",
       "  <thead>\n",
       "    <tr style=\"text-align: right;\">\n",
       "      <th></th>\n",
       "      <th>gender</th>\n",
       "      <th>SeniorCitizen</th>\n",
       "      <th>Partner</th>\n",
       "      <th>Dependents</th>\n",
       "      <th>tenure</th>\n",
       "      <th>PhoneService</th>\n",
       "      <th>MultipleLines</th>\n",
       "      <th>InternetService</th>\n",
       "      <th>OnlineSecurity</th>\n",
       "      <th>OnlineBackup</th>\n",
       "      <th>DeviceProtection</th>\n",
       "      <th>TechSupport</th>\n",
       "      <th>StreamingTV</th>\n",
       "      <th>StreamingMovies</th>\n",
       "      <th>Contract</th>\n",
       "      <th>PaperlessBilling</th>\n",
       "      <th>PaymentMethod</th>\n",
       "      <th>MonthlyCharges</th>\n",
       "      <th>TotalCharges</th>\n",
       "      <th>Churn</th>\n",
       "    </tr>\n",
       "  </thead>\n",
       "  <tbody>\n",
       "    <tr>\n",
       "      <th>0</th>\n",
       "      <td>Female</td>\n",
       "      <td>0</td>\n",
       "      <td>Yes</td>\n",
       "      <td>No</td>\n",
       "      <td>1</td>\n",
       "      <td>No</td>\n",
       "      <td>No phone service</td>\n",
       "      <td>DSL</td>\n",
       "      <td>No</td>\n",
       "      <td>Yes</td>\n",
       "      <td>No</td>\n",
       "      <td>No</td>\n",
       "      <td>No</td>\n",
       "      <td>No</td>\n",
       "      <td>Month-to-month</td>\n",
       "      <td>Yes</td>\n",
       "      <td>Electronic check</td>\n",
       "      <td>29.85</td>\n",
       "      <td>29.85</td>\n",
       "      <td>No</td>\n",
       "    </tr>\n",
       "    <tr>\n",
       "      <th>1</th>\n",
       "      <td>Male</td>\n",
       "      <td>0</td>\n",
       "      <td>No</td>\n",
       "      <td>No</td>\n",
       "      <td>34</td>\n",
       "      <td>Yes</td>\n",
       "      <td>No</td>\n",
       "      <td>DSL</td>\n",
       "      <td>Yes</td>\n",
       "      <td>No</td>\n",
       "      <td>Yes</td>\n",
       "      <td>No</td>\n",
       "      <td>No</td>\n",
       "      <td>No</td>\n",
       "      <td>One year</td>\n",
       "      <td>No</td>\n",
       "      <td>Mailed check</td>\n",
       "      <td>56.95</td>\n",
       "      <td>1889.5</td>\n",
       "      <td>No</td>\n",
       "    </tr>\n",
       "    <tr>\n",
       "      <th>2</th>\n",
       "      <td>Male</td>\n",
       "      <td>0</td>\n",
       "      <td>No</td>\n",
       "      <td>No</td>\n",
       "      <td>2</td>\n",
       "      <td>Yes</td>\n",
       "      <td>No</td>\n",
       "      <td>DSL</td>\n",
       "      <td>Yes</td>\n",
       "      <td>Yes</td>\n",
       "      <td>No</td>\n",
       "      <td>No</td>\n",
       "      <td>No</td>\n",
       "      <td>No</td>\n",
       "      <td>Month-to-month</td>\n",
       "      <td>Yes</td>\n",
       "      <td>Mailed check</td>\n",
       "      <td>53.85</td>\n",
       "      <td>108.15</td>\n",
       "      <td>Yes</td>\n",
       "    </tr>\n",
       "    <tr>\n",
       "      <th>3</th>\n",
       "      <td>Male</td>\n",
       "      <td>0</td>\n",
       "      <td>No</td>\n",
       "      <td>No</td>\n",
       "      <td>45</td>\n",
       "      <td>No</td>\n",
       "      <td>No phone service</td>\n",
       "      <td>DSL</td>\n",
       "      <td>Yes</td>\n",
       "      <td>No</td>\n",
       "      <td>Yes</td>\n",
       "      <td>Yes</td>\n",
       "      <td>No</td>\n",
       "      <td>No</td>\n",
       "      <td>One year</td>\n",
       "      <td>No</td>\n",
       "      <td>Bank transfer (automatic)</td>\n",
       "      <td>42.30</td>\n",
       "      <td>1840.75</td>\n",
       "      <td>No</td>\n",
       "    </tr>\n",
       "    <tr>\n",
       "      <th>4</th>\n",
       "      <td>Female</td>\n",
       "      <td>0</td>\n",
       "      <td>No</td>\n",
       "      <td>No</td>\n",
       "      <td>2</td>\n",
       "      <td>Yes</td>\n",
       "      <td>No</td>\n",
       "      <td>Fiber optic</td>\n",
       "      <td>No</td>\n",
       "      <td>No</td>\n",
       "      <td>No</td>\n",
       "      <td>No</td>\n",
       "      <td>No</td>\n",
       "      <td>No</td>\n",
       "      <td>Month-to-month</td>\n",
       "      <td>Yes</td>\n",
       "      <td>Electronic check</td>\n",
       "      <td>70.70</td>\n",
       "      <td>151.65</td>\n",
       "      <td>Yes</td>\n",
       "    </tr>\n",
       "  </tbody>\n",
       "</table>\n",
       "</div>"
      ],
      "text/plain": [
       "   gender  SeniorCitizen Partner Dependents  tenure PhoneService  \\\n",
       "0  Female              0     Yes         No       1           No   \n",
       "1    Male              0      No         No      34          Yes   \n",
       "2    Male              0      No         No       2          Yes   \n",
       "3    Male              0      No         No      45           No   \n",
       "4  Female              0      No         No       2          Yes   \n",
       "\n",
       "      MultipleLines InternetService OnlineSecurity OnlineBackup  \\\n",
       "0  No phone service             DSL             No          Yes   \n",
       "1                No             DSL            Yes           No   \n",
       "2                No             DSL            Yes          Yes   \n",
       "3  No phone service             DSL            Yes           No   \n",
       "4                No     Fiber optic             No           No   \n",
       "\n",
       "  DeviceProtection TechSupport StreamingTV StreamingMovies        Contract  \\\n",
       "0               No          No          No              No  Month-to-month   \n",
       "1              Yes          No          No              No        One year   \n",
       "2               No          No          No              No  Month-to-month   \n",
       "3              Yes         Yes          No              No        One year   \n",
       "4               No          No          No              No  Month-to-month   \n",
       "\n",
       "  PaperlessBilling              PaymentMethod  MonthlyCharges TotalCharges  \\\n",
       "0              Yes           Electronic check           29.85        29.85   \n",
       "1               No               Mailed check           56.95       1889.5   \n",
       "2              Yes               Mailed check           53.85       108.15   \n",
       "3               No  Bank transfer (automatic)           42.30      1840.75   \n",
       "4              Yes           Electronic check           70.70       151.65   \n",
       "\n",
       "  Churn  \n",
       "0    No  \n",
       "1    No  \n",
       "2   Yes  \n",
       "3    No  \n",
       "4   Yes  "
      ]
     },
     "execution_count": 7,
     "metadata": {},
     "output_type": "execute_result"
    }
   ],
   "source": [
    "df = df.drop([\"customerID\"], axis = 1)\n",
    "df.head()"
   ]
  },
  {
   "cell_type": "code",
   "execution_count": 8,
   "id": "1a58d70d",
   "metadata": {},
   "outputs": [],
   "source": [
    "#Посмотрим на распределение признаков по целевой переменной."
   ]
  },
  {
   "cell_type": "code",
   "execution_count": 9,
   "id": "df906e81",
   "metadata": {},
   "outputs": [
    {
     "data": {
      "text/html": [
       "<div>\n",
       "<style scoped>\n",
       "    .dataframe tbody tr th:only-of-type {\n",
       "        vertical-align: middle;\n",
       "    }\n",
       "\n",
       "    .dataframe tbody tr th {\n",
       "        vertical-align: top;\n",
       "    }\n",
       "\n",
       "    .dataframe thead th {\n",
       "        text-align: right;\n",
       "    }\n",
       "</style>\n",
       "<table border=\"1\" class=\"dataframe\">\n",
       "  <thead>\n",
       "    <tr style=\"text-align: right;\">\n",
       "      <th>gender</th>\n",
       "      <th>Female</th>\n",
       "      <th>Male</th>\n",
       "      <th>All</th>\n",
       "    </tr>\n",
       "    <tr>\n",
       "      <th>Churn</th>\n",
       "      <th></th>\n",
       "      <th></th>\n",
       "      <th></th>\n",
       "    </tr>\n",
       "  </thead>\n",
       "  <tbody>\n",
       "    <tr>\n",
       "      <th>No</th>\n",
       "      <td>2549</td>\n",
       "      <td>2625</td>\n",
       "      <td>5174</td>\n",
       "    </tr>\n",
       "    <tr>\n",
       "      <th>Yes</th>\n",
       "      <td>939</td>\n",
       "      <td>930</td>\n",
       "      <td>1869</td>\n",
       "    </tr>\n",
       "    <tr>\n",
       "      <th>All</th>\n",
       "      <td>3488</td>\n",
       "      <td>3555</td>\n",
       "      <td>7043</td>\n",
       "    </tr>\n",
       "  </tbody>\n",
       "</table>\n",
       "</div>"
      ],
      "text/plain": [
       "gender  Female  Male   All\n",
       "Churn                     \n",
       "No        2549  2625  5174\n",
       "Yes        939   930  1869\n",
       "All       3488  3555  7043"
      ]
     },
     "execution_count": 9,
     "metadata": {},
     "output_type": "execute_result"
    }
   ],
   "source": [
    "pd.crosstab(df['Churn'], df['gender'], margins=True)"
   ]
  },
  {
   "cell_type": "code",
   "execution_count": 10,
   "id": "0c56ff2f",
   "metadata": {},
   "outputs": [
    {
     "data": {
      "text/plain": [
       "<AxesSubplot:xlabel='gender', ylabel='count'>"
      ]
     },
     "execution_count": 10,
     "metadata": {},
     "output_type": "execute_result"
    },
    {
     "data": {
      "image/png": "[encoded data removed]",
      "text/plain": [
       "<Figure size 432x288 with 1 Axes>"
      ]
     },
     "metadata": {
      "needs_background": "light"
     },
     "output_type": "display_data"
    }
   ],
   "source": [
    "sns.countplot(x='gender', hue='Churn', data=df)"
   ]
  },
  {
   "cell_type": "code",
   "execution_count": 11,
   "id": "8562934d",
   "metadata": {},
   "outputs": [],
   "source": [
    "#Как можем видеть, от пола количество ушедших и оставшихся абонентов не зависит. Поэтому данный признак можно удалить. "
   ]
  },
  {
   "cell_type": "code",
   "execution_count": 12,
   "id": "3a1a7fd0",
   "metadata": {},
   "outputs": [
    {
     "data": {
      "text/html": [
       "<div>\n",
       "<style scoped>\n",
       "    .dataframe tbody tr th:only-of-type {\n",
       "        vertical-align: middle;\n",
       "    }\n",
       "\n",
       "    .dataframe tbody tr th {\n",
       "        vertical-align: top;\n",
       "    }\n",
       "\n",
       "    .dataframe thead th {\n",
       "        text-align: right;\n",
       "    }\n",
       "</style>\n",
       "<table border=\"1\" class=\"dataframe\">\n",
       "  <thead>\n",
       "    <tr style=\"text-align: right;\">\n",
       "      <th></th>\n",
       "      <th>SeniorCitizen</th>\n",
       "      <th>Partner</th>\n",
       "      <th>Dependents</th>\n",
       "      <th>tenure</th>\n",
       "      <th>PhoneService</th>\n",
       "      <th>MultipleLines</th>\n",
       "      <th>InternetService</th>\n",
       "      <th>OnlineSecurity</th>\n",
       "      <th>OnlineBackup</th>\n",
       "      <th>DeviceProtection</th>\n",
       "      <th>TechSupport</th>\n",
       "      <th>StreamingTV</th>\n",
       "      <th>StreamingMovies</th>\n",
       "      <th>Contract</th>\n",
       "      <th>PaperlessBilling</th>\n",
       "      <th>PaymentMethod</th>\n",
       "      <th>MonthlyCharges</th>\n",
       "      <th>TotalCharges</th>\n",
       "      <th>Churn</th>\n",
       "    </tr>\n",
       "  </thead>\n",
       "  <tbody>\n",
       "    <tr>\n",
       "      <th>0</th>\n",
       "      <td>0</td>\n",
       "      <td>Yes</td>\n",
       "      <td>No</td>\n",
       "      <td>1</td>\n",
       "      <td>No</td>\n",
       "      <td>No phone service</td>\n",
       "      <td>DSL</td>\n",
       "      <td>No</td>\n",
       "      <td>Yes</td>\n",
       "      <td>No</td>\n",
       "      <td>No</td>\n",
       "      <td>No</td>\n",
       "      <td>No</td>\n",
       "      <td>Month-to-month</td>\n",
       "      <td>Yes</td>\n",
       "      <td>Electronic check</td>\n",
       "      <td>29.85</td>\n",
       "      <td>29.85</td>\n",
       "      <td>No</td>\n",
       "    </tr>\n",
       "    <tr>\n",
       "      <th>1</th>\n",
       "      <td>0</td>\n",
       "      <td>No</td>\n",
       "      <td>No</td>\n",
       "      <td>34</td>\n",
       "      <td>Yes</td>\n",
       "      <td>No</td>\n",
       "      <td>DSL</td>\n",
       "      <td>Yes</td>\n",
       "      <td>No</td>\n",
       "      <td>Yes</td>\n",
       "      <td>No</td>\n",
       "      <td>No</td>\n",
       "      <td>No</td>\n",
       "      <td>One year</td>\n",
       "      <td>No</td>\n",
       "      <td>Mailed check</td>\n",
       "      <td>56.95</td>\n",
       "      <td>1889.5</td>\n",
       "      <td>No</td>\n",
       "    </tr>\n",
       "    <tr>\n",
       "      <th>2</th>\n",
       "      <td>0</td>\n",
       "      <td>No</td>\n",
       "      <td>No</td>\n",
       "      <td>2</td>\n",
       "      <td>Yes</td>\n",
       "      <td>No</td>\n",
       "      <td>DSL</td>\n",
       "      <td>Yes</td>\n",
       "      <td>Yes</td>\n",
       "      <td>No</td>\n",
       "      <td>No</td>\n",
       "      <td>No</td>\n",
       "      <td>No</td>\n",
       "      <td>Month-to-month</td>\n",
       "      <td>Yes</td>\n",
       "      <td>Mailed check</td>\n",
       "      <td>53.85</td>\n",
       "      <td>108.15</td>\n",
       "      <td>Yes</td>\n",
       "    </tr>\n",
       "    <tr>\n",
       "      <th>3</th>\n",
       "      <td>0</td>\n",
       "      <td>No</td>\n",
       "      <td>No</td>\n",
       "      <td>45</td>\n",
       "      <td>No</td>\n",
       "      <td>No phone service</td>\n",
       "      <td>DSL</td>\n",
       "      <td>Yes</td>\n",
       "      <td>No</td>\n",
       "      <td>Yes</td>\n",
       "      <td>Yes</td>\n",
       "      <td>No</td>\n",
       "      <td>No</td>\n",
       "      <td>One year</td>\n",
       "      <td>No</td>\n",
       "      <td>Bank transfer (automatic)</td>\n",
       "      <td>42.30</td>\n",
       "      <td>1840.75</td>\n",
       "      <td>No</td>\n",
       "    </tr>\n",
       "    <tr>\n",
       "      <th>4</th>\n",
       "      <td>0</td>\n",
       "      <td>No</td>\n",
       "      <td>No</td>\n",
       "      <td>2</td>\n",
       "      <td>Yes</td>\n",
       "      <td>No</td>\n",
       "      <td>Fiber optic</td>\n",
       "      <td>No</td>\n",
       "      <td>No</td>\n",
       "      <td>No</td>\n",
       "      <td>No</td>\n",
       "      <td>No</td>\n",
       "      <td>No</td>\n",
       "      <td>Month-to-month</td>\n",
       "      <td>Yes</td>\n",
       "      <td>Electronic check</td>\n",
       "      <td>70.70</td>\n",
       "      <td>151.65</td>\n",
       "      <td>Yes</td>\n",
       "    </tr>\n",
       "  </tbody>\n",
       "</table>\n",
       "</div>"
      ],
      "text/plain": [
       "   SeniorCitizen Partner Dependents  tenure PhoneService     MultipleLines  \\\n",
       "0              0     Yes         No       1           No  No phone service   \n",
       "1              0      No         No      34          Yes                No   \n",
       "2              0      No         No       2          Yes                No   \n",
       "3              0      No         No      45           No  No phone service   \n",
       "4              0      No         No       2          Yes                No   \n",
       "\n",
       "  InternetService OnlineSecurity OnlineBackup DeviceProtection TechSupport  \\\n",
       "0             DSL             No          Yes               No          No   \n",
       "1             DSL            Yes           No              Yes          No   \n",
       "2             DSL            Yes          Yes               No          No   \n",
       "3             DSL            Yes           No              Yes         Yes   \n",
       "4     Fiber optic             No           No               No          No   \n",
       "\n",
       "  StreamingTV StreamingMovies        Contract PaperlessBilling  \\\n",
       "0          No              No  Month-to-month              Yes   \n",
       "1          No              No        One year               No   \n",
       "2          No              No  Month-to-month              Yes   \n",
       "3          No              No        One year               No   \n",
       "4          No              No  Month-to-month              Yes   \n",
       "\n",
       "               PaymentMethod  MonthlyCharges TotalCharges Churn  \n",
       "0           Electronic check           29.85        29.85    No  \n",
       "1               Mailed check           56.95       1889.5    No  \n",
       "2               Mailed check           53.85       108.15   Yes  \n",
       "3  Bank transfer (automatic)           42.30      1840.75    No  \n",
       "4           Electronic check           70.70       151.65   Yes  "
      ]
     },
     "execution_count": 12,
     "metadata": {},
     "output_type": "execute_result"
    }
   ],
   "source": [
    "df = df.drop([\"gender\"], axis = 1)\n",
    "df.head()"
   ]
  },
  {
   "cell_type": "code",
   "execution_count": null,
   "id": "63cad50b",
   "metadata": {},
   "outputs": [],
   "source": []
  },
  {
   "cell_type": "code",
   "execution_count": 13,
   "id": "e7a988cb",
   "metadata": {},
   "outputs": [
    {
     "data": {
      "text/html": [
       "<div>\n",
       "<style scoped>\n",
       "    .dataframe tbody tr th:only-of-type {\n",
       "        vertical-align: middle;\n",
       "    }\n",
       "\n",
       "    .dataframe tbody tr th {\n",
       "        vertical-align: top;\n",
       "    }\n",
       "\n",
       "    .dataframe thead th {\n",
       "        text-align: right;\n",
       "    }\n",
       "</style>\n",
       "<table border=\"1\" class=\"dataframe\">\n",
       "  <thead>\n",
       "    <tr style=\"text-align: right;\">\n",
       "      <th>SeniorCitizen</th>\n",
       "      <th>0</th>\n",
       "      <th>1</th>\n",
       "      <th>All</th>\n",
       "    </tr>\n",
       "    <tr>\n",
       "      <th>Churn</th>\n",
       "      <th></th>\n",
       "      <th></th>\n",
       "      <th></th>\n",
       "    </tr>\n",
       "  </thead>\n",
       "  <tbody>\n",
       "    <tr>\n",
       "      <th>No</th>\n",
       "      <td>4508</td>\n",
       "      <td>666</td>\n",
       "      <td>5174</td>\n",
       "    </tr>\n",
       "    <tr>\n",
       "      <th>Yes</th>\n",
       "      <td>1393</td>\n",
       "      <td>476</td>\n",
       "      <td>1869</td>\n",
       "    </tr>\n",
       "    <tr>\n",
       "      <th>All</th>\n",
       "      <td>5901</td>\n",
       "      <td>1142</td>\n",
       "      <td>7043</td>\n",
       "    </tr>\n",
       "  </tbody>\n",
       "</table>\n",
       "</div>"
      ],
      "text/plain": [
       "SeniorCitizen     0     1   All\n",
       "Churn                          \n",
       "No             4508   666  5174\n",
       "Yes            1393   476  1869\n",
       "All            5901  1142  7043"
      ]
     },
     "execution_count": 13,
     "metadata": {},
     "output_type": "execute_result"
    }
   ],
   "source": [
    "pd.crosstab(df['Churn'], df['SeniorCitizen'], margins=True)"
   ]
  },
  {
   "cell_type": "code",
   "execution_count": 14,
   "id": "3649cec0",
   "metadata": {},
   "outputs": [
    {
     "data": {
      "text/plain": [
       "<AxesSubplot:xlabel='SeniorCitizen', ylabel='count'>"
      ]
     },
     "execution_count": 14,
     "metadata": {},
     "output_type": "execute_result"
    },
    {
     "data": {
      "image/png": "[encoded data removed]",
      "text/plain": [
       "<Figure size 432x288 with 1 Axes>"
      ]
     },
     "metadata": {
      "needs_background": "light"
     },
     "output_type": "display_data"
    }
   ],
   "source": [
    "sns.countplot(x='SeniorCitizen',  hue='Churn', data=df)"
   ]
  },
  {
   "cell_type": "code",
   "execution_count": 15,
   "id": "4fee3940",
   "metadata": {},
   "outputs": [],
   "source": [
    "#большинство клиентов компании не пенсионеры и не склонны к уходу от услуг.Среди пенсионеров доля ушедших уже побольше."
   ]
  },
  {
   "cell_type": "code",
   "execution_count": null,
   "id": "a8226497",
   "metadata": {},
   "outputs": [],
   "source": []
  },
  {
   "cell_type": "code",
   "execution_count": 16,
   "id": "1811b244",
   "metadata": {},
   "outputs": [
    {
     "data": {
      "text/html": [
       "<div>\n",
       "<style scoped>\n",
       "    .dataframe tbody tr th:only-of-type {\n",
       "        vertical-align: middle;\n",
       "    }\n",
       "\n",
       "    .dataframe tbody tr th {\n",
       "        vertical-align: top;\n",
       "    }\n",
       "\n",
       "    .dataframe thead th {\n",
       "        text-align: right;\n",
       "    }\n",
       "</style>\n",
       "<table border=\"1\" class=\"dataframe\">\n",
       "  <thead>\n",
       "    <tr style=\"text-align: right;\">\n",
       "      <th>Partner</th>\n",
       "      <th>No</th>\n",
       "      <th>Yes</th>\n",
       "      <th>All</th>\n",
       "    </tr>\n",
       "    <tr>\n",
       "      <th>Churn</th>\n",
       "      <th></th>\n",
       "      <th></th>\n",
       "      <th></th>\n",
       "    </tr>\n",
       "  </thead>\n",
       "  <tbody>\n",
       "    <tr>\n",
       "      <th>No</th>\n",
       "      <td>2441</td>\n",
       "      <td>2733</td>\n",
       "      <td>5174</td>\n",
       "    </tr>\n",
       "    <tr>\n",
       "      <th>Yes</th>\n",
       "      <td>1200</td>\n",
       "      <td>669</td>\n",
       "      <td>1869</td>\n",
       "    </tr>\n",
       "    <tr>\n",
       "      <th>All</th>\n",
       "      <td>3641</td>\n",
       "      <td>3402</td>\n",
       "      <td>7043</td>\n",
       "    </tr>\n",
       "  </tbody>\n",
       "</table>\n",
       "</div>"
      ],
      "text/plain": [
       "Partner    No   Yes   All\n",
       "Churn                    \n",
       "No       2441  2733  5174\n",
       "Yes      1200   669  1869\n",
       "All      3641  3402  7043"
      ]
     },
     "execution_count": 16,
     "metadata": {},
     "output_type": "execute_result"
    }
   ],
   "source": [
    "pd.crosstab(df['Churn'], df['Partner'], margins=True)"
   ]
  },
  {
   "cell_type": "code",
   "execution_count": 17,
   "id": "0befdf0d",
   "metadata": {},
   "outputs": [
    {
     "data": {
      "text/plain": [
       "<AxesSubplot:xlabel='Partner', ylabel='count'>"
      ]
     },
     "execution_count": 17,
     "metadata": {},
     "output_type": "execute_result"
    },
    {
     "data": {
      "image/png": "[encoded data removed]",
      "text/plain": [
       "<Figure size 432x288 with 1 Axes>"
      ]
     },
     "metadata": {
      "needs_background": "light"
     },
     "output_type": "display_data"
    }
   ],
   "source": [
    "sns.countplot(x='Partner', hue='Churn', data=df)"
   ]
  },
  {
   "cell_type": "code",
   "execution_count": 18,
   "id": "fa1a48e4",
   "metadata": {},
   "outputs": [],
   "source": [
    "#При отсутсвии партнера склонность к уходу выше."
   ]
  },
  {
   "cell_type": "code",
   "execution_count": null,
   "id": "0625a129",
   "metadata": {},
   "outputs": [],
   "source": []
  },
  {
   "cell_type": "code",
   "execution_count": 19,
   "id": "5a051074",
   "metadata": {},
   "outputs": [
    {
     "data": {
      "text/html": [
       "<div>\n",
       "<style scoped>\n",
       "    .dataframe tbody tr th:only-of-type {\n",
       "        vertical-align: middle;\n",
       "    }\n",
       "\n",
       "    .dataframe tbody tr th {\n",
       "        vertical-align: top;\n",
       "    }\n",
       "\n",
       "    .dataframe thead th {\n",
       "        text-align: right;\n",
       "    }\n",
       "</style>\n",
       "<table border=\"1\" class=\"dataframe\">\n",
       "  <thead>\n",
       "    <tr style=\"text-align: right;\">\n",
       "      <th>Dependents</th>\n",
       "      <th>No</th>\n",
       "      <th>Yes</th>\n",
       "      <th>All</th>\n",
       "    </tr>\n",
       "    <tr>\n",
       "      <th>Churn</th>\n",
       "      <th></th>\n",
       "      <th></th>\n",
       "      <th></th>\n",
       "    </tr>\n",
       "  </thead>\n",
       "  <tbody>\n",
       "    <tr>\n",
       "      <th>No</th>\n",
       "      <td>3390</td>\n",
       "      <td>1784</td>\n",
       "      <td>5174</td>\n",
       "    </tr>\n",
       "    <tr>\n",
       "      <th>Yes</th>\n",
       "      <td>1543</td>\n",
       "      <td>326</td>\n",
       "      <td>1869</td>\n",
       "    </tr>\n",
       "    <tr>\n",
       "      <th>All</th>\n",
       "      <td>4933</td>\n",
       "      <td>2110</td>\n",
       "      <td>7043</td>\n",
       "    </tr>\n",
       "  </tbody>\n",
       "</table>\n",
       "</div>"
      ],
      "text/plain": [
       "Dependents    No   Yes   All\n",
       "Churn                       \n",
       "No          3390  1784  5174\n",
       "Yes         1543   326  1869\n",
       "All         4933  2110  7043"
      ]
     },
     "execution_count": 19,
     "metadata": {},
     "output_type": "execute_result"
    }
   ],
   "source": [
    "pd.crosstab(df['Churn'], df['Dependents'], margins=True)"
   ]
  },
  {
   "cell_type": "code",
   "execution_count": 20,
   "id": "367c44d2",
   "metadata": {},
   "outputs": [
    {
     "data": {
      "text/plain": [
       "<AxesSubplot:xlabel='Dependents', ylabel='count'>"
      ]
     },
     "execution_count": 20,
     "metadata": {},
     "output_type": "execute_result"
    },
    {
     "data": {
      "image/png": "[encoded data removed]",
      "text/plain": [
       "<Figure size 432x288 with 1 Axes>"
      ]
     },
     "metadata": {
      "needs_background": "light"
     },
     "output_type": "display_data"
    }
   ],
   "source": [
    "sns.countplot(x='Dependents', hue='Churn', data=df)"
   ]
  },
  {
   "cell_type": "code",
   "execution_count": 21,
   "id": "ecc00412",
   "metadata": {},
   "outputs": [],
   "source": [
    "#Большинство абонентов не имеют иждивенцов. Имеющие иждевенцев менее склонны от ухода от услуг."
   ]
  },
  {
   "cell_type": "code",
   "execution_count": null,
   "id": "c1ea16cb",
   "metadata": {},
   "outputs": [],
   "source": []
  },
  {
   "cell_type": "code",
   "execution_count": 22,
   "id": "a34a7ecc",
   "metadata": {},
   "outputs": [
    {
     "data": {
      "text/html": [
       "<div>\n",
       "<style scoped>\n",
       "    .dataframe tbody tr th:only-of-type {\n",
       "        vertical-align: middle;\n",
       "    }\n",
       "\n",
       "    .dataframe tbody tr th {\n",
       "        vertical-align: top;\n",
       "    }\n",
       "\n",
       "    .dataframe thead th {\n",
       "        text-align: right;\n",
       "    }\n",
       "</style>\n",
       "<table border=\"1\" class=\"dataframe\">\n",
       "  <thead>\n",
       "    <tr style=\"text-align: right;\">\n",
       "      <th>PhoneService</th>\n",
       "      <th>No</th>\n",
       "      <th>Yes</th>\n",
       "      <th>All</th>\n",
       "    </tr>\n",
       "    <tr>\n",
       "      <th>Churn</th>\n",
       "      <th></th>\n",
       "      <th></th>\n",
       "      <th></th>\n",
       "    </tr>\n",
       "  </thead>\n",
       "  <tbody>\n",
       "    <tr>\n",
       "      <th>No</th>\n",
       "      <td>512</td>\n",
       "      <td>4662</td>\n",
       "      <td>5174</td>\n",
       "    </tr>\n",
       "    <tr>\n",
       "      <th>Yes</th>\n",
       "      <td>170</td>\n",
       "      <td>1699</td>\n",
       "      <td>1869</td>\n",
       "    </tr>\n",
       "    <tr>\n",
       "      <th>All</th>\n",
       "      <td>682</td>\n",
       "      <td>6361</td>\n",
       "      <td>7043</td>\n",
       "    </tr>\n",
       "  </tbody>\n",
       "</table>\n",
       "</div>"
      ],
      "text/plain": [
       "PhoneService   No   Yes   All\n",
       "Churn                        \n",
       "No            512  4662  5174\n",
       "Yes           170  1699  1869\n",
       "All           682  6361  7043"
      ]
     },
     "execution_count": 22,
     "metadata": {},
     "output_type": "execute_result"
    }
   ],
   "source": [
    "pd.crosstab(df['Churn'], df['PhoneService'], margins=True)"
   ]
  },
  {
   "cell_type": "code",
   "execution_count": 23,
   "id": "96ab2c97",
   "metadata": {},
   "outputs": [
    {
     "data": {
      "text/plain": [
       "<AxesSubplot:xlabel='PhoneService', ylabel='count'>"
      ]
     },
     "execution_count": 23,
     "metadata": {},
     "output_type": "execute_result"
    },
    {
     "data": {
      "image/png": "[encoded data removed]",
      "text/plain": [
       "<Figure size 432x288 with 1 Axes>"
      ]
     },
     "metadata": {
      "needs_background": "light"
     },
     "output_type": "display_data"
    }
   ],
   "source": [
    "sns.countplot(x='PhoneService', hue='Churn', data=df)"
   ]
  },
  {
   "cell_type": "code",
   "execution_count": 24,
   "id": "859c2f17",
   "metadata": {},
   "outputs": [],
   "source": [
    "#Большинство клиентов имеют также услуги телефонной связи."
   ]
  },
  {
   "cell_type": "code",
   "execution_count": null,
   "id": "7d55e065",
   "metadata": {},
   "outputs": [],
   "source": []
  },
  {
   "cell_type": "code",
   "execution_count": 25,
   "id": "b3acdab6",
   "metadata": {},
   "outputs": [
    {
     "data": {
      "text/html": [
       "<div>\n",
       "<style scoped>\n",
       "    .dataframe tbody tr th:only-of-type {\n",
       "        vertical-align: middle;\n",
       "    }\n",
       "\n",
       "    .dataframe tbody tr th {\n",
       "        vertical-align: top;\n",
       "    }\n",
       "\n",
       "    .dataframe thead th {\n",
       "        text-align: right;\n",
       "    }\n",
       "</style>\n",
       "<table border=\"1\" class=\"dataframe\">\n",
       "  <thead>\n",
       "    <tr style=\"text-align: right;\">\n",
       "      <th>MultipleLines</th>\n",
       "      <th>No</th>\n",
       "      <th>No phone service</th>\n",
       "      <th>Yes</th>\n",
       "      <th>All</th>\n",
       "    </tr>\n",
       "    <tr>\n",
       "      <th>Churn</th>\n",
       "      <th></th>\n",
       "      <th></th>\n",
       "      <th></th>\n",
       "      <th></th>\n",
       "    </tr>\n",
       "  </thead>\n",
       "  <tbody>\n",
       "    <tr>\n",
       "      <th>No</th>\n",
       "      <td>2541</td>\n",
       "      <td>512</td>\n",
       "      <td>2121</td>\n",
       "      <td>5174</td>\n",
       "    </tr>\n",
       "    <tr>\n",
       "      <th>Yes</th>\n",
       "      <td>849</td>\n",
       "      <td>170</td>\n",
       "      <td>850</td>\n",
       "      <td>1869</td>\n",
       "    </tr>\n",
       "    <tr>\n",
       "      <th>All</th>\n",
       "      <td>3390</td>\n",
       "      <td>682</td>\n",
       "      <td>2971</td>\n",
       "      <td>7043</td>\n",
       "    </tr>\n",
       "  </tbody>\n",
       "</table>\n",
       "</div>"
      ],
      "text/plain": [
       "MultipleLines    No  No phone service   Yes   All\n",
       "Churn                                            \n",
       "No             2541               512  2121  5174\n",
       "Yes             849               170   850  1869\n",
       "All            3390               682  2971  7043"
      ]
     },
     "execution_count": 25,
     "metadata": {},
     "output_type": "execute_result"
    }
   ],
   "source": [
    "pd.crosstab(df['Churn'], df['MultipleLines'], margins=True)"
   ]
  },
  {
   "cell_type": "code",
   "execution_count": 26,
   "id": "a1de67cd",
   "metadata": {},
   "outputs": [
    {
     "data": {
      "text/plain": [
       "<AxesSubplot:xlabel='MultipleLines', ylabel='count'>"
      ]
     },
     "execution_count": 26,
     "metadata": {},
     "output_type": "execute_result"
    },
    {
     "data": {
      "image/png": "[encoded data removed]",
      "text/plain": [
       "<Figure size 432x288 with 1 Axes>"
      ]
     },
     "metadata": {
      "needs_background": "light"
     },
     "output_type": "display_data"
    }
   ],
   "source": [
    "sns.countplot(x='MultipleLines', hue='Churn', data=df)"
   ]
  },
  {
   "cell_type": "code",
   "execution_count": 27,
   "id": "597a49bd",
   "metadata": {},
   "outputs": [],
   "source": [
    "#Отсюда, во-первых видно, что признак PhoneService также содержится в признаке MultipleLines (No phone service). Поэтому\n",
    "#от признака PhoneService можно смело избавляться.\n",
    "#Во-вторых из данных можно сделать вывод, что у большинства абонентов нет мультилинии, \n",
    "#а склонность к уходу при наличии или отсутствии мультилинии примерно одинакова."
   ]
  },
  {
   "cell_type": "code",
   "execution_count": 28,
   "id": "65a72068",
   "metadata": {},
   "outputs": [
    {
     "data": {
      "text/html": [
       "<div>\n",
       "<style scoped>\n",
       "    .dataframe tbody tr th:only-of-type {\n",
       "        vertical-align: middle;\n",
       "    }\n",
       "\n",
       "    .dataframe tbody tr th {\n",
       "        vertical-align: top;\n",
       "    }\n",
       "\n",
       "    .dataframe thead th {\n",
       "        text-align: right;\n",
       "    }\n",
       "</style>\n",
       "<table border=\"1\" class=\"dataframe\">\n",
       "  <thead>\n",
       "    <tr style=\"text-align: right;\">\n",
       "      <th></th>\n",
       "      <th>SeniorCitizen</th>\n",
       "      <th>Partner</th>\n",
       "      <th>Dependents</th>\n",
       "      <th>tenure</th>\n",
       "      <th>MultipleLines</th>\n",
       "      <th>InternetService</th>\n",
       "      <th>OnlineSecurity</th>\n",
       "      <th>OnlineBackup</th>\n",
       "      <th>DeviceProtection</th>\n",
       "      <th>TechSupport</th>\n",
       "      <th>StreamingTV</th>\n",
       "      <th>StreamingMovies</th>\n",
       "      <th>Contract</th>\n",
       "      <th>PaperlessBilling</th>\n",
       "      <th>PaymentMethod</th>\n",
       "      <th>MonthlyCharges</th>\n",
       "      <th>TotalCharges</th>\n",
       "      <th>Churn</th>\n",
       "    </tr>\n",
       "  </thead>\n",
       "  <tbody>\n",
       "    <tr>\n",
       "      <th>0</th>\n",
       "      <td>0</td>\n",
       "      <td>Yes</td>\n",
       "      <td>No</td>\n",
       "      <td>1</td>\n",
       "      <td>No phone service</td>\n",
       "      <td>DSL</td>\n",
       "      <td>No</td>\n",
       "      <td>Yes</td>\n",
       "      <td>No</td>\n",
       "      <td>No</td>\n",
       "      <td>No</td>\n",
       "      <td>No</td>\n",
       "      <td>Month-to-month</td>\n",
       "      <td>Yes</td>\n",
       "      <td>Electronic check</td>\n",
       "      <td>29.85</td>\n",
       "      <td>29.85</td>\n",
       "      <td>No</td>\n",
       "    </tr>\n",
       "    <tr>\n",
       "      <th>1</th>\n",
       "      <td>0</td>\n",
       "      <td>No</td>\n",
       "      <td>No</td>\n",
       "      <td>34</td>\n",
       "      <td>No</td>\n",
       "      <td>DSL</td>\n",
       "      <td>Yes</td>\n",
       "      <td>No</td>\n",
       "      <td>Yes</td>\n",
       "      <td>No</td>\n",
       "      <td>No</td>\n",
       "      <td>No</td>\n",
       "      <td>One year</td>\n",
       "      <td>No</td>\n",
       "      <td>Mailed check</td>\n",
       "      <td>56.95</td>\n",
       "      <td>1889.5</td>\n",
       "      <td>No</td>\n",
       "    </tr>\n",
       "    <tr>\n",
       "      <th>2</th>\n",
       "      <td>0</td>\n",
       "      <td>No</td>\n",
       "      <td>No</td>\n",
       "      <td>2</td>\n",
       "      <td>No</td>\n",
       "      <td>DSL</td>\n",
       "      <td>Yes</td>\n",
       "      <td>Yes</td>\n",
       "      <td>No</td>\n",
       "      <td>No</td>\n",
       "      <td>No</td>\n",
       "      <td>No</td>\n",
       "      <td>Month-to-month</td>\n",
       "      <td>Yes</td>\n",
       "      <td>Mailed check</td>\n",
       "      <td>53.85</td>\n",
       "      <td>108.15</td>\n",
       "      <td>Yes</td>\n",
       "    </tr>\n",
       "    <tr>\n",
       "      <th>3</th>\n",
       "      <td>0</td>\n",
       "      <td>No</td>\n",
       "      <td>No</td>\n",
       "      <td>45</td>\n",
       "      <td>No phone service</td>\n",
       "      <td>DSL</td>\n",
       "      <td>Yes</td>\n",
       "      <td>No</td>\n",
       "      <td>Yes</td>\n",
       "      <td>Yes</td>\n",
       "      <td>No</td>\n",
       "      <td>No</td>\n",
       "      <td>One year</td>\n",
       "      <td>No</td>\n",
       "      <td>Bank transfer (automatic)</td>\n",
       "      <td>42.30</td>\n",
       "      <td>1840.75</td>\n",
       "      <td>No</td>\n",
       "    </tr>\n",
       "    <tr>\n",
       "      <th>4</th>\n",
       "      <td>0</td>\n",
       "      <td>No</td>\n",
       "      <td>No</td>\n",
       "      <td>2</td>\n",
       "      <td>No</td>\n",
       "      <td>Fiber optic</td>\n",
       "      <td>No</td>\n",
       "      <td>No</td>\n",
       "      <td>No</td>\n",
       "      <td>No</td>\n",
       "      <td>No</td>\n",
       "      <td>No</td>\n",
       "      <td>Month-to-month</td>\n",
       "      <td>Yes</td>\n",
       "      <td>Electronic check</td>\n",
       "      <td>70.70</td>\n",
       "      <td>151.65</td>\n",
       "      <td>Yes</td>\n",
       "    </tr>\n",
       "  </tbody>\n",
       "</table>\n",
       "</div>"
      ],
      "text/plain": [
       "   SeniorCitizen Partner Dependents  tenure     MultipleLines InternetService  \\\n",
       "0              0     Yes         No       1  No phone service             DSL   \n",
       "1              0      No         No      34                No             DSL   \n",
       "2              0      No         No       2                No             DSL   \n",
       "3              0      No         No      45  No phone service             DSL   \n",
       "4              0      No         No       2                No     Fiber optic   \n",
       "\n",
       "  OnlineSecurity OnlineBackup DeviceProtection TechSupport StreamingTV  \\\n",
       "0             No          Yes               No          No          No   \n",
       "1            Yes           No              Yes          No          No   \n",
       "2            Yes          Yes               No          No          No   \n",
       "3            Yes           No              Yes         Yes          No   \n",
       "4             No           No               No          No          No   \n",
       "\n",
       "  StreamingMovies        Contract PaperlessBilling              PaymentMethod  \\\n",
       "0              No  Month-to-month              Yes           Electronic check   \n",
       "1              No        One year               No               Mailed check   \n",
       "2              No  Month-to-month              Yes               Mailed check   \n",
       "3              No        One year               No  Bank transfer (automatic)   \n",
       "4              No  Month-to-month              Yes           Electronic check   \n",
       "\n",
       "   MonthlyCharges TotalCharges Churn  \n",
       "0           29.85        29.85    No  \n",
       "1           56.95       1889.5    No  \n",
       "2           53.85       108.15   Yes  \n",
       "3           42.30      1840.75    No  \n",
       "4           70.70       151.65   Yes  "
      ]
     },
     "execution_count": 28,
     "metadata": {},
     "output_type": "execute_result"
    }
   ],
   "source": [
    "df = df.drop([\"PhoneService\"], axis = 1)\n",
    "df.head()"
   ]
  },
  {
   "cell_type": "code",
   "execution_count": null,
   "id": "3bd2e9be",
   "metadata": {},
   "outputs": [],
   "source": []
  },
  {
   "cell_type": "code",
   "execution_count": 29,
   "id": "a9c9e63c",
   "metadata": {},
   "outputs": [
    {
     "data": {
      "text/html": [
       "<div>\n",
       "<style scoped>\n",
       "    .dataframe tbody tr th:only-of-type {\n",
       "        vertical-align: middle;\n",
       "    }\n",
       "\n",
       "    .dataframe tbody tr th {\n",
       "        vertical-align: top;\n",
       "    }\n",
       "\n",
       "    .dataframe thead th {\n",
       "        text-align: right;\n",
       "    }\n",
       "</style>\n",
       "<table border=\"1\" class=\"dataframe\">\n",
       "  <thead>\n",
       "    <tr style=\"text-align: right;\">\n",
       "      <th>InternetService</th>\n",
       "      <th>DSL</th>\n",
       "      <th>Fiber optic</th>\n",
       "      <th>No</th>\n",
       "      <th>All</th>\n",
       "    </tr>\n",
       "    <tr>\n",
       "      <th>Churn</th>\n",
       "      <th></th>\n",
       "      <th></th>\n",
       "      <th></th>\n",
       "      <th></th>\n",
       "    </tr>\n",
       "  </thead>\n",
       "  <tbody>\n",
       "    <tr>\n",
       "      <th>No</th>\n",
       "      <td>1962</td>\n",
       "      <td>1799</td>\n",
       "      <td>1413</td>\n",
       "      <td>5174</td>\n",
       "    </tr>\n",
       "    <tr>\n",
       "      <th>Yes</th>\n",
       "      <td>459</td>\n",
       "      <td>1297</td>\n",
       "      <td>113</td>\n",
       "      <td>1869</td>\n",
       "    </tr>\n",
       "    <tr>\n",
       "      <th>All</th>\n",
       "      <td>2421</td>\n",
       "      <td>3096</td>\n",
       "      <td>1526</td>\n",
       "      <td>7043</td>\n",
       "    </tr>\n",
       "  </tbody>\n",
       "</table>\n",
       "</div>"
      ],
      "text/plain": [
       "InternetService   DSL  Fiber optic    No   All\n",
       "Churn                                         \n",
       "No               1962         1799  1413  5174\n",
       "Yes               459         1297   113  1869\n",
       "All              2421         3096  1526  7043"
      ]
     },
     "execution_count": 29,
     "metadata": {},
     "output_type": "execute_result"
    }
   ],
   "source": [
    "pd.crosstab(df['Churn'], df['InternetService'], margins=True)"
   ]
  },
  {
   "cell_type": "code",
   "execution_count": 30,
   "id": "f0eb41bb",
   "metadata": {},
   "outputs": [
    {
     "data": {
      "text/plain": [
       "<AxesSubplot:xlabel='InternetService', ylabel='count'>"
      ]
     },
     "execution_count": 30,
     "metadata": {},
     "output_type": "execute_result"
    },
    {
     "data": {
      "image/png": "[encoded data removed]",
      "text/plain": [
       "<Figure size 432x288 with 1 Axes>"
      ]
     },
     "metadata": {
      "needs_background": "light"
     },
     "output_type": "display_data"
    }
   ],
   "source": [
    "sns.countplot(x='InternetService', hue='Churn', data=df)"
   ]
  },
  {
   "cell_type": "code",
   "execution_count": 31,
   "id": "536c8b34",
   "metadata": {},
   "outputs": [],
   "source": [
    "#Больше склонны к уходу клиенты, подключенные по Fiber optic."
   ]
  },
  {
   "cell_type": "code",
   "execution_count": null,
   "id": "8ddf4248",
   "metadata": {},
   "outputs": [],
   "source": []
  },
  {
   "cell_type": "code",
   "execution_count": 32,
   "id": "b6bd37c6",
   "metadata": {},
   "outputs": [
    {
     "data": {
      "text/html": [
       "<div>\n",
       "<style scoped>\n",
       "    .dataframe tbody tr th:only-of-type {\n",
       "        vertical-align: middle;\n",
       "    }\n",
       "\n",
       "    .dataframe tbody tr th {\n",
       "        vertical-align: top;\n",
       "    }\n",
       "\n",
       "    .dataframe thead th {\n",
       "        text-align: right;\n",
       "    }\n",
       "</style>\n",
       "<table border=\"1\" class=\"dataframe\">\n",
       "  <thead>\n",
       "    <tr style=\"text-align: right;\">\n",
       "      <th>OnlineSecurity</th>\n",
       "      <th>No</th>\n",
       "      <th>No internet service</th>\n",
       "      <th>Yes</th>\n",
       "      <th>All</th>\n",
       "    </tr>\n",
       "    <tr>\n",
       "      <th>Churn</th>\n",
       "      <th></th>\n",
       "      <th></th>\n",
       "      <th></th>\n",
       "      <th></th>\n",
       "    </tr>\n",
       "  </thead>\n",
       "  <tbody>\n",
       "    <tr>\n",
       "      <th>No</th>\n",
       "      <td>2037</td>\n",
       "      <td>1413</td>\n",
       "      <td>1724</td>\n",
       "      <td>5174</td>\n",
       "    </tr>\n",
       "    <tr>\n",
       "      <th>Yes</th>\n",
       "      <td>1461</td>\n",
       "      <td>113</td>\n",
       "      <td>295</td>\n",
       "      <td>1869</td>\n",
       "    </tr>\n",
       "    <tr>\n",
       "      <th>All</th>\n",
       "      <td>3498</td>\n",
       "      <td>1526</td>\n",
       "      <td>2019</td>\n",
       "      <td>7043</td>\n",
       "    </tr>\n",
       "  </tbody>\n",
       "</table>\n",
       "</div>"
      ],
      "text/plain": [
       "OnlineSecurity    No  No internet service   Yes   All\n",
       "Churn                                                \n",
       "No              2037                 1413  1724  5174\n",
       "Yes             1461                  113   295  1869\n",
       "All             3498                 1526  2019  7043"
      ]
     },
     "execution_count": 32,
     "metadata": {},
     "output_type": "execute_result"
    }
   ],
   "source": [
    "pd.crosstab(df['Churn'], df['OnlineSecurity'], margins=True)"
   ]
  },
  {
   "cell_type": "code",
   "execution_count": 33,
   "id": "85222f99",
   "metadata": {},
   "outputs": [
    {
     "data": {
      "text/plain": [
       "<AxesSubplot:xlabel='OnlineSecurity', ylabel='count'>"
      ]
     },
     "execution_count": 33,
     "metadata": {},
     "output_type": "execute_result"
    },
    {
     "data": {
      "image/png": "[encoded data removed]",
      "text/plain": [
       "<Figure size 432x288 with 1 Axes>"
      ]
     },
     "metadata": {
      "needs_background": "light"
     },
     "output_type": "display_data"
    }
   ],
   "source": [
    "sns.countplot(x='OnlineSecurity', hue='Churn', data=df)"
   ]
  },
  {
   "cell_type": "code",
   "execution_count": 34,
   "id": "74368e04",
   "metadata": {},
   "outputs": [
    {
     "data": {
      "text/html": [
       "<div>\n",
       "<style scoped>\n",
       "    .dataframe tbody tr th:only-of-type {\n",
       "        vertical-align: middle;\n",
       "    }\n",
       "\n",
       "    .dataframe tbody tr th {\n",
       "        vertical-align: top;\n",
       "    }\n",
       "\n",
       "    .dataframe thead th {\n",
       "        text-align: right;\n",
       "    }\n",
       "</style>\n",
       "<table border=\"1\" class=\"dataframe\">\n",
       "  <thead>\n",
       "    <tr style=\"text-align: right;\">\n",
       "      <th>OnlineBackup</th>\n",
       "      <th>No</th>\n",
       "      <th>No internet service</th>\n",
       "      <th>Yes</th>\n",
       "      <th>All</th>\n",
       "    </tr>\n",
       "    <tr>\n",
       "      <th>Churn</th>\n",
       "      <th></th>\n",
       "      <th></th>\n",
       "      <th></th>\n",
       "      <th></th>\n",
       "    </tr>\n",
       "  </thead>\n",
       "  <tbody>\n",
       "    <tr>\n",
       "      <th>No</th>\n",
       "      <td>1855</td>\n",
       "      <td>1413</td>\n",
       "      <td>1906</td>\n",
       "      <td>5174</td>\n",
       "    </tr>\n",
       "    <tr>\n",
       "      <th>Yes</th>\n",
       "      <td>1233</td>\n",
       "      <td>113</td>\n",
       "      <td>523</td>\n",
       "      <td>1869</td>\n",
       "    </tr>\n",
       "    <tr>\n",
       "      <th>All</th>\n",
       "      <td>3088</td>\n",
       "      <td>1526</td>\n",
       "      <td>2429</td>\n",
       "      <td>7043</td>\n",
       "    </tr>\n",
       "  </tbody>\n",
       "</table>\n",
       "</div>"
      ],
      "text/plain": [
       "OnlineBackup    No  No internet service   Yes   All\n",
       "Churn                                              \n",
       "No            1855                 1413  1906  5174\n",
       "Yes           1233                  113   523  1869\n",
       "All           3088                 1526  2429  7043"
      ]
     },
     "execution_count": 34,
     "metadata": {},
     "output_type": "execute_result"
    }
   ],
   "source": [
    "pd.crosstab(df['Churn'], df['OnlineBackup'], margins=True)"
   ]
  },
  {
   "cell_type": "code",
   "execution_count": 35,
   "id": "9aa06118",
   "metadata": {},
   "outputs": [
    {
     "data": {
      "text/plain": [
       "<AxesSubplot:xlabel='OnlineBackup', ylabel='count'>"
      ]
     },
     "execution_count": 35,
     "metadata": {},
     "output_type": "execute_result"
    },
    {
     "data": {
      "image/png": "[encoded data removed]",
      "text/plain": [
       "<Figure size 432x288 with 1 Axes>"
      ]
     },
     "metadata": {
      "needs_background": "light"
     },
     "output_type": "display_data"
    }
   ],
   "source": [
    "sns.countplot(x='OnlineBackup', hue='Churn', data=df)"
   ]
  },
  {
   "cell_type": "code",
   "execution_count": 36,
   "id": "c0424a4e",
   "metadata": {},
   "outputs": [
    {
     "data": {
      "text/html": [
       "<div>\n",
       "<style scoped>\n",
       "    .dataframe tbody tr th:only-of-type {\n",
       "        vertical-align: middle;\n",
       "    }\n",
       "\n",
       "    .dataframe tbody tr th {\n",
       "        vertical-align: top;\n",
       "    }\n",
       "\n",
       "    .dataframe thead th {\n",
       "        text-align: right;\n",
       "    }\n",
       "</style>\n",
       "<table border=\"1\" class=\"dataframe\">\n",
       "  <thead>\n",
       "    <tr style=\"text-align: right;\">\n",
       "      <th>DeviceProtection</th>\n",
       "      <th>No</th>\n",
       "      <th>No internet service</th>\n",
       "      <th>Yes</th>\n",
       "      <th>All</th>\n",
       "    </tr>\n",
       "    <tr>\n",
       "      <th>Churn</th>\n",
       "      <th></th>\n",
       "      <th></th>\n",
       "      <th></th>\n",
       "      <th></th>\n",
       "    </tr>\n",
       "  </thead>\n",
       "  <tbody>\n",
       "    <tr>\n",
       "      <th>No</th>\n",
       "      <td>1884</td>\n",
       "      <td>1413</td>\n",
       "      <td>1877</td>\n",
       "      <td>5174</td>\n",
       "    </tr>\n",
       "    <tr>\n",
       "      <th>Yes</th>\n",
       "      <td>1211</td>\n",
       "      <td>113</td>\n",
       "      <td>545</td>\n",
       "      <td>1869</td>\n",
       "    </tr>\n",
       "    <tr>\n",
       "      <th>All</th>\n",
       "      <td>3095</td>\n",
       "      <td>1526</td>\n",
       "      <td>2422</td>\n",
       "      <td>7043</td>\n",
       "    </tr>\n",
       "  </tbody>\n",
       "</table>\n",
       "</div>"
      ],
      "text/plain": [
       "DeviceProtection    No  No internet service   Yes   All\n",
       "Churn                                                  \n",
       "No                1884                 1413  1877  5174\n",
       "Yes               1211                  113   545  1869\n",
       "All               3095                 1526  2422  7043"
      ]
     },
     "execution_count": 36,
     "metadata": {},
     "output_type": "execute_result"
    }
   ],
   "source": [
    "pd.crosstab(df['Churn'], df['DeviceProtection'], margins=True)"
   ]
  },
  {
   "cell_type": "code",
   "execution_count": 37,
   "id": "6a354875",
   "metadata": {},
   "outputs": [
    {
     "data": {
      "text/plain": [
       "<AxesSubplot:xlabel='DeviceProtection', ylabel='count'>"
      ]
     },
     "execution_count": 37,
     "metadata": {},
     "output_type": "execute_result"
    },
    {
     "data": {
      "image/png": "[encoded data removed]",
      "text/plain": [
       "<Figure size 432x288 with 1 Axes>"
      ]
     },
     "metadata": {
      "needs_background": "light"
     },
     "output_type": "display_data"
    }
   ],
   "source": [
    "sns.countplot(x='DeviceProtection', hue='Churn', data=df)"
   ]
  },
  {
   "cell_type": "code",
   "execution_count": 38,
   "id": "ebb889c3",
   "metadata": {},
   "outputs": [
    {
     "data": {
      "text/html": [
       "<div>\n",
       "<style scoped>\n",
       "    .dataframe tbody tr th:only-of-type {\n",
       "        vertical-align: middle;\n",
       "    }\n",
       "\n",
       "    .dataframe tbody tr th {\n",
       "        vertical-align: top;\n",
       "    }\n",
       "\n",
       "    .dataframe thead th {\n",
       "        text-align: right;\n",
       "    }\n",
       "</style>\n",
       "<table border=\"1\" class=\"dataframe\">\n",
       "  <thead>\n",
       "    <tr style=\"text-align: right;\">\n",
       "      <th>TechSupport</th>\n",
       "      <th>No</th>\n",
       "      <th>No internet service</th>\n",
       "      <th>Yes</th>\n",
       "      <th>All</th>\n",
       "    </tr>\n",
       "    <tr>\n",
       "      <th>Churn</th>\n",
       "      <th></th>\n",
       "      <th></th>\n",
       "      <th></th>\n",
       "      <th></th>\n",
       "    </tr>\n",
       "  </thead>\n",
       "  <tbody>\n",
       "    <tr>\n",
       "      <th>No</th>\n",
       "      <td>2027</td>\n",
       "      <td>1413</td>\n",
       "      <td>1734</td>\n",
       "      <td>5174</td>\n",
       "    </tr>\n",
       "    <tr>\n",
       "      <th>Yes</th>\n",
       "      <td>1446</td>\n",
       "      <td>113</td>\n",
       "      <td>310</td>\n",
       "      <td>1869</td>\n",
       "    </tr>\n",
       "    <tr>\n",
       "      <th>All</th>\n",
       "      <td>3473</td>\n",
       "      <td>1526</td>\n",
       "      <td>2044</td>\n",
       "      <td>7043</td>\n",
       "    </tr>\n",
       "  </tbody>\n",
       "</table>\n",
       "</div>"
      ],
      "text/plain": [
       "TechSupport    No  No internet service   Yes   All\n",
       "Churn                                             \n",
       "No           2027                 1413  1734  5174\n",
       "Yes          1446                  113   310  1869\n",
       "All          3473                 1526  2044  7043"
      ]
     },
     "execution_count": 38,
     "metadata": {},
     "output_type": "execute_result"
    }
   ],
   "source": [
    "pd.crosstab(df['Churn'], df['TechSupport'], margins=True)"
   ]
  },
  {
   "cell_type": "code",
   "execution_count": 39,
   "id": "07f23a7f",
   "metadata": {},
   "outputs": [
    {
     "data": {
      "text/plain": [
       "<AxesSubplot:xlabel='TechSupport', ylabel='count'>"
      ]
     },
     "execution_count": 39,
     "metadata": {},
     "output_type": "execute_result"
    },
    {
     "data": {
      "image/png": "[encoded data removed]",
      "text/plain": [
       "<Figure size 432x288 with 1 Axes>"
      ]
     },
     "metadata": {
      "needs_background": "light"
     },
     "output_type": "display_data"
    }
   ],
   "source": [
    "sns.countplot(x='TechSupport', hue='Churn', data=df)"
   ]
  },
  {
   "cell_type": "code",
   "execution_count": 40,
   "id": "5d38b090",
   "metadata": {},
   "outputs": [
    {
     "data": {
      "text/html": [
       "<div>\n",
       "<style scoped>\n",
       "    .dataframe tbody tr th:only-of-type {\n",
       "        vertical-align: middle;\n",
       "    }\n",
       "\n",
       "    .dataframe tbody tr th {\n",
       "        vertical-align: top;\n",
       "    }\n",
       "\n",
       "    .dataframe thead th {\n",
       "        text-align: right;\n",
       "    }\n",
       "</style>\n",
       "<table border=\"1\" class=\"dataframe\">\n",
       "  <thead>\n",
       "    <tr style=\"text-align: right;\">\n",
       "      <th>StreamingTV</th>\n",
       "      <th>No</th>\n",
       "      <th>No internet service</th>\n",
       "      <th>Yes</th>\n",
       "      <th>All</th>\n",
       "    </tr>\n",
       "    <tr>\n",
       "      <th>Churn</th>\n",
       "      <th></th>\n",
       "      <th></th>\n",
       "      <th></th>\n",
       "      <th></th>\n",
       "    </tr>\n",
       "  </thead>\n",
       "  <tbody>\n",
       "    <tr>\n",
       "      <th>No</th>\n",
       "      <td>1868</td>\n",
       "      <td>1413</td>\n",
       "      <td>1893</td>\n",
       "      <td>5174</td>\n",
       "    </tr>\n",
       "    <tr>\n",
       "      <th>Yes</th>\n",
       "      <td>942</td>\n",
       "      <td>113</td>\n",
       "      <td>814</td>\n",
       "      <td>1869</td>\n",
       "    </tr>\n",
       "    <tr>\n",
       "      <th>All</th>\n",
       "      <td>2810</td>\n",
       "      <td>1526</td>\n",
       "      <td>2707</td>\n",
       "      <td>7043</td>\n",
       "    </tr>\n",
       "  </tbody>\n",
       "</table>\n",
       "</div>"
      ],
      "text/plain": [
       "StreamingTV    No  No internet service   Yes   All\n",
       "Churn                                             \n",
       "No           1868                 1413  1893  5174\n",
       "Yes           942                  113   814  1869\n",
       "All          2810                 1526  2707  7043"
      ]
     },
     "execution_count": 40,
     "metadata": {},
     "output_type": "execute_result"
    }
   ],
   "source": [
    "pd.crosstab(df['Churn'], df['StreamingTV'], margins=True)"
   ]
  },
  {
   "cell_type": "code",
   "execution_count": 41,
   "id": "4f1b416f",
   "metadata": {},
   "outputs": [
    {
     "data": {
      "text/plain": [
       "<AxesSubplot:xlabel='StreamingTV', ylabel='count'>"
      ]
     },
     "execution_count": 41,
     "metadata": {},
     "output_type": "execute_result"
    },
    {
     "data": {
      "image/png": "[encoded data removed]",
      "text/plain": [
       "<Figure size 432x288 with 1 Axes>"
      ]
     },
     "metadata": {
      "needs_background": "light"
     },
     "output_type": "display_data"
    }
   ],
   "source": [
    "sns.countplot(x='StreamingTV', hue='Churn', data=df)"
   ]
  },
  {
   "cell_type": "code",
   "execution_count": 42,
   "id": "406d3c15",
   "metadata": {},
   "outputs": [
    {
     "data": {
      "text/html": [
       "<div>\n",
       "<style scoped>\n",
       "    .dataframe tbody tr th:only-of-type {\n",
       "        vertical-align: middle;\n",
       "    }\n",
       "\n",
       "    .dataframe tbody tr th {\n",
       "        vertical-align: top;\n",
       "    }\n",
       "\n",
       "    .dataframe thead th {\n",
       "        text-align: right;\n",
       "    }\n",
       "</style>\n",
       "<table border=\"1\" class=\"dataframe\">\n",
       "  <thead>\n",
       "    <tr style=\"text-align: right;\">\n",
       "      <th>StreamingMovies</th>\n",
       "      <th>No</th>\n",
       "      <th>No internet service</th>\n",
       "      <th>Yes</th>\n",
       "      <th>All</th>\n",
       "    </tr>\n",
       "    <tr>\n",
       "      <th>Churn</th>\n",
       "      <th></th>\n",
       "      <th></th>\n",
       "      <th></th>\n",
       "      <th></th>\n",
       "    </tr>\n",
       "  </thead>\n",
       "  <tbody>\n",
       "    <tr>\n",
       "      <th>No</th>\n",
       "      <td>1847</td>\n",
       "      <td>1413</td>\n",
       "      <td>1914</td>\n",
       "      <td>5174</td>\n",
       "    </tr>\n",
       "    <tr>\n",
       "      <th>Yes</th>\n",
       "      <td>938</td>\n",
       "      <td>113</td>\n",
       "      <td>818</td>\n",
       "      <td>1869</td>\n",
       "    </tr>\n",
       "    <tr>\n",
       "      <th>All</th>\n",
       "      <td>2785</td>\n",
       "      <td>1526</td>\n",
       "      <td>2732</td>\n",
       "      <td>7043</td>\n",
       "    </tr>\n",
       "  </tbody>\n",
       "</table>\n",
       "</div>"
      ],
      "text/plain": [
       "StreamingMovies    No  No internet service   Yes   All\n",
       "Churn                                                 \n",
       "No               1847                 1413  1914  5174\n",
       "Yes               938                  113   818  1869\n",
       "All              2785                 1526  2732  7043"
      ]
     },
     "execution_count": 42,
     "metadata": {},
     "output_type": "execute_result"
    }
   ],
   "source": [
    "pd.crosstab(df['Churn'], df['StreamingMovies'], margins=True)"
   ]
  },
  {
   "cell_type": "code",
   "execution_count": 43,
   "id": "db533886",
   "metadata": {},
   "outputs": [
    {
     "data": {
      "text/plain": [
       "<AxesSubplot:xlabel='StreamingMovies', ylabel='count'>"
      ]
     },
     "execution_count": 43,
     "metadata": {},
     "output_type": "execute_result"
    },
    {
     "data": {
      "image/png": "[encoded data removed]",
      "text/plain": [
       "<Figure size 432x288 with 1 Axes>"
      ]
     },
     "metadata": {
      "needs_background": "light"
     },
     "output_type": "display_data"
    }
   ],
   "source": [
    "sns.countplot(x='StreamingMovies', hue='Churn', data=df)"
   ]
  },
  {
   "cell_type": "code",
   "execution_count": 44,
   "id": "69fdc5e3",
   "metadata": {},
   "outputs": [],
   "source": [
    "#Распределения по цифрам практически аналогичны, поэтому один из признаков можно убрать."
   ]
  },
  {
   "cell_type": "code",
   "execution_count": 45,
   "id": "04fc0917",
   "metadata": {},
   "outputs": [
    {
     "data": {
      "text/html": [
       "<div>\n",
       "<style scoped>\n",
       "    .dataframe tbody tr th:only-of-type {\n",
       "        vertical-align: middle;\n",
       "    }\n",
       "\n",
       "    .dataframe tbody tr th {\n",
       "        vertical-align: top;\n",
       "    }\n",
       "\n",
       "    .dataframe thead th {\n",
       "        text-align: right;\n",
       "    }\n",
       "</style>\n",
       "<table border=\"1\" class=\"dataframe\">\n",
       "  <thead>\n",
       "    <tr style=\"text-align: right;\">\n",
       "      <th></th>\n",
       "      <th>SeniorCitizen</th>\n",
       "      <th>Partner</th>\n",
       "      <th>Dependents</th>\n",
       "      <th>tenure</th>\n",
       "      <th>MultipleLines</th>\n",
       "      <th>InternetService</th>\n",
       "      <th>OnlineSecurity</th>\n",
       "      <th>OnlineBackup</th>\n",
       "      <th>DeviceProtection</th>\n",
       "      <th>TechSupport</th>\n",
       "      <th>StreamingTV</th>\n",
       "      <th>Contract</th>\n",
       "      <th>PaperlessBilling</th>\n",
       "      <th>PaymentMethod</th>\n",
       "      <th>MonthlyCharges</th>\n",
       "      <th>TotalCharges</th>\n",
       "      <th>Churn</th>\n",
       "    </tr>\n",
       "  </thead>\n",
       "  <tbody>\n",
       "    <tr>\n",
       "      <th>0</th>\n",
       "      <td>0</td>\n",
       "      <td>Yes</td>\n",
       "      <td>No</td>\n",
       "      <td>1</td>\n",
       "      <td>No phone service</td>\n",
       "      <td>DSL</td>\n",
       "      <td>No</td>\n",
       "      <td>Yes</td>\n",
       "      <td>No</td>\n",
       "      <td>No</td>\n",
       "      <td>No</td>\n",
       "      <td>Month-to-month</td>\n",
       "      <td>Yes</td>\n",
       "      <td>Electronic check</td>\n",
       "      <td>29.85</td>\n",
       "      <td>29.85</td>\n",
       "      <td>No</td>\n",
       "    </tr>\n",
       "    <tr>\n",
       "      <th>1</th>\n",
       "      <td>0</td>\n",
       "      <td>No</td>\n",
       "      <td>No</td>\n",
       "      <td>34</td>\n",
       "      <td>No</td>\n",
       "      <td>DSL</td>\n",
       "      <td>Yes</td>\n",
       "      <td>No</td>\n",
       "      <td>Yes</td>\n",
       "      <td>No</td>\n",
       "      <td>No</td>\n",
       "      <td>One year</td>\n",
       "      <td>No</td>\n",
       "      <td>Mailed check</td>\n",
       "      <td>56.95</td>\n",
       "      <td>1889.5</td>\n",
       "      <td>No</td>\n",
       "    </tr>\n",
       "    <tr>\n",
       "      <th>2</th>\n",
       "      <td>0</td>\n",
       "      <td>No</td>\n",
       "      <td>No</td>\n",
       "      <td>2</td>\n",
       "      <td>No</td>\n",
       "      <td>DSL</td>\n",
       "      <td>Yes</td>\n",
       "      <td>Yes</td>\n",
       "      <td>No</td>\n",
       "      <td>No</td>\n",
       "      <td>No</td>\n",
       "      <td>Month-to-month</td>\n",
       "      <td>Yes</td>\n",
       "      <td>Mailed check</td>\n",
       "      <td>53.85</td>\n",
       "      <td>108.15</td>\n",
       "      <td>Yes</td>\n",
       "    </tr>\n",
       "    <tr>\n",
       "      <th>3</th>\n",
       "      <td>0</td>\n",
       "      <td>No</td>\n",
       "      <td>No</td>\n",
       "      <td>45</td>\n",
       "      <td>No phone service</td>\n",
       "      <td>DSL</td>\n",
       "      <td>Yes</td>\n",
       "      <td>No</td>\n",
       "      <td>Yes</td>\n",
       "      <td>Yes</td>\n",
       "      <td>No</td>\n",
       "      <td>One year</td>\n",
       "      <td>No</td>\n",
       "      <td>Bank transfer (automatic)</td>\n",
       "      <td>42.30</td>\n",
       "      <td>1840.75</td>\n",
       "      <td>No</td>\n",
       "    </tr>\n",
       "    <tr>\n",
       "      <th>4</th>\n",
       "      <td>0</td>\n",
       "      <td>No</td>\n",
       "      <td>No</td>\n",
       "      <td>2</td>\n",
       "      <td>No</td>\n",
       "      <td>Fiber optic</td>\n",
       "      <td>No</td>\n",
       "      <td>No</td>\n",
       "      <td>No</td>\n",
       "      <td>No</td>\n",
       "      <td>No</td>\n",
       "      <td>Month-to-month</td>\n",
       "      <td>Yes</td>\n",
       "      <td>Electronic check</td>\n",
       "      <td>70.70</td>\n",
       "      <td>151.65</td>\n",
       "      <td>Yes</td>\n",
       "    </tr>\n",
       "  </tbody>\n",
       "</table>\n",
       "</div>"
      ],
      "text/plain": [
       "   SeniorCitizen Partner Dependents  tenure     MultipleLines InternetService  \\\n",
       "0              0     Yes         No       1  No phone service             DSL   \n",
       "1              0      No         No      34                No             DSL   \n",
       "2              0      No         No       2                No             DSL   \n",
       "3              0      No         No      45  No phone service             DSL   \n",
       "4              0      No         No       2                No     Fiber optic   \n",
       "\n",
       "  OnlineSecurity OnlineBackup DeviceProtection TechSupport StreamingTV  \\\n",
       "0             No          Yes               No          No          No   \n",
       "1            Yes           No              Yes          No          No   \n",
       "2            Yes          Yes               No          No          No   \n",
       "3            Yes           No              Yes         Yes          No   \n",
       "4             No           No               No          No          No   \n",
       "\n",
       "         Contract PaperlessBilling              PaymentMethod  MonthlyCharges  \\\n",
       "0  Month-to-month              Yes           Electronic check           29.85   \n",
       "1        One year               No               Mailed check           56.95   \n",
       "2  Month-to-month              Yes               Mailed check           53.85   \n",
       "3        One year               No  Bank transfer (automatic)           42.30   \n",
       "4  Month-to-month              Yes           Electronic check           70.70   \n",
       "\n",
       "  TotalCharges Churn  \n",
       "0        29.85    No  \n",
       "1       1889.5    No  \n",
       "2       108.15   Yes  \n",
       "3      1840.75    No  \n",
       "4       151.65   Yes  "
      ]
     },
     "execution_count": 45,
     "metadata": {},
     "output_type": "execute_result"
    }
   ],
   "source": [
    "df = df.drop([\"StreamingMovies\"], axis = 1)\n",
    "df.head()"
   ]
  },
  {
   "cell_type": "code",
   "execution_count": null,
   "id": "00971c27",
   "metadata": {},
   "outputs": [],
   "source": []
  },
  {
   "cell_type": "code",
   "execution_count": 46,
   "id": "c6244eeb",
   "metadata": {},
   "outputs": [
    {
     "data": {
      "text/html": [
       "<div>\n",
       "<style scoped>\n",
       "    .dataframe tbody tr th:only-of-type {\n",
       "        vertical-align: middle;\n",
       "    }\n",
       "\n",
       "    .dataframe tbody tr th {\n",
       "        vertical-align: top;\n",
       "    }\n",
       "\n",
       "    .dataframe thead th {\n",
       "        text-align: right;\n",
       "    }\n",
       "</style>\n",
       "<table border=\"1\" class=\"dataframe\">\n",
       "  <thead>\n",
       "    <tr style=\"text-align: right;\">\n",
       "      <th>Contract</th>\n",
       "      <th>Month-to-month</th>\n",
       "      <th>One year</th>\n",
       "      <th>Two year</th>\n",
       "      <th>All</th>\n",
       "    </tr>\n",
       "    <tr>\n",
       "      <th>Churn</th>\n",
       "      <th></th>\n",
       "      <th></th>\n",
       "      <th></th>\n",
       "      <th></th>\n",
       "    </tr>\n",
       "  </thead>\n",
       "  <tbody>\n",
       "    <tr>\n",
       "      <th>No</th>\n",
       "      <td>2220</td>\n",
       "      <td>1307</td>\n",
       "      <td>1647</td>\n",
       "      <td>5174</td>\n",
       "    </tr>\n",
       "    <tr>\n",
       "      <th>Yes</th>\n",
       "      <td>1655</td>\n",
       "      <td>166</td>\n",
       "      <td>48</td>\n",
       "      <td>1869</td>\n",
       "    </tr>\n",
       "    <tr>\n",
       "      <th>All</th>\n",
       "      <td>3875</td>\n",
       "      <td>1473</td>\n",
       "      <td>1695</td>\n",
       "      <td>7043</td>\n",
       "    </tr>\n",
       "  </tbody>\n",
       "</table>\n",
       "</div>"
      ],
      "text/plain": [
       "Contract  Month-to-month  One year  Two year   All\n",
       "Churn                                             \n",
       "No                  2220      1307      1647  5174\n",
       "Yes                 1655       166        48  1869\n",
       "All                 3875      1473      1695  7043"
      ]
     },
     "execution_count": 46,
     "metadata": {},
     "output_type": "execute_result"
    }
   ],
   "source": [
    "pd.crosstab(df['Churn'], df['Contract'], margins=True)"
   ]
  },
  {
   "cell_type": "code",
   "execution_count": 47,
   "id": "2ddeb56c",
   "metadata": {},
   "outputs": [
    {
     "data": {
      "text/plain": [
       "<AxesSubplot:xlabel='Contract', ylabel='count'>"
      ]
     },
     "execution_count": 47,
     "metadata": {},
     "output_type": "execute_result"
    },
    {
     "data": {
      "image/png": "[encoded data removed]",
      "text/plain": [
       "<Figure size 432x288 with 1 Axes>"
      ]
     },
     "metadata": {
      "needs_background": "light"
     },
     "output_type": "display_data"
    }
   ],
   "source": [
    "sns.countplot(x='Contract', hue='Churn', data=df)"
   ]
  },
  {
   "cell_type": "code",
   "execution_count": 48,
   "id": "239dc399",
   "metadata": {},
   "outputs": [],
   "source": [
    "#Чем на более длительный срок заключен контракт, тем меньше отток клиентов."
   ]
  },
  {
   "cell_type": "code",
   "execution_count": null,
   "id": "451f5889",
   "metadata": {},
   "outputs": [],
   "source": []
  },
  {
   "cell_type": "code",
   "execution_count": 49,
   "id": "225ecda1",
   "metadata": {},
   "outputs": [
    {
     "data": {
      "text/html": [
       "<div>\n",
       "<style scoped>\n",
       "    .dataframe tbody tr th:only-of-type {\n",
       "        vertical-align: middle;\n",
       "    }\n",
       "\n",
       "    .dataframe tbody tr th {\n",
       "        vertical-align: top;\n",
       "    }\n",
       "\n",
       "    .dataframe thead th {\n",
       "        text-align: right;\n",
       "    }\n",
       "</style>\n",
       "<table border=\"1\" class=\"dataframe\">\n",
       "  <thead>\n",
       "    <tr style=\"text-align: right;\">\n",
       "      <th>PaperlessBilling</th>\n",
       "      <th>No</th>\n",
       "      <th>Yes</th>\n",
       "      <th>All</th>\n",
       "    </tr>\n",
       "    <tr>\n",
       "      <th>Churn</th>\n",
       "      <th></th>\n",
       "      <th></th>\n",
       "      <th></th>\n",
       "    </tr>\n",
       "  </thead>\n",
       "  <tbody>\n",
       "    <tr>\n",
       "      <th>No</th>\n",
       "      <td>2403</td>\n",
       "      <td>2771</td>\n",
       "      <td>5174</td>\n",
       "    </tr>\n",
       "    <tr>\n",
       "      <th>Yes</th>\n",
       "      <td>469</td>\n",
       "      <td>1400</td>\n",
       "      <td>1869</td>\n",
       "    </tr>\n",
       "    <tr>\n",
       "      <th>All</th>\n",
       "      <td>2872</td>\n",
       "      <td>4171</td>\n",
       "      <td>7043</td>\n",
       "    </tr>\n",
       "  </tbody>\n",
       "</table>\n",
       "</div>"
      ],
      "text/plain": [
       "PaperlessBilling    No   Yes   All\n",
       "Churn                             \n",
       "No                2403  2771  5174\n",
       "Yes                469  1400  1869\n",
       "All               2872  4171  7043"
      ]
     },
     "execution_count": 49,
     "metadata": {},
     "output_type": "execute_result"
    }
   ],
   "source": [
    "pd.crosstab(df['Churn'], df['PaperlessBilling'], margins=True)"
   ]
  },
  {
   "cell_type": "code",
   "execution_count": 50,
   "id": "2f5a28c3",
   "metadata": {},
   "outputs": [
    {
     "data": {
      "text/plain": [
       "<AxesSubplot:xlabel='PaperlessBilling', ylabel='count'>"
      ]
     },
     "execution_count": 50,
     "metadata": {},
     "output_type": "execute_result"
    },
    {
     "data": {
      "image/png": "[encoded data removed]",
      "text/plain": [
       "<Figure size 432x288 with 1 Axes>"
      ]
     },
     "metadata": {
      "needs_background": "light"
     },
     "output_type": "display_data"
    }
   ],
   "source": [
    "sns.countplot(x='PaperlessBilling', hue='Churn', data=df)"
   ]
  },
  {
   "cell_type": "code",
   "execution_count": 51,
   "id": "39c1d941",
   "metadata": {},
   "outputs": [],
   "source": [
    "#Более высокий отток у клиентов, пользующиеся услугой \"Безбумажного выставления счетов\"."
   ]
  },
  {
   "cell_type": "code",
   "execution_count": null,
   "id": "1eefa36f",
   "metadata": {},
   "outputs": [],
   "source": []
  },
  {
   "cell_type": "code",
   "execution_count": 52,
   "id": "e1df05de",
   "metadata": {},
   "outputs": [
    {
     "data": {
      "text/html": [
       "<div>\n",
       "<style scoped>\n",
       "    .dataframe tbody tr th:only-of-type {\n",
       "        vertical-align: middle;\n",
       "    }\n",
       "\n",
       "    .dataframe tbody tr th {\n",
       "        vertical-align: top;\n",
       "    }\n",
       "\n",
       "    .dataframe thead th {\n",
       "        text-align: right;\n",
       "    }\n",
       "</style>\n",
       "<table border=\"1\" class=\"dataframe\">\n",
       "  <thead>\n",
       "    <tr style=\"text-align: right;\">\n",
       "      <th>PaymentMethod</th>\n",
       "      <th>Bank transfer (automatic)</th>\n",
       "      <th>Credit card (automatic)</th>\n",
       "      <th>Electronic check</th>\n",
       "      <th>Mailed check</th>\n",
       "      <th>All</th>\n",
       "    </tr>\n",
       "    <tr>\n",
       "      <th>Churn</th>\n",
       "      <th></th>\n",
       "      <th></th>\n",
       "      <th></th>\n",
       "      <th></th>\n",
       "      <th></th>\n",
       "    </tr>\n",
       "  </thead>\n",
       "  <tbody>\n",
       "    <tr>\n",
       "      <th>No</th>\n",
       "      <td>1286</td>\n",
       "      <td>1290</td>\n",
       "      <td>1294</td>\n",
       "      <td>1304</td>\n",
       "      <td>5174</td>\n",
       "    </tr>\n",
       "    <tr>\n",
       "      <th>Yes</th>\n",
       "      <td>258</td>\n",
       "      <td>232</td>\n",
       "      <td>1071</td>\n",
       "      <td>308</td>\n",
       "      <td>1869</td>\n",
       "    </tr>\n",
       "    <tr>\n",
       "      <th>All</th>\n",
       "      <td>1544</td>\n",
       "      <td>1522</td>\n",
       "      <td>2365</td>\n",
       "      <td>1612</td>\n",
       "      <td>7043</td>\n",
       "    </tr>\n",
       "  </tbody>\n",
       "</table>\n",
       "</div>"
      ],
      "text/plain": [
       "PaymentMethod  Bank transfer (automatic)  Credit card (automatic)  \\\n",
       "Churn                                                               \n",
       "No                                  1286                     1290   \n",
       "Yes                                  258                      232   \n",
       "All                                 1544                     1522   \n",
       "\n",
       "PaymentMethod  Electronic check  Mailed check   All  \n",
       "Churn                                                \n",
       "No                         1294          1304  5174  \n",
       "Yes                        1071           308  1869  \n",
       "All                        2365          1612  7043  "
      ]
     },
     "execution_count": 52,
     "metadata": {},
     "output_type": "execute_result"
    }
   ],
   "source": [
    "pd.crosstab(df['Churn'], df['PaymentMethod'], margins=True)"
   ]
  },
  {
   "cell_type": "code",
   "execution_count": 53,
   "id": "4aed80e1",
   "metadata": {},
   "outputs": [
    {
     "data": {
      "text/plain": [
       "<AxesSubplot:xlabel='PaymentMethod', ylabel='count'>"
      ]
     },
     "execution_count": 53,
     "metadata": {},
     "output_type": "execute_result"
    },
    {
     "data": {
      "image/png": "[encoded data removed]",
      "text/plain": [
       "<Figure size 432x288 with 1 Axes>"
      ]
     },
     "metadata": {
      "needs_background": "light"
     },
     "output_type": "display_data"
    }
   ],
   "source": [
    "sns.countplot(x='PaymentMethod', hue='Churn', data=df)"
   ]
  },
  {
   "cell_type": "code",
   "execution_count": 54,
   "id": "8c50d62a",
   "metadata": {},
   "outputs": [],
   "source": [
    "#Наибольший отток наблюдается у клиентов, получающих электронный чек."
   ]
  },
  {
   "cell_type": "code",
   "execution_count": 55,
   "id": "18501126",
   "metadata": {},
   "outputs": [],
   "source": [
    "#Также посмотрим на распределение числовых признаков в зависимости от целевого признака."
   ]
  },
  {
   "cell_type": "code",
   "execution_count": 56,
   "id": "4b121732",
   "metadata": {},
   "outputs": [
    {
     "data": {
      "text/html": [
       "<div>\n",
       "<style scoped>\n",
       "    .dataframe tbody tr th:only-of-type {\n",
       "        vertical-align: middle;\n",
       "    }\n",
       "\n",
       "    .dataframe tbody tr th {\n",
       "        vertical-align: top;\n",
       "    }\n",
       "\n",
       "    .dataframe thead th {\n",
       "        text-align: right;\n",
       "    }\n",
       "</style>\n",
       "<table border=\"1\" class=\"dataframe\">\n",
       "  <thead>\n",
       "    <tr style=\"text-align: right;\">\n",
       "      <th></th>\n",
       "      <th>SeniorCitizen</th>\n",
       "      <th>Partner</th>\n",
       "      <th>Dependents</th>\n",
       "      <th>tenure</th>\n",
       "      <th>MultipleLines</th>\n",
       "      <th>InternetService</th>\n",
       "      <th>OnlineSecurity</th>\n",
       "      <th>OnlineBackup</th>\n",
       "      <th>DeviceProtection</th>\n",
       "      <th>TechSupport</th>\n",
       "      <th>StreamingTV</th>\n",
       "      <th>Contract</th>\n",
       "      <th>PaperlessBilling</th>\n",
       "      <th>PaymentMethod</th>\n",
       "      <th>MonthlyCharges</th>\n",
       "      <th>TotalCharges</th>\n",
       "      <th>Churn</th>\n",
       "    </tr>\n",
       "  </thead>\n",
       "  <tbody>\n",
       "    <tr>\n",
       "      <th>0</th>\n",
       "      <td>0</td>\n",
       "      <td>Yes</td>\n",
       "      <td>No</td>\n",
       "      <td>1</td>\n",
       "      <td>No phone service</td>\n",
       "      <td>DSL</td>\n",
       "      <td>No</td>\n",
       "      <td>Yes</td>\n",
       "      <td>No</td>\n",
       "      <td>No</td>\n",
       "      <td>No</td>\n",
       "      <td>Month-to-month</td>\n",
       "      <td>Yes</td>\n",
       "      <td>Electronic check</td>\n",
       "      <td>29.85</td>\n",
       "      <td>29.85</td>\n",
       "      <td>No</td>\n",
       "    </tr>\n",
       "    <tr>\n",
       "      <th>1</th>\n",
       "      <td>0</td>\n",
       "      <td>No</td>\n",
       "      <td>No</td>\n",
       "      <td>34</td>\n",
       "      <td>No</td>\n",
       "      <td>DSL</td>\n",
       "      <td>Yes</td>\n",
       "      <td>No</td>\n",
       "      <td>Yes</td>\n",
       "      <td>No</td>\n",
       "      <td>No</td>\n",
       "      <td>One year</td>\n",
       "      <td>No</td>\n",
       "      <td>Mailed check</td>\n",
       "      <td>56.95</td>\n",
       "      <td>1889.5</td>\n",
       "      <td>No</td>\n",
       "    </tr>\n",
       "    <tr>\n",
       "      <th>2</th>\n",
       "      <td>0</td>\n",
       "      <td>No</td>\n",
       "      <td>No</td>\n",
       "      <td>2</td>\n",
       "      <td>No</td>\n",
       "      <td>DSL</td>\n",
       "      <td>Yes</td>\n",
       "      <td>Yes</td>\n",
       "      <td>No</td>\n",
       "      <td>No</td>\n",
       "      <td>No</td>\n",
       "      <td>Month-to-month</td>\n",
       "      <td>Yes</td>\n",
       "      <td>Mailed check</td>\n",
       "      <td>53.85</td>\n",
       "      <td>108.15</td>\n",
       "      <td>Yes</td>\n",
       "    </tr>\n",
       "    <tr>\n",
       "      <th>3</th>\n",
       "      <td>0</td>\n",
       "      <td>No</td>\n",
       "      <td>No</td>\n",
       "      <td>45</td>\n",
       "      <td>No phone service</td>\n",
       "      <td>DSL</td>\n",
       "      <td>Yes</td>\n",
       "      <td>No</td>\n",
       "      <td>Yes</td>\n",
       "      <td>Yes</td>\n",
       "      <td>No</td>\n",
       "      <td>One year</td>\n",
       "      <td>No</td>\n",
       "      <td>Bank transfer (automatic)</td>\n",
       "      <td>42.30</td>\n",
       "      <td>1840.75</td>\n",
       "      <td>No</td>\n",
       "    </tr>\n",
       "    <tr>\n",
       "      <th>4</th>\n",
       "      <td>0</td>\n",
       "      <td>No</td>\n",
       "      <td>No</td>\n",
       "      <td>2</td>\n",
       "      <td>No</td>\n",
       "      <td>Fiber optic</td>\n",
       "      <td>No</td>\n",
       "      <td>No</td>\n",
       "      <td>No</td>\n",
       "      <td>No</td>\n",
       "      <td>No</td>\n",
       "      <td>Month-to-month</td>\n",
       "      <td>Yes</td>\n",
       "      <td>Electronic check</td>\n",
       "      <td>70.70</td>\n",
       "      <td>151.65</td>\n",
       "      <td>Yes</td>\n",
       "    </tr>\n",
       "  </tbody>\n",
       "</table>\n",
       "</div>"
      ],
      "text/plain": [
       "   SeniorCitizen Partner Dependents  tenure     MultipleLines InternetService  \\\n",
       "0              0     Yes         No       1  No phone service             DSL   \n",
       "1              0      No         No      34                No             DSL   \n",
       "2              0      No         No       2                No             DSL   \n",
       "3              0      No         No      45  No phone service             DSL   \n",
       "4              0      No         No       2                No     Fiber optic   \n",
       "\n",
       "  OnlineSecurity OnlineBackup DeviceProtection TechSupport StreamingTV  \\\n",
       "0             No          Yes               No          No          No   \n",
       "1            Yes           No              Yes          No          No   \n",
       "2            Yes          Yes               No          No          No   \n",
       "3            Yes           No              Yes         Yes          No   \n",
       "4             No           No               No          No          No   \n",
       "\n",
       "         Contract PaperlessBilling              PaymentMethod  MonthlyCharges  \\\n",
       "0  Month-to-month              Yes           Electronic check           29.85   \n",
       "1        One year               No               Mailed check           56.95   \n",
       "2  Month-to-month              Yes               Mailed check           53.85   \n",
       "3        One year               No  Bank transfer (automatic)           42.30   \n",
       "4  Month-to-month              Yes           Electronic check           70.70   \n",
       "\n",
       "  TotalCharges Churn  \n",
       "0        29.85    No  \n",
       "1       1889.5    No  \n",
       "2       108.15   Yes  \n",
       "3      1840.75    No  \n",
       "4       151.65   Yes  "
      ]
     },
     "execution_count": 56,
     "metadata": {},
     "output_type": "execute_result"
    }
   ],
   "source": [
    "df.head()"
   ]
  },
  {
   "cell_type": "code",
   "execution_count": 57,
   "id": "88c05863",
   "metadata": {},
   "outputs": [
    {
     "data": {
      "text/plain": [
       "<AxesSubplot:xlabel='Churn', ylabel='MonthlyCharges'>"
      ]
     },
     "execution_count": 57,
     "metadata": {},
     "output_type": "execute_result"
    },
    {
     "data": {
      "image/png": "[encoded data removed]",
      "text/plain": [
       "<Figure size 432x288 with 1 Axes>"
      ]
     },
     "metadata": {
      "needs_background": "light"
     },
     "output_type": "display_data"
    }
   ],
   "source": [
    "sns.boxplot(data=df, x=\"Churn\", y=\"MonthlyCharges\")"
   ]
  },
  {
   "cell_type": "code",
   "execution_count": 58,
   "id": "49d13030",
   "metadata": {},
   "outputs": [],
   "source": [
    "#Как можно видеть, во-первых количество клиентов отказавшихся от услуг компании меньше, а большая часть отказавшихся \n",
    "#в месяц платит от 55 до 90. "
   ]
  },
  {
   "cell_type": "code",
   "execution_count": 59,
   "id": "1fc048fc",
   "metadata": {},
   "outputs": [],
   "source": [
    "df['TotalCharges'] = pd.to_numeric(df['TotalCharges'], errors='coerce')"
   ]
  },
  {
   "cell_type": "code",
   "execution_count": 60,
   "id": "88203aca",
   "metadata": {},
   "outputs": [],
   "source": [
    "#Признак 'TotalCharges' имел тип данных object, хоть и по виду там были цифры с плавающей запятой.\n",
    "#Переводим во float64. Видим, что часть данных, а именно 11 значений потерялось (не могу сказать почему). \n",
    "#Причем сработал именно этот метод."
   ]
  },
  {
   "cell_type": "code",
   "execution_count": 61,
   "id": "c56bf171",
   "metadata": {},
   "outputs": [
    {
     "name": "stdout",
     "output_type": "stream",
     "text": [
      "<class 'pandas.core.frame.DataFrame'>\n",
      "RangeIndex: 7043 entries, 0 to 7042\n",
      "Data columns (total 17 columns):\n",
      " #   Column            Non-Null Count  Dtype  \n",
      "---  ------            --------------  -----  \n",
      " 0   SeniorCitizen     7043 non-null   int64  \n",
      " 1   Partner           7043 non-null   object \n",
      " 2   Dependents        7043 non-null   object \n",
      " 3   tenure            7043 non-null   int64  \n",
      " 4   MultipleLines     7043 non-null   object \n",
      " 5   InternetService   7043 non-null   object \n",
      " 6   OnlineSecurity    7043 non-null   object \n",
      " 7   OnlineBackup      7043 non-null   object \n",
      " 8   DeviceProtection  7043 non-null   object \n",
      " 9   TechSupport       7043 non-null   object \n",
      " 10  StreamingTV       7043 non-null   object \n",
      " 11  Contract          7043 non-null   object \n",
      " 12  PaperlessBilling  7043 non-null   object \n",
      " 13  PaymentMethod     7043 non-null   object \n",
      " 14  MonthlyCharges    7043 non-null   float64\n",
      " 15  TotalCharges      7032 non-null   float64\n",
      " 16  Churn             7043 non-null   object \n",
      "dtypes: float64(2), int64(2), object(13)\n",
      "memory usage: 935.5+ KB\n"
     ]
    }
   ],
   "source": [
    "df.info()"
   ]
  },
  {
   "cell_type": "code",
   "execution_count": 62,
   "id": "f51c8eb8",
   "metadata": {},
   "outputs": [
    {
     "data": {
      "text/plain": [
       "0"
      ]
     },
     "execution_count": 62,
     "metadata": {},
     "output_type": "execute_result"
    }
   ],
   "source": [
    "#Заполним пустые значения средними значениями по столбцу.\n",
    "df['TotalCharges'] = df['TotalCharges']. fillna(df['TotalCharges'].mean())\n",
    "df.TotalCharges.isnull().sum()"
   ]
  },
  {
   "cell_type": "code",
   "execution_count": 63,
   "id": "8c3cf430",
   "metadata": {},
   "outputs": [
    {
     "data": {
      "text/plain": [
       "<AxesSubplot:xlabel='Churn', ylabel='TotalCharges'>"
      ]
     },
     "execution_count": 63,
     "metadata": {},
     "output_type": "execute_result"
    },
    {
     "data": {
      "image/png": "[encoded data removed]",
      "text/plain": [
       "<Figure size 432x288 with 1 Axes>"
      ]
     },
     "metadata": {
      "needs_background": "light"
     },
     "output_type": "display_data"
    }
   ],
   "source": [
    "sns.boxplot(data=df, x=\"Churn\", y=\"TotalCharges\")"
   ]
  },
  {
   "cell_type": "code",
   "execution_count": 64,
   "id": "7dc47398",
   "metadata": {},
   "outputs": [],
   "source": [
    "#Видим, что суммарные траты клиентов верных компании в диапазоне примерно от 100 до 4100. \n",
    "#В то время как суммарные траты ушедших от 50 до 2100 со значительным количеством выбросов свыше суммы 6тыс."
   ]
  },
  {
   "cell_type": "code",
   "execution_count": 65,
   "id": "9012c9a6",
   "metadata": {},
   "outputs": [
    {
     "data": {
      "text/plain": [
       "<AxesSubplot:xlabel='Churn', ylabel='tenure'>"
      ]
     },
     "execution_count": 65,
     "metadata": {},
     "output_type": "execute_result"
    },
    {
     "data": {
      "image/png": "[encoded data removed]",
      "text/plain": [
       "<Figure size 432x288 with 1 Axes>"
      ]
     },
     "metadata": {
      "needs_background": "light"
     },
     "output_type": "display_data"
    }
   ],
   "source": [
    "sns.boxplot(data=df, x=\"Churn\", y=\"tenure\")"
   ]
  },
  {
   "cell_type": "code",
   "execution_count": 66,
   "id": "41ced7e9",
   "metadata": {},
   "outputs": [],
   "source": [
    "#Видим, что верные компании клиенты заключают договор сроком от 15 до 60 месяцев, в то время как ушедшие сроком от 5 до 30."
   ]
  },
  {
   "cell_type": "code",
   "execution_count": null,
   "id": "6feb886f",
   "metadata": {},
   "outputs": [],
   "source": []
  },
  {
   "cell_type": "code",
   "execution_count": 67,
   "id": "9bef2ccd",
   "metadata": {},
   "outputs": [],
   "source": [
    "#Далее переведем категориальные переменные в уникальные лейблы. С какими-то столбцами сделаю вручную, для порядка, \n",
    "#где-то использую LabelEncoder.  "
   ]
  },
  {
   "cell_type": "code",
   "execution_count": 68,
   "id": "539b64bf",
   "metadata": {},
   "outputs": [],
   "source": [
    "df_le=df.copy(deep=True)"
   ]
  },
  {
   "cell_type": "code",
   "execution_count": 69,
   "id": "72c4871d",
   "metadata": {},
   "outputs": [],
   "source": [
    "MultipleLines = {\"MultipleLines\":     {\"No phone service\": 0, \"No\": 1, \"Yes\": 2}}\n",
    "df_le = df_le.replace(MultipleLines)\n",
    "\n",
    "InternetService = {\"InternetService\":     {\"No\": 0, \"DSL\": 1, \"Fiber optic\": 2}}\n",
    "df_le = df_le.replace(InternetService)\n",
    "\n",
    "OnlineSecurity = {\"OnlineSecurity\":     {\"No internet service\": 0, \"No\": 1, \"Yes\": 2}}\n",
    "df_le = df_le.replace(OnlineSecurity)\n",
    "\n",
    "OnlineBackup = {\"OnlineBackup\":     {\"No internet service\": 0, \"No\": 1, \"Yes\": 2}}\n",
    "df_le = df_le.replace(OnlineBackup)\n",
    "\n",
    "DeviceProtection = {\"DeviceProtection\":     {\"No internet service\": 0, \"No\": 1, \"Yes\": 2}}\n",
    "df_le = df_le.replace(DeviceProtection)\n",
    "\n",
    "TechSupport = {\"TechSupport\":     {\"No internet service\": 0, \"No\": 1, \"Yes\": 2}}\n",
    "df_le = df_le.replace(TechSupport)\n",
    "\n",
    "StreamingTV = {\"StreamingTV\":     {\"No internet service\": 0, \"No\": 1, \"Yes\": 2}}\n",
    "df_le = df_le.replace(StreamingTV)\n",
    "\n"
   ]
  },
  {
   "cell_type": "code",
   "execution_count": 70,
   "id": "0cc717a6",
   "metadata": {},
   "outputs": [],
   "source": [
    "from sklearn.preprocessing import LabelEncoder # преобразуем все текстовые данные в численные\n",
    "labelencoder =  LabelEncoder()\n",
    "\n",
    "df_le['Partner'] = labelencoder.fit_transform(df_le['Partner'])\n",
    "df_le['Dependents'] = labelencoder.fit_transform(df_le['Dependents'])\n",
    "df_le['Contract'] = labelencoder.fit_transform(df_le['Contract'])\n",
    "df_le['PaperlessBilling'] = labelencoder.fit_transform(df_le['PaperlessBilling'])\n",
    "df_le['PaymentMethod'] = labelencoder.fit_transform(df_le['PaymentMethod'])\n",
    "df_le['Churn'] = labelencoder.fit_transform(df_le['Churn'])"
   ]
  },
  {
   "cell_type": "code",
   "execution_count": 71,
   "id": "9a2a22cf",
   "metadata": {},
   "outputs": [
    {
     "data": {
      "text/html": [
       "<div>\n",
       "<style scoped>\n",
       "    .dataframe tbody tr th:only-of-type {\n",
       "        vertical-align: middle;\n",
       "    }\n",
       "\n",
       "    .dataframe tbody tr th {\n",
       "        vertical-align: top;\n",
       "    }\n",
       "\n",
       "    .dataframe thead th {\n",
       "        text-align: right;\n",
       "    }\n",
       "</style>\n",
       "<table border=\"1\" class=\"dataframe\">\n",
       "  <thead>\n",
       "    <tr style=\"text-align: right;\">\n",
       "      <th></th>\n",
       "      <th>SeniorCitizen</th>\n",
       "      <th>Partner</th>\n",
       "      <th>Dependents</th>\n",
       "      <th>tenure</th>\n",
       "      <th>MultipleLines</th>\n",
       "      <th>InternetService</th>\n",
       "      <th>OnlineSecurity</th>\n",
       "      <th>OnlineBackup</th>\n",
       "      <th>DeviceProtection</th>\n",
       "      <th>TechSupport</th>\n",
       "      <th>StreamingTV</th>\n",
       "      <th>Contract</th>\n",
       "      <th>PaperlessBilling</th>\n",
       "      <th>PaymentMethod</th>\n",
       "      <th>MonthlyCharges</th>\n",
       "      <th>TotalCharges</th>\n",
       "      <th>Churn</th>\n",
       "    </tr>\n",
       "  </thead>\n",
       "  <tbody>\n",
       "    <tr>\n",
       "      <th>0</th>\n",
       "      <td>0</td>\n",
       "      <td>1</td>\n",
       "      <td>0</td>\n",
       "      <td>1</td>\n",
       "      <td>0</td>\n",
       "      <td>1</td>\n",
       "      <td>1</td>\n",
       "      <td>2</td>\n",
       "      <td>1</td>\n",
       "      <td>1</td>\n",
       "      <td>1</td>\n",
       "      <td>0</td>\n",
       "      <td>1</td>\n",
       "      <td>2</td>\n",
       "      <td>29.85</td>\n",
       "      <td>29.85</td>\n",
       "      <td>0</td>\n",
       "    </tr>\n",
       "    <tr>\n",
       "      <th>1</th>\n",
       "      <td>0</td>\n",
       "      <td>0</td>\n",
       "      <td>0</td>\n",
       "      <td>34</td>\n",
       "      <td>1</td>\n",
       "      <td>1</td>\n",
       "      <td>2</td>\n",
       "      <td>1</td>\n",
       "      <td>2</td>\n",
       "      <td>1</td>\n",
       "      <td>1</td>\n",
       "      <td>1</td>\n",
       "      <td>0</td>\n",
       "      <td>3</td>\n",
       "      <td>56.95</td>\n",
       "      <td>1889.50</td>\n",
       "      <td>0</td>\n",
       "    </tr>\n",
       "    <tr>\n",
       "      <th>2</th>\n",
       "      <td>0</td>\n",
       "      <td>0</td>\n",
       "      <td>0</td>\n",
       "      <td>2</td>\n",
       "      <td>1</td>\n",
       "      <td>1</td>\n",
       "      <td>2</td>\n",
       "      <td>2</td>\n",
       "      <td>1</td>\n",
       "      <td>1</td>\n",
       "      <td>1</td>\n",
       "      <td>0</td>\n",
       "      <td>1</td>\n",
       "      <td>3</td>\n",
       "      <td>53.85</td>\n",
       "      <td>108.15</td>\n",
       "      <td>1</td>\n",
       "    </tr>\n",
       "    <tr>\n",
       "      <th>3</th>\n",
       "      <td>0</td>\n",
       "      <td>0</td>\n",
       "      <td>0</td>\n",
       "      <td>45</td>\n",
       "      <td>0</td>\n",
       "      <td>1</td>\n",
       "      <td>2</td>\n",
       "      <td>1</td>\n",
       "      <td>2</td>\n",
       "      <td>2</td>\n",
       "      <td>1</td>\n",
       "      <td>1</td>\n",
       "      <td>0</td>\n",
       "      <td>0</td>\n",
       "      <td>42.30</td>\n",
       "      <td>1840.75</td>\n",
       "      <td>0</td>\n",
       "    </tr>\n",
       "    <tr>\n",
       "      <th>4</th>\n",
       "      <td>0</td>\n",
       "      <td>0</td>\n",
       "      <td>0</td>\n",
       "      <td>2</td>\n",
       "      <td>1</td>\n",
       "      <td>2</td>\n",
       "      <td>1</td>\n",
       "      <td>1</td>\n",
       "      <td>1</td>\n",
       "      <td>1</td>\n",
       "      <td>1</td>\n",
       "      <td>0</td>\n",
       "      <td>1</td>\n",
       "      <td>2</td>\n",
       "      <td>70.70</td>\n",
       "      <td>151.65</td>\n",
       "      <td>1</td>\n",
       "    </tr>\n",
       "  </tbody>\n",
       "</table>\n",
       "</div>"
      ],
      "text/plain": [
       "   SeniorCitizen  Partner  Dependents  tenure  MultipleLines  InternetService  \\\n",
       "0              0        1           0       1              0                1   \n",
       "1              0        0           0      34              1                1   \n",
       "2              0        0           0       2              1                1   \n",
       "3              0        0           0      45              0                1   \n",
       "4              0        0           0       2              1                2   \n",
       "\n",
       "   OnlineSecurity  OnlineBackup  DeviceProtection  TechSupport  StreamingTV  \\\n",
       "0               1             2                 1            1            1   \n",
       "1               2             1                 2            1            1   \n",
       "2               2             2                 1            1            1   \n",
       "3               2             1                 2            2            1   \n",
       "4               1             1                 1            1            1   \n",
       "\n",
       "   Contract  PaperlessBilling  PaymentMethod  MonthlyCharges  TotalCharges  \\\n",
       "0         0                 1              2           29.85         29.85   \n",
       "1         1                 0              3           56.95       1889.50   \n",
       "2         0                 1              3           53.85        108.15   \n",
       "3         1                 0              0           42.30       1840.75   \n",
       "4         0                 1              2           70.70        151.65   \n",
       "\n",
       "   Churn  \n",
       "0      0  \n",
       "1      0  \n",
       "2      1  \n",
       "3      0  \n",
       "4      1  "
      ]
     },
     "execution_count": 71,
     "metadata": {},
     "output_type": "execute_result"
    }
   ],
   "source": [
    "df_le.head()"
   ]
  },
  {
   "cell_type": "code",
   "execution_count": 72,
   "id": "3df4ccfa",
   "metadata": {},
   "outputs": [],
   "source": [
    "# Выделим фичи и целевую переменную\n",
    "x = df_le.drop('Churn', axis=1)\n",
    "y = df_le['Churn']"
   ]
  },
  {
   "cell_type": "code",
   "execution_count": 73,
   "id": "6e247344",
   "metadata": {},
   "outputs": [
    {
     "name": "stdout",
     "output_type": "stream",
     "text": [
      "Training cases: 4930\n",
      "Test cases: 2113\n"
     ]
    }
   ],
   "source": [
    "# Разделим данные на train и test (70/30)\n",
    "from sklearn.model_selection import train_test_split\n",
    "x_train, x_test, y_train, y_test = train_test_split(x, y, test_size=0.30, random_state=0)\n",
    "print ('Training cases: %d\\nTest cases: %d' % (x_train.shape[0], x_test.shape[0]))"
   ]
  },
  {
   "cell_type": "code",
   "execution_count": 74,
   "id": "c76bdcfe",
   "metadata": {},
   "outputs": [],
   "source": [
    "#Sklearn"
   ]
  },
  {
   "cell_type": "code",
   "execution_count": 75,
   "id": "244ac776",
   "metadata": {},
   "outputs": [],
   "source": [
    "from sklearn.ensemble import GradientBoostingClassifier\n",
    "gbm = GradientBoostingClassifier().fit(x_train, y_train)"
   ]
  },
  {
   "cell_type": "code",
   "execution_count": 76,
   "id": "16d02501",
   "metadata": {},
   "outputs": [
    {
     "name": "stdout",
     "output_type": "stream",
     "text": [
      "Overall Accuracy: 0.7960246095598675\n",
      "Overall Precision: 0.7366830266378317\n",
      "Overall Recall: 0.7118618723049103\n",
      "Overall f1_score: 0.7220643891708317\n"
     ]
    }
   ],
   "source": [
    "from sklearn.metrics import accuracy_score, precision_score, recall_score, f1_score,  roc_auc_score\n",
    "predictions = gbm.predict(x_test)\n",
    "# Метрики качества\n",
    "print(\"Overall Accuracy:\",accuracy_score(y_test, predictions))\n",
    "print(\"Overall Precision:\",precision_score(y_test, predictions, average='macro'))\n",
    "print(\"Overall Recall:\",recall_score(y_test, predictions, average='macro'))\n",
    "print(\"Overall f1_score:\",f1_score(y_test, predictions, average='macro'))"
   ]
  },
  {
   "cell_type": "code",
   "execution_count": 77,
   "id": "ec4015d9",
   "metadata": {},
   "outputs": [
    {
     "name": "stdout",
     "output_type": "stream",
     "text": [
      "Train gbm ROC-AUC = 0.8844609488934454\n",
      "Test gbm ROC-AUC =  0.8388689896601289\n"
     ]
    }
   ],
   "source": [
    "print ('Train gbm ROC-AUC =', roc_auc_score(y_train, gbm.predict_proba(x_train)[:,1]))\n",
    "print ('Test gbm ROC-AUC = ', roc_auc_score(y_test, gbm.predict_proba(x_test)[:,1]))"
   ]
  },
  {
   "cell_type": "code",
   "execution_count": 78,
   "id": "d924353f",
   "metadata": {},
   "outputs": [],
   "source": [
    "#xgboost"
   ]
  },
  {
   "cell_type": "code",
   "execution_count": 79,
   "id": "860a45cf",
   "metadata": {},
   "outputs": [
    {
     "name": "stdout",
     "output_type": "stream",
     "text": [
      "Requirement already satisfied: xgboost in c:\\users\\zhuko\\anaconda3\\lib\\site-packages (1.7.3)\n",
      "Requirement already satisfied: numpy in c:\\users\\zhuko\\anaconda3\\lib\\site-packages (from xgboost) (1.20.3)\n",
      "Requirement already satisfied: scipy in c:\\users\\zhuko\\anaconda3\\lib\\site-packages (from xgboost) (1.7.1)\n"
     ]
    }
   ],
   "source": [
    "!pip install xgboost"
   ]
  },
  {
   "cell_type": "code",
   "execution_count": 80,
   "id": "7cc2528a",
   "metadata": {},
   "outputs": [],
   "source": [
    "from xgboost import XGBClassifier\n",
    "# create model instance\n",
    "bst = XGBClassifier()\n",
    "# fit model\n",
    "bst.fit(x_train, y_train)\n",
    "# make predictions\n",
    "predictions = bst.predict(x_test)"
   ]
  },
  {
   "cell_type": "code",
   "execution_count": 81,
   "id": "a22f1aee",
   "metadata": {},
   "outputs": [
    {
     "name": "stdout",
     "output_type": "stream",
     "text": [
      "Overall Accuracy: 0.791292001893043\n",
      "Overall Precision: 0.7298422708848629\n",
      "Overall Recall: 0.70573851254231\n",
      "Overall f1_score: 0.7156157671098301\n"
     ]
    }
   ],
   "source": [
    "# Метрики качества\n",
    "print(\"Overall Accuracy:\",accuracy_score(y_test, predictions))\n",
    "print(\"Overall Precision:\",precision_score(y_test, predictions, average='macro'))\n",
    "print(\"Overall Recall:\",recall_score(y_test, predictions, average='macro'))\n",
    "print(\"Overall f1_score:\",f1_score(y_test, predictions, average='macro'))"
   ]
  },
  {
   "cell_type": "code",
   "execution_count": 82,
   "id": "ae66a416",
   "metadata": {},
   "outputs": [
    {
     "name": "stdout",
     "output_type": "stream",
     "text": [
      "Train xgb ROC-AUC = 0.986371599470482\n",
      "Test xgb ROC-AUC =  0.8198648398015487\n"
     ]
    }
   ],
   "source": [
    "print ('Train xgb ROC-AUC =', roc_auc_score(y_train, bst.predict_proba(x_train)[:,1]))\n",
    "print ('Test xgb ROC-AUC = ', roc_auc_score(y_test, bst.predict_proba(x_test)[:,1]))"
   ]
  },
  {
   "cell_type": "code",
   "execution_count": 83,
   "id": "d714e6c0",
   "metadata": {},
   "outputs": [],
   "source": [
    "#lightgbm"
   ]
  },
  {
   "cell_type": "code",
   "execution_count": 84,
   "id": "c13ae62f",
   "metadata": {},
   "outputs": [
    {
     "name": "stdout",
     "output_type": "stream",
     "text": [
      "Requirement already satisfied: lightgbm in c:\\users\\zhuko\\anaconda3\\lib\\site-packages (3.3.5)\n",
      "Requirement already satisfied: scipy in c:\\users\\zhuko\\anaconda3\\lib\\site-packages (from lightgbm) (1.7.1)\n",
      "Requirement already satisfied: scikit-learn!=0.22.0 in c:\\users\\zhuko\\anaconda3\\lib\\site-packages (from lightgbm) (0.24.2)\n",
      "Requirement already satisfied: numpy in c:\\users\\zhuko\\anaconda3\\lib\\site-packages (from lightgbm) (1.20.3)\n",
      "Requirement already satisfied: wheel in c:\\users\\zhuko\\anaconda3\\lib\\site-packages (from lightgbm) (0.37.0)\n",
      "Requirement already satisfied: threadpoolctl>=2.0.0 in c:\\users\\zhuko\\anaconda3\\lib\\site-packages (from scikit-learn!=0.22.0->lightgbm) (2.2.0)\n",
      "Requirement already satisfied: joblib>=0.11 in c:\\users\\zhuko\\anaconda3\\lib\\site-packages (from scikit-learn!=0.22.0->lightgbm) (1.1.0)\n"
     ]
    }
   ],
   "source": [
    "!pip install lightgbm"
   ]
  },
  {
   "cell_type": "code",
   "execution_count": 85,
   "id": "d340980f",
   "metadata": {},
   "outputs": [],
   "source": [
    "from lightgbm import LGBMClassifier\n",
    "clf = LGBMClassifier()\n",
    "clf.fit(x_train, y_train)\n",
    "# make predictions\n",
    "predictions = clf.predict(x_test)"
   ]
  },
  {
   "cell_type": "code",
   "execution_count": 86,
   "id": "2a31aee4",
   "metadata": {},
   "outputs": [
    {
     "name": "stdout",
     "output_type": "stream",
     "text": [
      "Overall Accuracy: 0.791292001893043\n",
      "Overall Precision: 0.7300488225685076\n",
      "Overall Recall: 0.7034039272963324\n",
      "Overall f1_score: 0.7140884244890946\n"
     ]
    }
   ],
   "source": [
    "# Метрики качества\n",
    "print(\"Overall Accuracy:\",accuracy_score(y_test, predictions))\n",
    "print(\"Overall Precision:\",precision_score(y_test, predictions, average='macro'))\n",
    "print(\"Overall Recall:\",recall_score(y_test, predictions, average='macro'))\n",
    "print(\"Overall f1_score:\",f1_score(y_test, predictions, average='macro'))"
   ]
  },
  {
   "cell_type": "code",
   "execution_count": 87,
   "id": "f03ec4be",
   "metadata": {},
   "outputs": [
    {
     "name": "stdout",
     "output_type": "stream",
     "text": [
      "Train xgb ROC-AUC = 0.9541548781082685\n",
      "Test xgb ROC-AUC =  0.8318350952844623\n"
     ]
    }
   ],
   "source": [
    "print ('Train xgb ROC-AUC =', roc_auc_score(y_train, clf.predict_proba(x_train)[:,1]))\n",
    "print ('Test xgb ROC-AUC = ', roc_auc_score(y_test, clf.predict_proba(x_test)[:,1]))"
   ]
  },
  {
   "cell_type": "code",
   "execution_count": 88,
   "id": "1433b893",
   "metadata": {},
   "outputs": [],
   "source": [
    "#catboost"
   ]
  },
  {
   "cell_type": "code",
   "execution_count": 89,
   "id": "cf37d9f0",
   "metadata": {},
   "outputs": [
    {
     "name": "stdout",
     "output_type": "stream",
     "text": [
      "Requirement already satisfied: catboost in c:\\users\\zhuko\\anaconda3\\lib\\site-packages (1.1.1)\n",
      "Requirement already satisfied: graphviz in c:\\users\\zhuko\\anaconda3\\lib\\site-packages (from catboost) (0.20.1)\n",
      "Requirement already satisfied: plotly in c:\\users\\zhuko\\anaconda3\\lib\\site-packages (from catboost) (5.13.0)\n",
      "Requirement already satisfied: pandas>=0.24.0 in c:\\users\\zhuko\\anaconda3\\lib\\site-packages (from catboost) (1.3.4)\n",
      "Requirement already satisfied: matplotlib in c:\\users\\zhuko\\anaconda3\\lib\\site-packages (from catboost) (3.4.3)\n",
      "Requirement already satisfied: six in c:\\users\\zhuko\\anaconda3\\lib\\site-packages (from catboost) (1.16.0)\n",
      "Requirement already satisfied: numpy>=1.16.0 in c:\\users\\zhuko\\anaconda3\\lib\\site-packages (from catboost) (1.20.3)\n",
      "Requirement already satisfied: scipy in c:\\users\\zhuko\\anaconda3\\lib\\site-packages (from catboost) (1.7.1)\n",
      "Requirement already satisfied: python-dateutil>=2.7.3 in c:\\users\\zhuko\\anaconda3\\lib\\site-packages (from pandas>=0.24.0->catboost) (2.8.2)\n",
      "Requirement already satisfied: pytz>=2017.3 in c:\\users\\zhuko\\anaconda3\\lib\\site-packages (from pandas>=0.24.0->catboost) (2021.3)\n",
      "Requirement already satisfied: pillow>=6.2.0 in c:\\users\\zhuko\\anaconda3\\lib\\site-packages (from matplotlib->catboost) (8.4.0)\n",
      "Requirement already satisfied: pyparsing>=2.2.1 in c:\\users\\zhuko\\anaconda3\\lib\\site-packages (from matplotlib->catboost) (3.0.4)\n",
      "Requirement already satisfied: kiwisolver>=1.0.1 in c:\\users\\zhuko\\anaconda3\\lib\\site-packages (from matplotlib->catboost) (1.3.1)\n",
      "Requirement already satisfied: cycler>=0.10 in c:\\users\\zhuko\\anaconda3\\lib\\site-packages (from matplotlib->catboost) (0.10.0)\n",
      "Requirement already satisfied: tenacity>=6.2.0 in c:\\users\\zhuko\\anaconda3\\lib\\site-packages (from plotly->catboost) (8.2.1)\n"
     ]
    }
   ],
   "source": [
    "!pip install catboost"
   ]
  },
  {
   "cell_type": "code",
   "execution_count": 90,
   "id": "bea4cc86",
   "metadata": {},
   "outputs": [
    {
     "name": "stdout",
     "output_type": "stream",
     "text": [
      "Learning rate set to 0.02036\n",
      "0:\tlearn: 0.6783669\ttotal: 153ms\tremaining: 2m 32s\n",
      "1:\tlearn: 0.6660349\ttotal: 154ms\tremaining: 1m 16s\n",
      "2:\tlearn: 0.6526018\ttotal: 156ms\tremaining: 51.9s\n",
      "3:\tlearn: 0.6405555\ttotal: 158ms\tremaining: 39.4s\n",
      "4:\tlearn: 0.6288743\ttotal: 160ms\tremaining: 31.9s\n",
      "5:\tlearn: 0.6182017\ttotal: 163ms\tremaining: 26.9s\n",
      "6:\tlearn: 0.6076835\ttotal: 165ms\tremaining: 23.4s\n",
      "7:\tlearn: 0.5974070\ttotal: 167ms\tremaining: 20.7s\n",
      "8:\tlearn: 0.5877826\ttotal: 169ms\tremaining: 18.6s\n",
      "9:\tlearn: 0.5789804\ttotal: 171ms\tremaining: 17s\n",
      "10:\tlearn: 0.5704641\ttotal: 174ms\tremaining: 15.6s\n",
      "11:\tlearn: 0.5626052\ttotal: 176ms\tremaining: 14.5s\n",
      "12:\tlearn: 0.5551782\ttotal: 178ms\tremaining: 13.5s\n",
      "13:\tlearn: 0.5483815\ttotal: 181ms\tremaining: 12.7s\n",
      "14:\tlearn: 0.5418282\ttotal: 183ms\tremaining: 12s\n",
      "15:\tlearn: 0.5355876\ttotal: 185ms\tremaining: 11.4s\n",
      "16:\tlearn: 0.5296180\ttotal: 187ms\tremaining: 10.8s\n",
      "17:\tlearn: 0.5244120\ttotal: 189ms\tremaining: 10.3s\n",
      "18:\tlearn: 0.5190630\ttotal: 192ms\tremaining: 9.9s\n",
      "19:\tlearn: 0.5140217\ttotal: 194ms\tremaining: 9.5s\n",
      "20:\tlearn: 0.5098212\ttotal: 196ms\tremaining: 9.14s\n",
      "21:\tlearn: 0.5055957\ttotal: 198ms\tremaining: 8.8s\n",
      "22:\tlearn: 0.5012184\ttotal: 200ms\tremaining: 8.5s\n",
      "23:\tlearn: 0.4969414\ttotal: 202ms\tremaining: 8.22s\n",
      "24:\tlearn: 0.4943740\ttotal: 203ms\tremaining: 7.93s\n",
      "25:\tlearn: 0.4905669\ttotal: 206ms\tremaining: 7.71s\n",
      "26:\tlearn: 0.4869523\ttotal: 208ms\tremaining: 7.49s\n",
      "27:\tlearn: 0.4837278\ttotal: 210ms\tremaining: 7.3s\n",
      "28:\tlearn: 0.4804678\ttotal: 212ms\tremaining: 7.11s\n",
      "29:\tlearn: 0.4777024\ttotal: 214ms\tremaining: 6.93s\n",
      "30:\tlearn: 0.4747626\ttotal: 217ms\tremaining: 6.77s\n",
      "31:\tlearn: 0.4723554\ttotal: 218ms\tremaining: 6.61s\n",
      "32:\tlearn: 0.4699749\ttotal: 220ms\tremaining: 6.46s\n",
      "33:\tlearn: 0.4672599\ttotal: 223ms\tremaining: 6.32s\n",
      "34:\tlearn: 0.4649839\ttotal: 224ms\tremaining: 6.18s\n",
      "35:\tlearn: 0.4624904\ttotal: 226ms\tremaining: 6.06s\n",
      "36:\tlearn: 0.4603722\ttotal: 229ms\tremaining: 5.95s\n",
      "37:\tlearn: 0.4581664\ttotal: 231ms\tremaining: 5.84s\n",
      "38:\tlearn: 0.4558399\ttotal: 233ms\tremaining: 5.73s\n",
      "39:\tlearn: 0.4541296\ttotal: 235ms\tremaining: 5.64s\n",
      "40:\tlearn: 0.4522638\ttotal: 237ms\tremaining: 5.54s\n",
      "41:\tlearn: 0.4502594\ttotal: 239ms\tremaining: 5.45s\n",
      "42:\tlearn: 0.4486341\ttotal: 241ms\tremaining: 5.37s\n",
      "43:\tlearn: 0.4470255\ttotal: 243ms\tremaining: 5.29s\n",
      "44:\tlearn: 0.4457286\ttotal: 245ms\tremaining: 5.21s\n",
      "45:\tlearn: 0.4444750\ttotal: 247ms\tremaining: 5.12s\n",
      "46:\tlearn: 0.4429684\ttotal: 249ms\tremaining: 5.05s\n",
      "47:\tlearn: 0.4415826\ttotal: 251ms\tremaining: 4.98s\n",
      "48:\tlearn: 0.4400776\ttotal: 253ms\tremaining: 4.92s\n",
      "49:\tlearn: 0.4386581\ttotal: 255ms\tremaining: 4.85s\n",
      "50:\tlearn: 0.4374747\ttotal: 258ms\tremaining: 4.79s\n",
      "51:\tlearn: 0.4362881\ttotal: 260ms\tremaining: 4.73s\n",
      "52:\tlearn: 0.4349515\ttotal: 262ms\tremaining: 4.68s\n",
      "53:\tlearn: 0.4338629\ttotal: 264ms\tremaining: 4.62s\n",
      "54:\tlearn: 0.4327703\ttotal: 266ms\tremaining: 4.57s\n",
      "55:\tlearn: 0.4316204\ttotal: 268ms\tremaining: 4.52s\n",
      "56:\tlearn: 0.4305731\ttotal: 270ms\tremaining: 4.47s\n",
      "57:\tlearn: 0.4296211\ttotal: 272ms\tremaining: 4.42s\n",
      "58:\tlearn: 0.4285800\ttotal: 274ms\tremaining: 4.37s\n",
      "59:\tlearn: 0.4275406\ttotal: 276ms\tremaining: 4.33s\n",
      "60:\tlearn: 0.4266781\ttotal: 278ms\tremaining: 4.28s\n",
      "61:\tlearn: 0.4259533\ttotal: 280ms\tremaining: 4.24s\n",
      "62:\tlearn: 0.4251454\ttotal: 282ms\tremaining: 4.2s\n",
      "63:\tlearn: 0.4241918\ttotal: 284ms\tremaining: 4.16s\n",
      "64:\tlearn: 0.4235414\ttotal: 286ms\tremaining: 4.12s\n",
      "65:\tlearn: 0.4227420\ttotal: 288ms\tremaining: 4.08s\n",
      "66:\tlearn: 0.4219414\ttotal: 290ms\tremaining: 4.04s\n",
      "67:\tlearn: 0.4211640\ttotal: 292ms\tremaining: 4.01s\n",
      "68:\tlearn: 0.4203605\ttotal: 294ms\tremaining: 3.97s\n",
      "69:\tlearn: 0.4196008\ttotal: 297ms\tremaining: 3.94s\n",
      "70:\tlearn: 0.4188980\ttotal: 299ms\tremaining: 3.91s\n",
      "71:\tlearn: 0.4184330\ttotal: 301ms\tremaining: 3.88s\n",
      "72:\tlearn: 0.4177706\ttotal: 303ms\tremaining: 3.85s\n",
      "73:\tlearn: 0.4170978\ttotal: 305ms\tremaining: 3.82s\n",
      "74:\tlearn: 0.4163327\ttotal: 307ms\tremaining: 3.79s\n",
      "75:\tlearn: 0.4156517\ttotal: 309ms\tremaining: 3.76s\n",
      "76:\tlearn: 0.4149360\ttotal: 311ms\tremaining: 3.73s\n",
      "77:\tlearn: 0.4145591\ttotal: 313ms\tremaining: 3.7s\n",
      "78:\tlearn: 0.4142935\ttotal: 315ms\tremaining: 3.67s\n",
      "79:\tlearn: 0.4137507\ttotal: 317ms\tremaining: 3.65s\n",
      "80:\tlearn: 0.4130875\ttotal: 319ms\tremaining: 3.62s\n",
      "81:\tlearn: 0.4124817\ttotal: 321ms\tremaining: 3.6s\n",
      "82:\tlearn: 0.4119547\ttotal: 323ms\tremaining: 3.57s\n",
      "83:\tlearn: 0.4114610\ttotal: 326ms\tremaining: 3.55s\n",
      "84:\tlearn: 0.4110374\ttotal: 328ms\tremaining: 3.53s\n",
      "85:\tlearn: 0.4105717\ttotal: 330ms\tremaining: 3.5s\n",
      "86:\tlearn: 0.4102428\ttotal: 332ms\tremaining: 3.48s\n",
      "87:\tlearn: 0.4100201\ttotal: 333ms\tremaining: 3.45s\n",
      "88:\tlearn: 0.4094971\ttotal: 336ms\tremaining: 3.43s\n",
      "89:\tlearn: 0.4089593\ttotal: 338ms\tremaining: 3.42s\n",
      "90:\tlearn: 0.4085149\ttotal: 340ms\tremaining: 3.4s\n",
      "91:\tlearn: 0.4080739\ttotal: 342ms\tremaining: 3.38s\n",
      "92:\tlearn: 0.4075141\ttotal: 345ms\tremaining: 3.36s\n",
      "93:\tlearn: 0.4070837\ttotal: 347ms\tremaining: 3.34s\n",
      "94:\tlearn: 0.4067191\ttotal: 350ms\tremaining: 3.33s\n",
      "95:\tlearn: 0.4061424\ttotal: 352ms\tremaining: 3.31s\n",
      "96:\tlearn: 0.4058320\ttotal: 354ms\tremaining: 3.29s\n",
      "97:\tlearn: 0.4054756\ttotal: 356ms\tremaining: 3.28s\n",
      "98:\tlearn: 0.4051100\ttotal: 358ms\tremaining: 3.26s\n",
      "99:\tlearn: 0.4048954\ttotal: 360ms\tremaining: 3.24s\n",
      "100:\tlearn: 0.4044348\ttotal: 363ms\tremaining: 3.23s\n",
      "101:\tlearn: 0.4041907\ttotal: 365ms\tremaining: 3.21s\n",
      "102:\tlearn: 0.4037926\ttotal: 367ms\tremaining: 3.2s\n",
      "103:\tlearn: 0.4034038\ttotal: 370ms\tremaining: 3.18s\n",
      "104:\tlearn: 0.4029808\ttotal: 372ms\tremaining: 3.17s\n",
      "105:\tlearn: 0.4025537\ttotal: 374ms\tremaining: 3.15s\n",
      "106:\tlearn: 0.4022224\ttotal: 376ms\tremaining: 3.14s\n",
      "107:\tlearn: 0.4018700\ttotal: 378ms\tremaining: 3.12s\n",
      "108:\tlearn: 0.4016222\ttotal: 380ms\tremaining: 3.1s\n",
      "109:\tlearn: 0.4011558\ttotal: 382ms\tremaining: 3.09s\n",
      "110:\tlearn: 0.4007527\ttotal: 384ms\tremaining: 3.08s\n",
      "111:\tlearn: 0.4005015\ttotal: 386ms\tremaining: 3.06s\n",
      "112:\tlearn: 0.4003171\ttotal: 388ms\tremaining: 3.04s\n",
      "113:\tlearn: 0.3999990\ttotal: 390ms\tremaining: 3.03s\n",
      "114:\tlearn: 0.3997498\ttotal: 392ms\tremaining: 3.02s\n",
      "115:\tlearn: 0.3995848\ttotal: 394ms\tremaining: 3s\n",
      "116:\tlearn: 0.3992558\ttotal: 396ms\tremaining: 2.99s\n",
      "117:\tlearn: 0.3989862\ttotal: 398ms\tremaining: 2.98s\n",
      "118:\tlearn: 0.3987281\ttotal: 400ms\tremaining: 2.96s\n",
      "119:\tlearn: 0.3986814\ttotal: 402ms\tremaining: 2.95s\n",
      "120:\tlearn: 0.3982813\ttotal: 404ms\tremaining: 2.93s\n",
      "121:\tlearn: 0.3980127\ttotal: 406ms\tremaining: 2.92s\n",
      "122:\tlearn: 0.3976334\ttotal: 408ms\tremaining: 2.91s\n",
      "123:\tlearn: 0.3973422\ttotal: 410ms\tremaining: 2.9s\n",
      "124:\tlearn: 0.3970667\ttotal: 412ms\tremaining: 2.89s\n",
      "125:\tlearn: 0.3968512\ttotal: 414ms\tremaining: 2.88s\n",
      "126:\tlearn: 0.3967150\ttotal: 416ms\tremaining: 2.86s\n",
      "127:\tlearn: 0.3963803\ttotal: 418ms\tremaining: 2.85s\n",
      "128:\tlearn: 0.3959487\ttotal: 420ms\tremaining: 2.84s\n",
      "129:\tlearn: 0.3957065\ttotal: 422ms\tremaining: 2.83s\n",
      "130:\tlearn: 0.3954927\ttotal: 425ms\tremaining: 2.82s\n",
      "131:\tlearn: 0.3952158\ttotal: 427ms\tremaining: 2.81s\n",
      "132:\tlearn: 0.3949792\ttotal: 429ms\tremaining: 2.8s\n",
      "133:\tlearn: 0.3947340\ttotal: 431ms\tremaining: 2.79s\n",
      "134:\tlearn: 0.3945019\ttotal: 433ms\tremaining: 2.78s\n",
      "135:\tlearn: 0.3942904\ttotal: 436ms\tremaining: 2.77s\n",
      "136:\tlearn: 0.3939976\ttotal: 438ms\tremaining: 2.76s\n",
      "137:\tlearn: 0.3937688\ttotal: 440ms\tremaining: 2.75s\n",
      "138:\tlearn: 0.3934658\ttotal: 442ms\tremaining: 2.74s\n",
      "139:\tlearn: 0.3933077\ttotal: 444ms\tremaining: 2.73s\n",
      "140:\tlearn: 0.3931424\ttotal: 446ms\tremaining: 2.72s\n",
      "141:\tlearn: 0.3929773\ttotal: 448ms\tremaining: 2.71s\n",
      "142:\tlearn: 0.3926674\ttotal: 451ms\tremaining: 2.7s\n",
      "143:\tlearn: 0.3925048\ttotal: 453ms\tremaining: 2.69s\n",
      "144:\tlearn: 0.3922762\ttotal: 455ms\tremaining: 2.68s\n",
      "145:\tlearn: 0.3920971\ttotal: 457ms\tremaining: 2.67s\n",
      "146:\tlearn: 0.3919270\ttotal: 459ms\tremaining: 2.67s\n",
      "147:\tlearn: 0.3917782\ttotal: 462ms\tremaining: 2.66s\n",
      "148:\tlearn: 0.3916022\ttotal: 464ms\tremaining: 2.65s\n",
      "149:\tlearn: 0.3914485\ttotal: 466ms\tremaining: 2.64s\n",
      "150:\tlearn: 0.3911736\ttotal: 468ms\tremaining: 2.63s\n",
      "151:\tlearn: 0.3910596\ttotal: 470ms\tremaining: 2.62s\n",
      "152:\tlearn: 0.3909067\ttotal: 472ms\tremaining: 2.61s\n",
      "153:\tlearn: 0.3908348\ttotal: 473ms\tremaining: 2.6s\n",
      "154:\tlearn: 0.3906156\ttotal: 475ms\tremaining: 2.59s\n",
      "155:\tlearn: 0.3903962\ttotal: 478ms\tremaining: 2.58s\n",
      "156:\tlearn: 0.3902402\ttotal: 480ms\tremaining: 2.58s\n",
      "157:\tlearn: 0.3900800\ttotal: 482ms\tremaining: 2.57s\n",
      "158:\tlearn: 0.3899107\ttotal: 484ms\tremaining: 2.56s\n",
      "159:\tlearn: 0.3897370\ttotal: 486ms\tremaining: 2.55s\n",
      "160:\tlearn: 0.3896431\ttotal: 488ms\tremaining: 2.54s\n",
      "161:\tlearn: 0.3894085\ttotal: 490ms\tremaining: 2.54s\n",
      "162:\tlearn: 0.3892379\ttotal: 492ms\tremaining: 2.53s\n",
      "163:\tlearn: 0.3891169\ttotal: 495ms\tremaining: 2.52s\n",
      "164:\tlearn: 0.3888719\ttotal: 497ms\tremaining: 2.51s\n",
      "165:\tlearn: 0.3886631\ttotal: 499ms\tremaining: 2.51s\n",
      "166:\tlearn: 0.3884460\ttotal: 501ms\tremaining: 2.5s\n",
      "167:\tlearn: 0.3882621\ttotal: 503ms\tremaining: 2.49s\n",
      "168:\tlearn: 0.3881069\ttotal: 506ms\tremaining: 2.49s\n",
      "169:\tlearn: 0.3879505\ttotal: 508ms\tremaining: 2.48s\n",
      "170:\tlearn: 0.3877306\ttotal: 510ms\tremaining: 2.47s\n"
     ]
    },
    {
     "name": "stdout",
     "output_type": "stream",
     "text": [
      "171:\tlearn: 0.3875200\ttotal: 513ms\tremaining: 2.47s\n",
      "172:\tlearn: 0.3874034\ttotal: 515ms\tremaining: 2.46s\n",
      "173:\tlearn: 0.3871886\ttotal: 518ms\tremaining: 2.46s\n",
      "174:\tlearn: 0.3869786\ttotal: 521ms\tremaining: 2.45s\n",
      "175:\tlearn: 0.3868107\ttotal: 523ms\tremaining: 2.45s\n",
      "176:\tlearn: 0.3866710\ttotal: 526ms\tremaining: 2.44s\n",
      "177:\tlearn: 0.3864256\ttotal: 529ms\tremaining: 2.44s\n",
      "178:\tlearn: 0.3862289\ttotal: 532ms\tremaining: 2.44s\n",
      "179:\tlearn: 0.3860964\ttotal: 535ms\tremaining: 2.44s\n",
      "180:\tlearn: 0.3858826\ttotal: 537ms\tremaining: 2.43s\n",
      "181:\tlearn: 0.3858085\ttotal: 540ms\tremaining: 2.43s\n",
      "182:\tlearn: 0.3855919\ttotal: 543ms\tremaining: 2.42s\n",
      "183:\tlearn: 0.3854399\ttotal: 546ms\tremaining: 2.42s\n",
      "184:\tlearn: 0.3852959\ttotal: 549ms\tremaining: 2.42s\n",
      "185:\tlearn: 0.3851675\ttotal: 551ms\tremaining: 2.41s\n",
      "186:\tlearn: 0.3850263\ttotal: 554ms\tremaining: 2.41s\n",
      "187:\tlearn: 0.3848524\ttotal: 557ms\tremaining: 2.4s\n",
      "188:\tlearn: 0.3847073\ttotal: 559ms\tremaining: 2.4s\n",
      "189:\tlearn: 0.3845736\ttotal: 562ms\tremaining: 2.4s\n",
      "190:\tlearn: 0.3844328\ttotal: 564ms\tremaining: 2.39s\n",
      "191:\tlearn: 0.3843440\ttotal: 567ms\tremaining: 2.39s\n",
      "192:\tlearn: 0.3842289\ttotal: 569ms\tremaining: 2.38s\n",
      "193:\tlearn: 0.3840003\ttotal: 572ms\tremaining: 2.38s\n",
      "194:\tlearn: 0.3838559\ttotal: 575ms\tremaining: 2.37s\n",
      "195:\tlearn: 0.3837377\ttotal: 577ms\tremaining: 2.37s\n",
      "196:\tlearn: 0.3836107\ttotal: 580ms\tremaining: 2.36s\n",
      "197:\tlearn: 0.3835037\ttotal: 582ms\tremaining: 2.36s\n",
      "198:\tlearn: 0.3833444\ttotal: 585ms\tremaining: 2.35s\n",
      "199:\tlearn: 0.3831942\ttotal: 587ms\tremaining: 2.35s\n",
      "200:\tlearn: 0.3830715\ttotal: 590ms\tremaining: 2.34s\n",
      "201:\tlearn: 0.3828771\ttotal: 593ms\tremaining: 2.34s\n",
      "202:\tlearn: 0.3827365\ttotal: 595ms\tremaining: 2.34s\n",
      "203:\tlearn: 0.3825225\ttotal: 598ms\tremaining: 2.33s\n",
      "204:\tlearn: 0.3824391\ttotal: 601ms\tremaining: 2.33s\n",
      "205:\tlearn: 0.3824238\ttotal: 602ms\tremaining: 2.32s\n",
      "206:\tlearn: 0.3822340\ttotal: 605ms\tremaining: 2.32s\n",
      "207:\tlearn: 0.3820662\ttotal: 608ms\tremaining: 2.31s\n",
      "208:\tlearn: 0.3819552\ttotal: 610ms\tremaining: 2.31s\n",
      "209:\tlearn: 0.3817173\ttotal: 613ms\tremaining: 2.31s\n",
      "210:\tlearn: 0.3815680\ttotal: 616ms\tremaining: 2.3s\n",
      "211:\tlearn: 0.3813987\ttotal: 618ms\tremaining: 2.3s\n",
      "212:\tlearn: 0.3813003\ttotal: 621ms\tremaining: 2.29s\n",
      "213:\tlearn: 0.3811201\ttotal: 623ms\tremaining: 2.29s\n",
      "214:\tlearn: 0.3809289\ttotal: 626ms\tremaining: 2.29s\n",
      "215:\tlearn: 0.3808412\ttotal: 628ms\tremaining: 2.28s\n",
      "216:\tlearn: 0.3806144\ttotal: 631ms\tremaining: 2.28s\n",
      "217:\tlearn: 0.3804113\ttotal: 634ms\tremaining: 2.27s\n",
      "218:\tlearn: 0.3802522\ttotal: 636ms\tremaining: 2.27s\n",
      "219:\tlearn: 0.3800997\ttotal: 639ms\tremaining: 2.27s\n",
      "220:\tlearn: 0.3799985\ttotal: 641ms\tremaining: 2.26s\n",
      "221:\tlearn: 0.3799158\ttotal: 644ms\tremaining: 2.26s\n",
      "222:\tlearn: 0.3798222\ttotal: 646ms\tremaining: 2.25s\n",
      "223:\tlearn: 0.3797053\ttotal: 649ms\tremaining: 2.25s\n",
      "224:\tlearn: 0.3794698\ttotal: 651ms\tremaining: 2.24s\n",
      "225:\tlearn: 0.3793477\ttotal: 654ms\tremaining: 2.24s\n",
      "226:\tlearn: 0.3792082\ttotal: 656ms\tremaining: 2.23s\n",
      "227:\tlearn: 0.3790884\ttotal: 658ms\tremaining: 2.23s\n",
      "228:\tlearn: 0.3789822\ttotal: 661ms\tremaining: 2.22s\n",
      "229:\tlearn: 0.3788217\ttotal: 663ms\tremaining: 2.22s\n",
      "230:\tlearn: 0.3787154\ttotal: 666ms\tremaining: 2.21s\n",
      "231:\tlearn: 0.3785657\ttotal: 668ms\tremaining: 2.21s\n",
      "232:\tlearn: 0.3784543\ttotal: 670ms\tremaining: 2.21s\n",
      "233:\tlearn: 0.3783984\ttotal: 673ms\tremaining: 2.2s\n",
      "234:\tlearn: 0.3781826\ttotal: 675ms\tremaining: 2.2s\n",
      "235:\tlearn: 0.3780062\ttotal: 678ms\tremaining: 2.19s\n",
      "236:\tlearn: 0.3778470\ttotal: 680ms\tremaining: 2.19s\n",
      "237:\tlearn: 0.3777361\ttotal: 682ms\tremaining: 2.18s\n",
      "238:\tlearn: 0.3775789\ttotal: 685ms\tremaining: 2.18s\n",
      "239:\tlearn: 0.3774014\ttotal: 687ms\tremaining: 2.18s\n",
      "240:\tlearn: 0.3773892\ttotal: 689ms\tremaining: 2.17s\n",
      "241:\tlearn: 0.3773137\ttotal: 692ms\tremaining: 2.17s\n",
      "242:\tlearn: 0.3771550\ttotal: 694ms\tremaining: 2.16s\n",
      "243:\tlearn: 0.3769918\ttotal: 697ms\tremaining: 2.16s\n",
      "244:\tlearn: 0.3769550\ttotal: 699ms\tremaining: 2.15s\n",
      "245:\tlearn: 0.3768640\ttotal: 702ms\tremaining: 2.15s\n",
      "246:\tlearn: 0.3767681\ttotal: 705ms\tremaining: 2.15s\n",
      "247:\tlearn: 0.3767579\ttotal: 707ms\tremaining: 2.14s\n",
      "248:\tlearn: 0.3766325\ttotal: 710ms\tremaining: 2.14s\n",
      "249:\tlearn: 0.3763992\ttotal: 712ms\tremaining: 2.14s\n",
      "250:\tlearn: 0.3762338\ttotal: 715ms\tremaining: 2.13s\n",
      "251:\tlearn: 0.3760739\ttotal: 718ms\tremaining: 2.13s\n",
      "252:\tlearn: 0.3759754\ttotal: 720ms\tremaining: 2.13s\n",
      "253:\tlearn: 0.3758131\ttotal: 723ms\tremaining: 2.12s\n",
      "254:\tlearn: 0.3757985\ttotal: 725ms\tremaining: 2.12s\n",
      "255:\tlearn: 0.3757031\ttotal: 727ms\tremaining: 2.11s\n",
      "256:\tlearn: 0.3755964\ttotal: 730ms\tremaining: 2.11s\n",
      "257:\tlearn: 0.3755160\ttotal: 733ms\tremaining: 2.11s\n",
      "258:\tlearn: 0.3753886\ttotal: 735ms\tremaining: 2.1s\n",
      "259:\tlearn: 0.3752334\ttotal: 738ms\tremaining: 2.1s\n",
      "260:\tlearn: 0.3750807\ttotal: 740ms\tremaining: 2.1s\n",
      "261:\tlearn: 0.3749495\ttotal: 743ms\tremaining: 2.09s\n",
      "262:\tlearn: 0.3748728\ttotal: 745ms\tremaining: 2.09s\n",
      "263:\tlearn: 0.3747348\ttotal: 748ms\tremaining: 2.08s\n",
      "264:\tlearn: 0.3746639\ttotal: 751ms\tremaining: 2.08s\n",
      "265:\tlearn: 0.3745743\ttotal: 753ms\tremaining: 2.08s\n",
      "266:\tlearn: 0.3744550\ttotal: 756ms\tremaining: 2.07s\n",
      "267:\tlearn: 0.3743606\ttotal: 758ms\tremaining: 2.07s\n",
      "268:\tlearn: 0.3741673\ttotal: 761ms\tremaining: 2.07s\n",
      "269:\tlearn: 0.3740340\ttotal: 763ms\tremaining: 2.06s\n",
      "270:\tlearn: 0.3739136\ttotal: 765ms\tremaining: 2.06s\n",
      "271:\tlearn: 0.3737767\ttotal: 768ms\tremaining: 2.06s\n",
      "272:\tlearn: 0.3737048\ttotal: 771ms\tremaining: 2.05s\n",
      "273:\tlearn: 0.3735263\ttotal: 773ms\tremaining: 2.05s\n",
      "274:\tlearn: 0.3734020\ttotal: 776ms\tremaining: 2.04s\n",
      "275:\tlearn: 0.3733882\ttotal: 778ms\tremaining: 2.04s\n",
      "276:\tlearn: 0.3733201\ttotal: 780ms\tremaining: 2.04s\n",
      "277:\tlearn: 0.3732100\ttotal: 782ms\tremaining: 2.03s\n",
      "278:\tlearn: 0.3730682\ttotal: 785ms\tremaining: 2.03s\n",
      "279:\tlearn: 0.3729744\ttotal: 787ms\tremaining: 2.02s\n",
      "280:\tlearn: 0.3727848\ttotal: 790ms\tremaining: 2.02s\n",
      "281:\tlearn: 0.3727009\ttotal: 792ms\tremaining: 2.02s\n",
      "282:\tlearn: 0.3726021\ttotal: 795ms\tremaining: 2.01s\n",
      "283:\tlearn: 0.3724757\ttotal: 797ms\tremaining: 2.01s\n",
      "284:\tlearn: 0.3723616\ttotal: 800ms\tremaining: 2.01s\n",
      "285:\tlearn: 0.3721998\ttotal: 803ms\tremaining: 2s\n",
      "286:\tlearn: 0.3720743\ttotal: 805ms\tremaining: 2s\n",
      "287:\tlearn: 0.3719435\ttotal: 807ms\tremaining: 2s\n",
      "288:\tlearn: 0.3717901\ttotal: 809ms\tremaining: 1.99s\n",
      "289:\tlearn: 0.3717088\ttotal: 812ms\tremaining: 1.99s\n",
      "290:\tlearn: 0.3716590\ttotal: 814ms\tremaining: 1.98s\n",
      "291:\tlearn: 0.3715406\ttotal: 816ms\tremaining: 1.98s\n",
      "292:\tlearn: 0.3713426\ttotal: 818ms\tremaining: 1.97s\n",
      "293:\tlearn: 0.3712691\ttotal: 821ms\tremaining: 1.97s\n",
      "294:\tlearn: 0.3711462\ttotal: 823ms\tremaining: 1.97s\n",
      "295:\tlearn: 0.3710877\ttotal: 825ms\tremaining: 1.96s\n",
      "296:\tlearn: 0.3710271\ttotal: 828ms\tremaining: 1.96s\n",
      "297:\tlearn: 0.3709072\ttotal: 831ms\tremaining: 1.96s\n",
      "298:\tlearn: 0.3707683\ttotal: 833ms\tremaining: 1.95s\n",
      "299:\tlearn: 0.3706373\ttotal: 835ms\tremaining: 1.95s\n",
      "300:\tlearn: 0.3704974\ttotal: 838ms\tremaining: 1.95s\n",
      "301:\tlearn: 0.3703955\ttotal: 840ms\tremaining: 1.94s\n",
      "302:\tlearn: 0.3703196\ttotal: 842ms\tremaining: 1.94s\n",
      "303:\tlearn: 0.3701874\ttotal: 845ms\tremaining: 1.93s\n",
      "304:\tlearn: 0.3699685\ttotal: 847ms\tremaining: 1.93s\n",
      "305:\tlearn: 0.3697841\ttotal: 849ms\tremaining: 1.93s\n",
      "306:\tlearn: 0.3695948\ttotal: 852ms\tremaining: 1.92s\n",
      "307:\tlearn: 0.3695273\ttotal: 854ms\tremaining: 1.92s\n",
      "308:\tlearn: 0.3694089\ttotal: 856ms\tremaining: 1.91s\n",
      "309:\tlearn: 0.3693126\ttotal: 858ms\tremaining: 1.91s\n",
      "310:\tlearn: 0.3692258\ttotal: 860ms\tremaining: 1.91s\n",
      "311:\tlearn: 0.3691943\ttotal: 862ms\tremaining: 1.9s\n",
      "312:\tlearn: 0.3690328\ttotal: 865ms\tremaining: 1.9s\n",
      "313:\tlearn: 0.3689180\ttotal: 868ms\tremaining: 1.9s\n",
      "314:\tlearn: 0.3687791\ttotal: 871ms\tremaining: 1.89s\n",
      "315:\tlearn: 0.3686054\ttotal: 873ms\tremaining: 1.89s\n",
      "316:\tlearn: 0.3684880\ttotal: 876ms\tremaining: 1.89s\n",
      "317:\tlearn: 0.3684408\ttotal: 878ms\tremaining: 1.88s\n",
      "318:\tlearn: 0.3682767\ttotal: 881ms\tremaining: 1.88s\n",
      "319:\tlearn: 0.3682137\ttotal: 884ms\tremaining: 1.88s\n",
      "320:\tlearn: 0.3680126\ttotal: 887ms\tremaining: 1.88s\n",
      "321:\tlearn: 0.3679268\ttotal: 889ms\tremaining: 1.87s\n",
      "322:\tlearn: 0.3678164\ttotal: 892ms\tremaining: 1.87s\n",
      "323:\tlearn: 0.3677274\ttotal: 895ms\tremaining: 1.87s\n",
      "324:\tlearn: 0.3676408\ttotal: 898ms\tremaining: 1.86s\n",
      "325:\tlearn: 0.3674547\ttotal: 901ms\tremaining: 1.86s\n",
      "326:\tlearn: 0.3672684\ttotal: 903ms\tremaining: 1.86s\n",
      "327:\tlearn: 0.3671960\ttotal: 906ms\tremaining: 1.85s\n",
      "328:\tlearn: 0.3671786\ttotal: 907ms\tremaining: 1.85s\n",
      "329:\tlearn: 0.3670185\ttotal: 910ms\tremaining: 1.85s\n",
      "330:\tlearn: 0.3669650\ttotal: 912ms\tremaining: 1.84s\n",
      "331:\tlearn: 0.3669648\ttotal: 913ms\tremaining: 1.84s\n",
      "332:\tlearn: 0.3669424\ttotal: 915ms\tremaining: 1.83s\n",
      "333:\tlearn: 0.3667934\ttotal: 918ms\tremaining: 1.83s\n",
      "334:\tlearn: 0.3666938\ttotal: 920ms\tremaining: 1.83s\n",
      "335:\tlearn: 0.3665264\ttotal: 922ms\tremaining: 1.82s\n",
      "336:\tlearn: 0.3663583\ttotal: 925ms\tremaining: 1.82s\n",
      "337:\tlearn: 0.3663109\ttotal: 927ms\tremaining: 1.82s\n",
      "338:\tlearn: 0.3662137\ttotal: 930ms\tremaining: 1.81s\n",
      "339:\tlearn: 0.3661798\ttotal: 932ms\tremaining: 1.81s\n",
      "340:\tlearn: 0.3661736\ttotal: 934ms\tremaining: 1.8s\n",
      "341:\tlearn: 0.3659549\ttotal: 936ms\tremaining: 1.8s\n",
      "342:\tlearn: 0.3658397\ttotal: 939ms\tremaining: 1.8s\n",
      "343:\tlearn: 0.3657599\ttotal: 941ms\tremaining: 1.79s\n",
      "344:\tlearn: 0.3656756\ttotal: 944ms\tremaining: 1.79s\n",
      "345:\tlearn: 0.3656012\ttotal: 946ms\tremaining: 1.79s\n",
      "346:\tlearn: 0.3655316\ttotal: 948ms\tremaining: 1.78s\n",
      "347:\tlearn: 0.3654041\ttotal: 950ms\tremaining: 1.78s\n",
      "348:\tlearn: 0.3652821\ttotal: 953ms\tremaining: 1.78s\n",
      "349:\tlearn: 0.3652691\ttotal: 954ms\tremaining: 1.77s\n",
      "350:\tlearn: 0.3651600\ttotal: 957ms\tremaining: 1.77s\n",
      "351:\tlearn: 0.3650593\ttotal: 959ms\tremaining: 1.76s\n",
      "352:\tlearn: 0.3650576\ttotal: 960ms\tremaining: 1.76s\n",
      "353:\tlearn: 0.3649750\ttotal: 963ms\tremaining: 1.76s\n",
      "354:\tlearn: 0.3648518\ttotal: 965ms\tremaining: 1.75s\n",
      "355:\tlearn: 0.3647619\ttotal: 967ms\tremaining: 1.75s\n",
      "356:\tlearn: 0.3646609\ttotal: 970ms\tremaining: 1.75s\n",
      "357:\tlearn: 0.3645424\ttotal: 972ms\tremaining: 1.74s\n",
      "358:\tlearn: 0.3644759\ttotal: 974ms\tremaining: 1.74s\n",
      "359:\tlearn: 0.3642594\ttotal: 977ms\tremaining: 1.74s\n",
      "360:\tlearn: 0.3640889\ttotal: 979ms\tremaining: 1.73s\n",
      "361:\tlearn: 0.3639847\ttotal: 981ms\tremaining: 1.73s\n",
      "362:\tlearn: 0.3638697\ttotal: 984ms\tremaining: 1.73s\n",
      "363:\tlearn: 0.3638259\ttotal: 986ms\tremaining: 1.72s\n",
      "364:\tlearn: 0.3637375\ttotal: 989ms\tremaining: 1.72s\n",
      "365:\tlearn: 0.3635850\ttotal: 991ms\tremaining: 1.72s\n",
      "366:\tlearn: 0.3634543\ttotal: 994ms\tremaining: 1.71s\n",
      "367:\tlearn: 0.3634068\ttotal: 996ms\tremaining: 1.71s\n",
      "368:\tlearn: 0.3632482\ttotal: 998ms\tremaining: 1.71s\n",
      "369:\tlearn: 0.3630583\ttotal: 1s\tremaining: 1.7s\n",
      "370:\tlearn: 0.3629312\ttotal: 1s\tremaining: 1.7s\n",
      "371:\tlearn: 0.3628156\ttotal: 1s\tremaining: 1.7s\n",
      "372:\tlearn: 0.3626453\ttotal: 1.01s\tremaining: 1.69s\n",
      "373:\tlearn: 0.3625375\ttotal: 1.01s\tremaining: 1.69s\n",
      "374:\tlearn: 0.3624692\ttotal: 1.01s\tremaining: 1.69s\n",
      "375:\tlearn: 0.3624213\ttotal: 1.01s\tremaining: 1.68s\n",
      "376:\tlearn: 0.3622598\ttotal: 1.02s\tremaining: 1.68s\n",
      "377:\tlearn: 0.3622044\ttotal: 1.02s\tremaining: 1.68s\n",
      "378:\tlearn: 0.3621005\ttotal: 1.02s\tremaining: 1.67s\n",
      "379:\tlearn: 0.3620169\ttotal: 1.02s\tremaining: 1.67s\n",
      "380:\tlearn: 0.3619328\ttotal: 1.02s\tremaining: 1.67s\n",
      "381:\tlearn: 0.3617518\ttotal: 1.03s\tremaining: 1.66s\n",
      "382:\tlearn: 0.3616750\ttotal: 1.03s\tremaining: 1.66s\n",
      "383:\tlearn: 0.3614809\ttotal: 1.03s\tremaining: 1.66s\n",
      "384:\tlearn: 0.3613905\ttotal: 1.03s\tremaining: 1.65s\n",
      "385:\tlearn: 0.3612056\ttotal: 1.04s\tremaining: 1.65s\n",
      "386:\tlearn: 0.3610452\ttotal: 1.04s\tremaining: 1.65s\n",
      "387:\tlearn: 0.3608931\ttotal: 1.04s\tremaining: 1.64s\n",
      "388:\tlearn: 0.3607578\ttotal: 1.04s\tremaining: 1.64s\n"
     ]
    },
    {
     "name": "stdout",
     "output_type": "stream",
     "text": [
      "389:\tlearn: 0.3606345\ttotal: 1.05s\tremaining: 1.64s\n",
      "390:\tlearn: 0.3605816\ttotal: 1.05s\tremaining: 1.64s\n",
      "391:\tlearn: 0.3604751\ttotal: 1.05s\tremaining: 1.63s\n",
      "392:\tlearn: 0.3604055\ttotal: 1.05s\tremaining: 1.63s\n",
      "393:\tlearn: 0.3602493\ttotal: 1.06s\tremaining: 1.63s\n",
      "394:\tlearn: 0.3600904\ttotal: 1.06s\tremaining: 1.62s\n",
      "395:\tlearn: 0.3600241\ttotal: 1.06s\tremaining: 1.62s\n",
      "396:\tlearn: 0.3599543\ttotal: 1.06s\tremaining: 1.62s\n",
      "397:\tlearn: 0.3598756\ttotal: 1.07s\tremaining: 1.61s\n",
      "398:\tlearn: 0.3597343\ttotal: 1.07s\tremaining: 1.61s\n",
      "399:\tlearn: 0.3596481\ttotal: 1.07s\tremaining: 1.61s\n",
      "400:\tlearn: 0.3595599\ttotal: 1.07s\tremaining: 1.61s\n",
      "401:\tlearn: 0.3594657\ttotal: 1.08s\tremaining: 1.6s\n",
      "402:\tlearn: 0.3593907\ttotal: 1.08s\tremaining: 1.6s\n",
      "403:\tlearn: 0.3592684\ttotal: 1.08s\tremaining: 1.6s\n",
      "404:\tlearn: 0.3591118\ttotal: 1.08s\tremaining: 1.59s\n",
      "405:\tlearn: 0.3590144\ttotal: 1.09s\tremaining: 1.59s\n",
      "406:\tlearn: 0.3588459\ttotal: 1.09s\tremaining: 1.59s\n",
      "407:\tlearn: 0.3587212\ttotal: 1.09s\tremaining: 1.59s\n",
      "408:\tlearn: 0.3586357\ttotal: 1.09s\tremaining: 1.58s\n",
      "409:\tlearn: 0.3585452\ttotal: 1.1s\tremaining: 1.58s\n",
      "410:\tlearn: 0.3584537\ttotal: 1.1s\tremaining: 1.58s\n",
      "411:\tlearn: 0.3583629\ttotal: 1.1s\tremaining: 1.57s\n",
      "412:\tlearn: 0.3581342\ttotal: 1.1s\tremaining: 1.57s\n",
      "413:\tlearn: 0.3580320\ttotal: 1.11s\tremaining: 1.57s\n",
      "414:\tlearn: 0.3578698\ttotal: 1.11s\tremaining: 1.56s\n",
      "415:\tlearn: 0.3577071\ttotal: 1.11s\tremaining: 1.56s\n",
      "416:\tlearn: 0.3575471\ttotal: 1.11s\tremaining: 1.56s\n",
      "417:\tlearn: 0.3574607\ttotal: 1.12s\tremaining: 1.55s\n",
      "418:\tlearn: 0.3573285\ttotal: 1.12s\tremaining: 1.55s\n",
      "419:\tlearn: 0.3572193\ttotal: 1.12s\tremaining: 1.55s\n",
      "420:\tlearn: 0.3571057\ttotal: 1.12s\tremaining: 1.54s\n",
      "421:\tlearn: 0.3569751\ttotal: 1.13s\tremaining: 1.54s\n",
      "422:\tlearn: 0.3568209\ttotal: 1.13s\tremaining: 1.54s\n",
      "423:\tlearn: 0.3566953\ttotal: 1.13s\tremaining: 1.53s\n",
      "424:\tlearn: 0.3565928\ttotal: 1.13s\tremaining: 1.53s\n",
      "425:\tlearn: 0.3564962\ttotal: 1.13s\tremaining: 1.53s\n",
      "426:\tlearn: 0.3563870\ttotal: 1.14s\tremaining: 1.53s\n",
      "427:\tlearn: 0.3562769\ttotal: 1.14s\tremaining: 1.52s\n",
      "428:\tlearn: 0.3561609\ttotal: 1.14s\tremaining: 1.52s\n",
      "429:\tlearn: 0.3560437\ttotal: 1.14s\tremaining: 1.52s\n",
      "430:\tlearn: 0.3559178\ttotal: 1.15s\tremaining: 1.51s\n",
      "431:\tlearn: 0.3558047\ttotal: 1.15s\tremaining: 1.51s\n",
      "432:\tlearn: 0.3556705\ttotal: 1.15s\tremaining: 1.51s\n",
      "433:\tlearn: 0.3555248\ttotal: 1.15s\tremaining: 1.5s\n",
      "434:\tlearn: 0.3554239\ttotal: 1.16s\tremaining: 1.5s\n",
      "435:\tlearn: 0.3553419\ttotal: 1.16s\tremaining: 1.5s\n",
      "436:\tlearn: 0.3552156\ttotal: 1.16s\tremaining: 1.49s\n",
      "437:\tlearn: 0.3551205\ttotal: 1.16s\tremaining: 1.49s\n",
      "438:\tlearn: 0.3550023\ttotal: 1.16s\tremaining: 1.49s\n",
      "439:\tlearn: 0.3549194\ttotal: 1.17s\tremaining: 1.49s\n",
      "440:\tlearn: 0.3548070\ttotal: 1.17s\tremaining: 1.48s\n",
      "441:\tlearn: 0.3547206\ttotal: 1.17s\tremaining: 1.48s\n",
      "442:\tlearn: 0.3545612\ttotal: 1.17s\tremaining: 1.48s\n",
      "443:\tlearn: 0.3544379\ttotal: 1.18s\tremaining: 1.47s\n",
      "444:\tlearn: 0.3542891\ttotal: 1.18s\tremaining: 1.47s\n",
      "445:\tlearn: 0.3541987\ttotal: 1.18s\tremaining: 1.47s\n",
      "446:\tlearn: 0.3540879\ttotal: 1.18s\tremaining: 1.46s\n",
      "447:\tlearn: 0.3539791\ttotal: 1.18s\tremaining: 1.46s\n",
      "448:\tlearn: 0.3538726\ttotal: 1.19s\tremaining: 1.46s\n",
      "449:\tlearn: 0.3537592\ttotal: 1.19s\tremaining: 1.45s\n",
      "450:\tlearn: 0.3536298\ttotal: 1.19s\tremaining: 1.45s\n",
      "451:\tlearn: 0.3535287\ttotal: 1.19s\tremaining: 1.45s\n",
      "452:\tlearn: 0.3532867\ttotal: 1.2s\tremaining: 1.44s\n",
      "453:\tlearn: 0.3531582\ttotal: 1.2s\tremaining: 1.44s\n",
      "454:\tlearn: 0.3530650\ttotal: 1.2s\tremaining: 1.44s\n",
      "455:\tlearn: 0.3529797\ttotal: 1.2s\tremaining: 1.44s\n",
      "456:\tlearn: 0.3528352\ttotal: 1.21s\tremaining: 1.43s\n",
      "457:\tlearn: 0.3527039\ttotal: 1.21s\tremaining: 1.43s\n",
      "458:\tlearn: 0.3526344\ttotal: 1.21s\tremaining: 1.43s\n",
      "459:\tlearn: 0.3525120\ttotal: 1.21s\tremaining: 1.42s\n",
      "460:\tlearn: 0.3524161\ttotal: 1.21s\tremaining: 1.42s\n",
      "461:\tlearn: 0.3522914\ttotal: 1.22s\tremaining: 1.42s\n",
      "462:\tlearn: 0.3521810\ttotal: 1.22s\tremaining: 1.41s\n",
      "463:\tlearn: 0.3520781\ttotal: 1.22s\tremaining: 1.41s\n",
      "464:\tlearn: 0.3519750\ttotal: 1.22s\tremaining: 1.41s\n",
      "465:\tlearn: 0.3518162\ttotal: 1.23s\tremaining: 1.41s\n",
      "466:\tlearn: 0.3517235\ttotal: 1.23s\tremaining: 1.4s\n",
      "467:\tlearn: 0.3516300\ttotal: 1.23s\tremaining: 1.4s\n",
      "468:\tlearn: 0.3514826\ttotal: 1.23s\tremaining: 1.4s\n",
      "469:\tlearn: 0.3512476\ttotal: 1.24s\tremaining: 1.39s\n",
      "470:\tlearn: 0.3511713\ttotal: 1.24s\tremaining: 1.39s\n",
      "471:\tlearn: 0.3510306\ttotal: 1.24s\tremaining: 1.39s\n",
      "472:\tlearn: 0.3509323\ttotal: 1.24s\tremaining: 1.39s\n",
      "473:\tlearn: 0.3508237\ttotal: 1.25s\tremaining: 1.38s\n",
      "474:\tlearn: 0.3507156\ttotal: 1.25s\tremaining: 1.38s\n",
      "475:\tlearn: 0.3505886\ttotal: 1.25s\tremaining: 1.38s\n",
      "476:\tlearn: 0.3504120\ttotal: 1.25s\tremaining: 1.38s\n",
      "477:\tlearn: 0.3502974\ttotal: 1.26s\tremaining: 1.37s\n",
      "478:\tlearn: 0.3501678\ttotal: 1.26s\tremaining: 1.37s\n",
      "479:\tlearn: 0.3500769\ttotal: 1.26s\tremaining: 1.37s\n",
      "480:\tlearn: 0.3499713\ttotal: 1.26s\tremaining: 1.36s\n",
      "481:\tlearn: 0.3498936\ttotal: 1.27s\tremaining: 1.36s\n",
      "482:\tlearn: 0.3497924\ttotal: 1.27s\tremaining: 1.36s\n",
      "483:\tlearn: 0.3496633\ttotal: 1.27s\tremaining: 1.35s\n",
      "484:\tlearn: 0.3495641\ttotal: 1.27s\tremaining: 1.35s\n",
      "485:\tlearn: 0.3494606\ttotal: 1.27s\tremaining: 1.35s\n",
      "486:\tlearn: 0.3493557\ttotal: 1.28s\tremaining: 1.34s\n",
      "487:\tlearn: 0.3492289\ttotal: 1.28s\tremaining: 1.34s\n",
      "488:\tlearn: 0.3491365\ttotal: 1.28s\tremaining: 1.34s\n",
      "489:\tlearn: 0.3490369\ttotal: 1.28s\tremaining: 1.34s\n",
      "490:\tlearn: 0.3488825\ttotal: 1.29s\tremaining: 1.33s\n",
      "491:\tlearn: 0.3487144\ttotal: 1.29s\tremaining: 1.33s\n",
      "492:\tlearn: 0.3486251\ttotal: 1.29s\tremaining: 1.33s\n",
      "493:\tlearn: 0.3485095\ttotal: 1.29s\tremaining: 1.33s\n",
      "494:\tlearn: 0.3484073\ttotal: 1.3s\tremaining: 1.32s\n",
      "495:\tlearn: 0.3483439\ttotal: 1.3s\tremaining: 1.32s\n",
      "496:\tlearn: 0.3481969\ttotal: 1.3s\tremaining: 1.32s\n",
      "497:\tlearn: 0.3480931\ttotal: 1.3s\tremaining: 1.31s\n",
      "498:\tlearn: 0.3479883\ttotal: 1.31s\tremaining: 1.31s\n",
      "499:\tlearn: 0.3478833\ttotal: 1.31s\tremaining: 1.31s\n",
      "500:\tlearn: 0.3477978\ttotal: 1.31s\tremaining: 1.3s\n",
      "501:\tlearn: 0.3476433\ttotal: 1.31s\tremaining: 1.3s\n",
      "502:\tlearn: 0.3475464\ttotal: 1.31s\tremaining: 1.3s\n",
      "503:\tlearn: 0.3474034\ttotal: 1.32s\tremaining: 1.3s\n",
      "504:\tlearn: 0.3473592\ttotal: 1.32s\tremaining: 1.29s\n",
      "505:\tlearn: 0.3471410\ttotal: 1.32s\tremaining: 1.29s\n",
      "506:\tlearn: 0.3470431\ttotal: 1.32s\tremaining: 1.29s\n",
      "507:\tlearn: 0.3468986\ttotal: 1.33s\tremaining: 1.29s\n",
      "508:\tlearn: 0.3467778\ttotal: 1.33s\tremaining: 1.28s\n",
      "509:\tlearn: 0.3467111\ttotal: 1.33s\tremaining: 1.28s\n",
      "510:\tlearn: 0.3465411\ttotal: 1.33s\tremaining: 1.28s\n",
      "511:\tlearn: 0.3464345\ttotal: 1.34s\tremaining: 1.27s\n",
      "512:\tlearn: 0.3463518\ttotal: 1.34s\tremaining: 1.27s\n",
      "513:\tlearn: 0.3461984\ttotal: 1.34s\tremaining: 1.27s\n",
      "514:\tlearn: 0.3460512\ttotal: 1.34s\tremaining: 1.27s\n",
      "515:\tlearn: 0.3459242\ttotal: 1.35s\tremaining: 1.26s\n",
      "516:\tlearn: 0.3457253\ttotal: 1.35s\tremaining: 1.26s\n",
      "517:\tlearn: 0.3456477\ttotal: 1.35s\tremaining: 1.26s\n",
      "518:\tlearn: 0.3455504\ttotal: 1.35s\tremaining: 1.25s\n",
      "519:\tlearn: 0.3454464\ttotal: 1.36s\tremaining: 1.25s\n",
      "520:\tlearn: 0.3453191\ttotal: 1.36s\tremaining: 1.25s\n",
      "521:\tlearn: 0.3452535\ttotal: 1.36s\tremaining: 1.25s\n",
      "522:\tlearn: 0.3451101\ttotal: 1.36s\tremaining: 1.24s\n",
      "523:\tlearn: 0.3450067\ttotal: 1.37s\tremaining: 1.24s\n",
      "524:\tlearn: 0.3448968\ttotal: 1.37s\tremaining: 1.24s\n",
      "525:\tlearn: 0.3447886\ttotal: 1.37s\tremaining: 1.24s\n",
      "526:\tlearn: 0.3446849\ttotal: 1.37s\tremaining: 1.23s\n",
      "527:\tlearn: 0.3445629\ttotal: 1.38s\tremaining: 1.23s\n",
      "528:\tlearn: 0.3443714\ttotal: 1.38s\tremaining: 1.23s\n",
      "529:\tlearn: 0.3442251\ttotal: 1.38s\tremaining: 1.22s\n",
      "530:\tlearn: 0.3440833\ttotal: 1.38s\tremaining: 1.22s\n",
      "531:\tlearn: 0.3440060\ttotal: 1.39s\tremaining: 1.22s\n",
      "532:\tlearn: 0.3439057\ttotal: 1.39s\tremaining: 1.22s\n",
      "533:\tlearn: 0.3436828\ttotal: 1.39s\tremaining: 1.21s\n",
      "534:\tlearn: 0.3436175\ttotal: 1.39s\tremaining: 1.21s\n",
      "535:\tlearn: 0.3435216\ttotal: 1.4s\tremaining: 1.21s\n",
      "536:\tlearn: 0.3434390\ttotal: 1.4s\tremaining: 1.21s\n",
      "537:\tlearn: 0.3433067\ttotal: 1.4s\tremaining: 1.2s\n",
      "538:\tlearn: 0.3432211\ttotal: 1.4s\tremaining: 1.2s\n",
      "539:\tlearn: 0.3430814\ttotal: 1.4s\tremaining: 1.2s\n",
      "540:\tlearn: 0.3430031\ttotal: 1.41s\tremaining: 1.19s\n",
      "541:\tlearn: 0.3428609\ttotal: 1.41s\tremaining: 1.19s\n",
      "542:\tlearn: 0.3426591\ttotal: 1.41s\tremaining: 1.19s\n",
      "543:\tlearn: 0.3425043\ttotal: 1.41s\tremaining: 1.19s\n",
      "544:\tlearn: 0.3423801\ttotal: 1.42s\tremaining: 1.18s\n",
      "545:\tlearn: 0.3423257\ttotal: 1.42s\tremaining: 1.18s\n",
      "546:\tlearn: 0.3422120\ttotal: 1.42s\tremaining: 1.18s\n",
      "547:\tlearn: 0.3421151\ttotal: 1.42s\tremaining: 1.18s\n",
      "548:\tlearn: 0.3420307\ttotal: 1.43s\tremaining: 1.17s\n",
      "549:\tlearn: 0.3418690\ttotal: 1.43s\tremaining: 1.17s\n",
      "550:\tlearn: 0.3417816\ttotal: 1.43s\tremaining: 1.17s\n",
      "551:\tlearn: 0.3416466\ttotal: 1.43s\tremaining: 1.16s\n",
      "552:\tlearn: 0.3415279\ttotal: 1.44s\tremaining: 1.16s\n",
      "553:\tlearn: 0.3414357\ttotal: 1.44s\tremaining: 1.16s\n",
      "554:\tlearn: 0.3413269\ttotal: 1.44s\tremaining: 1.16s\n",
      "555:\tlearn: 0.3412099\ttotal: 1.44s\tremaining: 1.15s\n",
      "556:\tlearn: 0.3411111\ttotal: 1.45s\tremaining: 1.15s\n",
      "557:\tlearn: 0.3409886\ttotal: 1.45s\tremaining: 1.15s\n",
      "558:\tlearn: 0.3409112\ttotal: 1.45s\tremaining: 1.15s\n",
      "559:\tlearn: 0.3408291\ttotal: 1.45s\tremaining: 1.14s\n",
      "560:\tlearn: 0.3407230\ttotal: 1.46s\tremaining: 1.14s\n",
      "561:\tlearn: 0.3404799\ttotal: 1.46s\tremaining: 1.14s\n",
      "562:\tlearn: 0.3403731\ttotal: 1.46s\tremaining: 1.13s\n",
      "563:\tlearn: 0.3402984\ttotal: 1.46s\tremaining: 1.13s\n",
      "564:\tlearn: 0.3401945\ttotal: 1.47s\tremaining: 1.13s\n",
      "565:\tlearn: 0.3400797\ttotal: 1.47s\tremaining: 1.13s\n",
      "566:\tlearn: 0.3400242\ttotal: 1.47s\tremaining: 1.12s\n",
      "567:\tlearn: 0.3399333\ttotal: 1.47s\tremaining: 1.12s\n",
      "568:\tlearn: 0.3398245\ttotal: 1.47s\tremaining: 1.12s\n",
      "569:\tlearn: 0.3396642\ttotal: 1.48s\tremaining: 1.11s\n",
      "570:\tlearn: 0.3395659\ttotal: 1.48s\tremaining: 1.11s\n",
      "571:\tlearn: 0.3394530\ttotal: 1.48s\tremaining: 1.11s\n",
      "572:\tlearn: 0.3393688\ttotal: 1.48s\tremaining: 1.1s\n",
      "573:\tlearn: 0.3392708\ttotal: 1.48s\tremaining: 1.1s\n",
      "574:\tlearn: 0.3391531\ttotal: 1.49s\tremaining: 1.1s\n",
      "575:\tlearn: 0.3390804\ttotal: 1.49s\tremaining: 1.1s\n",
      "576:\tlearn: 0.3389374\ttotal: 1.49s\tremaining: 1.09s\n",
      "577:\tlearn: 0.3388356\ttotal: 1.49s\tremaining: 1.09s\n",
      "578:\tlearn: 0.3387355\ttotal: 1.5s\tremaining: 1.09s\n",
      "579:\tlearn: 0.3385899\ttotal: 1.5s\tremaining: 1.08s\n",
      "580:\tlearn: 0.3384602\ttotal: 1.5s\tremaining: 1.08s\n",
      "581:\tlearn: 0.3383048\ttotal: 1.5s\tremaining: 1.08s\n",
      "582:\tlearn: 0.3382108\ttotal: 1.5s\tremaining: 1.07s\n",
      "583:\tlearn: 0.3381401\ttotal: 1.51s\tremaining: 1.07s\n",
      "584:\tlearn: 0.3380555\ttotal: 1.51s\tremaining: 1.07s\n",
      "585:\tlearn: 0.3379187\ttotal: 1.51s\tremaining: 1.07s\n",
      "586:\tlearn: 0.3378332\ttotal: 1.51s\tremaining: 1.06s\n",
      "587:\tlearn: 0.3376872\ttotal: 1.51s\tremaining: 1.06s\n",
      "588:\tlearn: 0.3375674\ttotal: 1.52s\tremaining: 1.06s\n",
      "589:\tlearn: 0.3374190\ttotal: 1.52s\tremaining: 1.05s\n",
      "590:\tlearn: 0.3373125\ttotal: 1.52s\tremaining: 1.05s\n",
      "591:\tlearn: 0.3372181\ttotal: 1.52s\tremaining: 1.05s\n",
      "592:\tlearn: 0.3371397\ttotal: 1.52s\tremaining: 1.05s\n",
      "593:\tlearn: 0.3370116\ttotal: 1.53s\tremaining: 1.04s\n",
      "594:\tlearn: 0.3368879\ttotal: 1.53s\tremaining: 1.04s\n",
      "595:\tlearn: 0.3368271\ttotal: 1.53s\tremaining: 1.04s\n",
      "596:\tlearn: 0.3366475\ttotal: 1.53s\tremaining: 1.03s\n",
      "597:\tlearn: 0.3365436\ttotal: 1.54s\tremaining: 1.03s\n",
      "598:\tlearn: 0.3363992\ttotal: 1.54s\tremaining: 1.03s\n",
      "599:\tlearn: 0.3362967\ttotal: 1.54s\tremaining: 1.03s\n",
      "600:\tlearn: 0.3362206\ttotal: 1.54s\tremaining: 1.02s\n",
      "601:\tlearn: 0.3360580\ttotal: 1.54s\tremaining: 1.02s\n",
      "602:\tlearn: 0.3358392\ttotal: 1.55s\tremaining: 1.02s\n",
      "603:\tlearn: 0.3357596\ttotal: 1.55s\tremaining: 1.02s\n",
      "604:\tlearn: 0.3356509\ttotal: 1.55s\tremaining: 1.01s\n",
      "605:\tlearn: 0.3355615\ttotal: 1.55s\tremaining: 1.01s\n",
      "606:\tlearn: 0.3354587\ttotal: 1.56s\tremaining: 1.01s\n",
      "607:\tlearn: 0.3353464\ttotal: 1.56s\tremaining: 1s\n",
      "608:\tlearn: 0.3352429\ttotal: 1.56s\tremaining: 1s\n",
      "609:\tlearn: 0.3351254\ttotal: 1.56s\tremaining: 1000ms\n",
      "610:\tlearn: 0.3349877\ttotal: 1.56s\tremaining: 997ms\n",
      "611:\tlearn: 0.3348603\ttotal: 1.57s\tremaining: 994ms\n",
      "612:\tlearn: 0.3347646\ttotal: 1.57s\tremaining: 991ms\n",
      "613:\tlearn: 0.3346735\ttotal: 1.57s\tremaining: 989ms\n",
      "614:\tlearn: 0.3345911\ttotal: 1.57s\tremaining: 986ms\n",
      "615:\tlearn: 0.3345083\ttotal: 1.58s\tremaining: 983ms\n",
      "616:\tlearn: 0.3344009\ttotal: 1.58s\tremaining: 981ms\n",
      "617:\tlearn: 0.3343145\ttotal: 1.58s\tremaining: 978ms\n"
     ]
    },
    {
     "name": "stdout",
     "output_type": "stream",
     "text": [
      "618:\tlearn: 0.3341922\ttotal: 1.58s\tremaining: 975ms\n",
      "619:\tlearn: 0.3341234\ttotal: 1.59s\tremaining: 973ms\n",
      "620:\tlearn: 0.3340576\ttotal: 1.59s\tremaining: 970ms\n",
      "621:\tlearn: 0.3339327\ttotal: 1.59s\tremaining: 967ms\n",
      "622:\tlearn: 0.3337887\ttotal: 1.59s\tremaining: 964ms\n",
      "623:\tlearn: 0.3337334\ttotal: 1.6s\tremaining: 962ms\n",
      "624:\tlearn: 0.3336682\ttotal: 1.6s\tremaining: 959ms\n",
      "625:\tlearn: 0.3336025\ttotal: 1.6s\tremaining: 957ms\n",
      "626:\tlearn: 0.3334953\ttotal: 1.6s\tremaining: 954ms\n",
      "627:\tlearn: 0.3334175\ttotal: 1.61s\tremaining: 952ms\n",
      "628:\tlearn: 0.3333495\ttotal: 1.61s\tremaining: 949ms\n",
      "629:\tlearn: 0.3332146\ttotal: 1.61s\tremaining: 946ms\n",
      "630:\tlearn: 0.3331115\ttotal: 1.61s\tremaining: 944ms\n",
      "631:\tlearn: 0.3330739\ttotal: 1.61s\tremaining: 941ms\n",
      "632:\tlearn: 0.3329757\ttotal: 1.62s\tremaining: 938ms\n",
      "633:\tlearn: 0.3328723\ttotal: 1.62s\tremaining: 935ms\n",
      "634:\tlearn: 0.3328231\ttotal: 1.62s\tremaining: 933ms\n",
      "635:\tlearn: 0.3326607\ttotal: 1.63s\tremaining: 930ms\n",
      "636:\tlearn: 0.3325285\ttotal: 1.63s\tremaining: 927ms\n",
      "637:\tlearn: 0.3324447\ttotal: 1.63s\tremaining: 925ms\n",
      "638:\tlearn: 0.3323246\ttotal: 1.63s\tremaining: 922ms\n",
      "639:\tlearn: 0.3322942\ttotal: 1.63s\tremaining: 919ms\n",
      "640:\tlearn: 0.3321785\ttotal: 1.64s\tremaining: 916ms\n",
      "641:\tlearn: 0.3320251\ttotal: 1.64s\tremaining: 914ms\n",
      "642:\tlearn: 0.3319164\ttotal: 1.64s\tremaining: 911ms\n",
      "643:\tlearn: 0.3318659\ttotal: 1.64s\tremaining: 908ms\n",
      "644:\tlearn: 0.3317596\ttotal: 1.65s\tremaining: 906ms\n",
      "645:\tlearn: 0.3316508\ttotal: 1.65s\tremaining: 903ms\n",
      "646:\tlearn: 0.3315522\ttotal: 1.65s\tremaining: 900ms\n",
      "647:\tlearn: 0.3314173\ttotal: 1.65s\tremaining: 897ms\n",
      "648:\tlearn: 0.3313541\ttotal: 1.65s\tremaining: 895ms\n",
      "649:\tlearn: 0.3312439\ttotal: 1.66s\tremaining: 892ms\n",
      "650:\tlearn: 0.3311793\ttotal: 1.66s\tremaining: 889ms\n",
      "651:\tlearn: 0.3310750\ttotal: 1.66s\tremaining: 887ms\n",
      "652:\tlearn: 0.3310055\ttotal: 1.66s\tremaining: 884ms\n",
      "653:\tlearn: 0.3308878\ttotal: 1.67s\tremaining: 881ms\n",
      "654:\tlearn: 0.3307727\ttotal: 1.67s\tremaining: 879ms\n",
      "655:\tlearn: 0.3306343\ttotal: 1.67s\tremaining: 876ms\n",
      "656:\tlearn: 0.3305109\ttotal: 1.67s\tremaining: 873ms\n",
      "657:\tlearn: 0.3304375\ttotal: 1.67s\tremaining: 870ms\n",
      "658:\tlearn: 0.3303457\ttotal: 1.68s\tremaining: 868ms\n",
      "659:\tlearn: 0.3302620\ttotal: 1.68s\tremaining: 865ms\n",
      "660:\tlearn: 0.3301737\ttotal: 1.68s\tremaining: 862ms\n",
      "661:\tlearn: 0.3300465\ttotal: 1.68s\tremaining: 860ms\n",
      "662:\tlearn: 0.3299519\ttotal: 1.69s\tremaining: 857ms\n",
      "663:\tlearn: 0.3298525\ttotal: 1.69s\tremaining: 854ms\n",
      "664:\tlearn: 0.3298046\ttotal: 1.69s\tremaining: 852ms\n",
      "665:\tlearn: 0.3297047\ttotal: 1.69s\tremaining: 849ms\n",
      "666:\tlearn: 0.3296751\ttotal: 1.7s\tremaining: 846ms\n",
      "667:\tlearn: 0.3295873\ttotal: 1.7s\tremaining: 844ms\n",
      "668:\tlearn: 0.3294595\ttotal: 1.7s\tremaining: 841ms\n",
      "669:\tlearn: 0.3292920\ttotal: 1.7s\tremaining: 838ms\n",
      "670:\tlearn: 0.3292098\ttotal: 1.7s\tremaining: 835ms\n",
      "671:\tlearn: 0.3291291\ttotal: 1.71s\tremaining: 833ms\n",
      "672:\tlearn: 0.3290076\ttotal: 1.71s\tremaining: 830ms\n",
      "673:\tlearn: 0.3288854\ttotal: 1.71s\tremaining: 827ms\n",
      "674:\tlearn: 0.3288047\ttotal: 1.71s\tremaining: 825ms\n",
      "675:\tlearn: 0.3286455\ttotal: 1.71s\tremaining: 822ms\n",
      "676:\tlearn: 0.3285609\ttotal: 1.72s\tremaining: 819ms\n",
      "677:\tlearn: 0.3284881\ttotal: 1.72s\tremaining: 817ms\n",
      "678:\tlearn: 0.3283606\ttotal: 1.72s\tremaining: 814ms\n",
      "679:\tlearn: 0.3283147\ttotal: 1.72s\tremaining: 811ms\n",
      "680:\tlearn: 0.3281959\ttotal: 1.73s\tremaining: 809ms\n",
      "681:\tlearn: 0.3280344\ttotal: 1.73s\tremaining: 806ms\n",
      "682:\tlearn: 0.3279359\ttotal: 1.73s\tremaining: 803ms\n",
      "683:\tlearn: 0.3278353\ttotal: 1.73s\tremaining: 801ms\n",
      "684:\tlearn: 0.3277389\ttotal: 1.74s\tremaining: 798ms\n",
      "685:\tlearn: 0.3277037\ttotal: 1.74s\tremaining: 795ms\n",
      "686:\tlearn: 0.3276256\ttotal: 1.74s\tremaining: 793ms\n",
      "687:\tlearn: 0.3274586\ttotal: 1.74s\tremaining: 790ms\n",
      "688:\tlearn: 0.3273665\ttotal: 1.74s\tremaining: 787ms\n",
      "689:\tlearn: 0.3272112\ttotal: 1.75s\tremaining: 785ms\n",
      "690:\tlearn: 0.3271113\ttotal: 1.75s\tremaining: 782ms\n",
      "691:\tlearn: 0.3269731\ttotal: 1.75s\tremaining: 779ms\n",
      "692:\tlearn: 0.3268935\ttotal: 1.75s\tremaining: 776ms\n",
      "693:\tlearn: 0.3267660\ttotal: 1.75s\tremaining: 774ms\n",
      "694:\tlearn: 0.3266601\ttotal: 1.76s\tremaining: 771ms\n",
      "695:\tlearn: 0.3265278\ttotal: 1.76s\tremaining: 768ms\n",
      "696:\tlearn: 0.3263971\ttotal: 1.76s\tremaining: 766ms\n",
      "697:\tlearn: 0.3262830\ttotal: 1.76s\tremaining: 763ms\n",
      "698:\tlearn: 0.3262201\ttotal: 1.77s\tremaining: 761ms\n",
      "699:\tlearn: 0.3261042\ttotal: 1.77s\tremaining: 758ms\n",
      "700:\tlearn: 0.3260366\ttotal: 1.77s\tremaining: 756ms\n",
      "701:\tlearn: 0.3259249\ttotal: 1.77s\tremaining: 753ms\n",
      "702:\tlearn: 0.3258724\ttotal: 1.78s\tremaining: 750ms\n",
      "703:\tlearn: 0.3258302\ttotal: 1.78s\tremaining: 748ms\n",
      "704:\tlearn: 0.3257572\ttotal: 1.78s\tremaining: 745ms\n",
      "705:\tlearn: 0.3256251\ttotal: 1.78s\tremaining: 743ms\n",
      "706:\tlearn: 0.3255549\ttotal: 1.79s\tremaining: 740ms\n",
      "707:\tlearn: 0.3254902\ttotal: 1.79s\tremaining: 738ms\n",
      "708:\tlearn: 0.3253816\ttotal: 1.79s\tremaining: 735ms\n",
      "709:\tlearn: 0.3252921\ttotal: 1.79s\tremaining: 733ms\n",
      "710:\tlearn: 0.3251914\ttotal: 1.8s\tremaining: 730ms\n",
      "711:\tlearn: 0.3250930\ttotal: 1.8s\tremaining: 728ms\n",
      "712:\tlearn: 0.3249428\ttotal: 1.8s\tremaining: 725ms\n",
      "713:\tlearn: 0.3248839\ttotal: 1.8s\tremaining: 722ms\n",
      "714:\tlearn: 0.3248092\ttotal: 1.8s\tremaining: 720ms\n",
      "715:\tlearn: 0.3247450\ttotal: 1.81s\tremaining: 717ms\n",
      "716:\tlearn: 0.3245841\ttotal: 1.81s\tremaining: 714ms\n",
      "717:\tlearn: 0.3245428\ttotal: 1.81s\tremaining: 712ms\n",
      "718:\tlearn: 0.3244880\ttotal: 1.81s\tremaining: 709ms\n",
      "719:\tlearn: 0.3243296\ttotal: 1.82s\tremaining: 707ms\n",
      "720:\tlearn: 0.3242102\ttotal: 1.82s\tremaining: 704ms\n",
      "721:\tlearn: 0.3241722\ttotal: 1.82s\tremaining: 701ms\n",
      "722:\tlearn: 0.3240740\ttotal: 1.82s\tremaining: 699ms\n",
      "723:\tlearn: 0.3239799\ttotal: 1.83s\tremaining: 696ms\n",
      "724:\tlearn: 0.3238985\ttotal: 1.83s\tremaining: 693ms\n",
      "725:\tlearn: 0.3238327\ttotal: 1.83s\tremaining: 691ms\n",
      "726:\tlearn: 0.3237581\ttotal: 1.83s\tremaining: 688ms\n",
      "727:\tlearn: 0.3236547\ttotal: 1.83s\tremaining: 685ms\n",
      "728:\tlearn: 0.3235688\ttotal: 1.84s\tremaining: 683ms\n",
      "729:\tlearn: 0.3234913\ttotal: 1.84s\tremaining: 680ms\n",
      "730:\tlearn: 0.3234253\ttotal: 1.84s\tremaining: 677ms\n",
      "731:\tlearn: 0.3233251\ttotal: 1.84s\tremaining: 675ms\n",
      "732:\tlearn: 0.3232207\ttotal: 1.84s\tremaining: 672ms\n",
      "733:\tlearn: 0.3230997\ttotal: 1.85s\tremaining: 670ms\n",
      "734:\tlearn: 0.3230205\ttotal: 1.85s\tremaining: 667ms\n",
      "735:\tlearn: 0.3229063\ttotal: 1.85s\tremaining: 664ms\n",
      "736:\tlearn: 0.3228649\ttotal: 1.85s\tremaining: 662ms\n",
      "737:\tlearn: 0.3227733\ttotal: 1.86s\tremaining: 659ms\n",
      "738:\tlearn: 0.3227301\ttotal: 1.86s\tremaining: 657ms\n",
      "739:\tlearn: 0.3225753\ttotal: 1.86s\tremaining: 654ms\n",
      "740:\tlearn: 0.3224498\ttotal: 1.86s\tremaining: 651ms\n",
      "741:\tlearn: 0.3223617\ttotal: 1.86s\tremaining: 649ms\n",
      "742:\tlearn: 0.3223254\ttotal: 1.87s\tremaining: 646ms\n",
      "743:\tlearn: 0.3222686\ttotal: 1.87s\tremaining: 644ms\n",
      "744:\tlearn: 0.3221735\ttotal: 1.87s\tremaining: 641ms\n",
      "745:\tlearn: 0.3220899\ttotal: 1.87s\tremaining: 638ms\n",
      "746:\tlearn: 0.3219605\ttotal: 1.88s\tremaining: 636ms\n",
      "747:\tlearn: 0.3218866\ttotal: 1.88s\tremaining: 633ms\n",
      "748:\tlearn: 0.3218149\ttotal: 1.88s\tremaining: 631ms\n",
      "749:\tlearn: 0.3216813\ttotal: 1.88s\tremaining: 628ms\n",
      "750:\tlearn: 0.3215893\ttotal: 1.89s\tremaining: 625ms\n",
      "751:\tlearn: 0.3214679\ttotal: 1.89s\tremaining: 623ms\n",
      "752:\tlearn: 0.3213999\ttotal: 1.89s\tremaining: 620ms\n",
      "753:\tlearn: 0.3212889\ttotal: 1.89s\tremaining: 617ms\n",
      "754:\tlearn: 0.3212205\ttotal: 1.89s\tremaining: 615ms\n",
      "755:\tlearn: 0.3211207\ttotal: 1.9s\tremaining: 612ms\n",
      "756:\tlearn: 0.3209767\ttotal: 1.9s\tremaining: 610ms\n",
      "757:\tlearn: 0.3208264\ttotal: 1.9s\tremaining: 607ms\n",
      "758:\tlearn: 0.3207014\ttotal: 1.9s\tremaining: 604ms\n",
      "759:\tlearn: 0.3206362\ttotal: 1.91s\tremaining: 602ms\n",
      "760:\tlearn: 0.3205226\ttotal: 1.91s\tremaining: 599ms\n",
      "761:\tlearn: 0.3204558\ttotal: 1.91s\tremaining: 597ms\n",
      "762:\tlearn: 0.3204208\ttotal: 1.91s\tremaining: 594ms\n",
      "763:\tlearn: 0.3203760\ttotal: 1.91s\tremaining: 591ms\n",
      "764:\tlearn: 0.3203297\ttotal: 1.92s\tremaining: 589ms\n",
      "765:\tlearn: 0.3201866\ttotal: 1.92s\tremaining: 586ms\n",
      "766:\tlearn: 0.3201252\ttotal: 1.92s\tremaining: 584ms\n",
      "767:\tlearn: 0.3200410\ttotal: 1.92s\tremaining: 581ms\n",
      "768:\tlearn: 0.3200074\ttotal: 1.93s\tremaining: 578ms\n",
      "769:\tlearn: 0.3199346\ttotal: 1.93s\tremaining: 576ms\n",
      "770:\tlearn: 0.3198840\ttotal: 1.93s\tremaining: 573ms\n",
      "771:\tlearn: 0.3197824\ttotal: 1.93s\tremaining: 571ms\n",
      "772:\tlearn: 0.3197258\ttotal: 1.93s\tremaining: 568ms\n",
      "773:\tlearn: 0.3196774\ttotal: 1.94s\tremaining: 566ms\n",
      "774:\tlearn: 0.3196631\ttotal: 1.94s\tremaining: 563ms\n",
      "775:\tlearn: 0.3196039\ttotal: 1.94s\tremaining: 560ms\n"
     ]
    },
    {
     "name": "stdout",
     "output_type": "stream",
     "text": [
      "776:\tlearn: 0.3194604\ttotal: 1.94s\tremaining: 558ms\n",
      "777:\tlearn: 0.3193537\ttotal: 1.95s\tremaining: 556ms\n",
      "778:\tlearn: 0.3192428\ttotal: 1.95s\tremaining: 553ms\n",
      "779:\tlearn: 0.3192152\ttotal: 1.95s\tremaining: 550ms\n",
      "780:\tlearn: 0.3191030\ttotal: 1.95s\tremaining: 548ms\n",
      "781:\tlearn: 0.3190048\ttotal: 1.96s\tremaining: 545ms\n",
      "782:\tlearn: 0.3188829\ttotal: 1.96s\tremaining: 543ms\n",
      "783:\tlearn: 0.3188005\ttotal: 1.96s\tremaining: 540ms\n",
      "784:\tlearn: 0.3187376\ttotal: 1.96s\tremaining: 538ms\n",
      "785:\tlearn: 0.3186128\ttotal: 1.97s\tremaining: 535ms\n",
      "786:\tlearn: 0.3184690\ttotal: 1.97s\tremaining: 533ms\n",
      "787:\tlearn: 0.3183748\ttotal: 1.97s\tremaining: 530ms\n",
      "788:\tlearn: 0.3183159\ttotal: 1.97s\tremaining: 528ms\n",
      "789:\tlearn: 0.3182017\ttotal: 1.98s\tremaining: 525ms\n",
      "790:\tlearn: 0.3181091\ttotal: 1.98s\tremaining: 523ms\n",
      "791:\tlearn: 0.3179703\ttotal: 1.98s\tremaining: 520ms\n",
      "792:\tlearn: 0.3178278\ttotal: 1.98s\tremaining: 518ms\n",
      "793:\tlearn: 0.3176884\ttotal: 1.99s\tremaining: 515ms\n",
      "794:\tlearn: 0.3175552\ttotal: 1.99s\tremaining: 512ms\n",
      "795:\tlearn: 0.3174667\ttotal: 1.99s\tremaining: 510ms\n",
      "796:\tlearn: 0.3173491\ttotal: 1.99s\tremaining: 507ms\n",
      "797:\tlearn: 0.3172317\ttotal: 1.99s\tremaining: 505ms\n",
      "798:\tlearn: 0.3171148\ttotal: 2s\tremaining: 502ms\n",
      "799:\tlearn: 0.3170329\ttotal: 2s\tremaining: 500ms\n",
      "800:\tlearn: 0.3169669\ttotal: 2s\tremaining: 497ms\n",
      "801:\tlearn: 0.3168357\ttotal: 2s\tremaining: 494ms\n",
      "802:\tlearn: 0.3167704\ttotal: 2s\tremaining: 492ms\n",
      "803:\tlearn: 0.3166469\ttotal: 2.01s\tremaining: 489ms\n",
      "804:\tlearn: 0.3165455\ttotal: 2.01s\tremaining: 487ms\n",
      "805:\tlearn: 0.3164372\ttotal: 2.01s\tremaining: 484ms\n",
      "806:\tlearn: 0.3163723\ttotal: 2.01s\tremaining: 482ms\n",
      "807:\tlearn: 0.3163033\ttotal: 2.02s\tremaining: 479ms\n",
      "808:\tlearn: 0.3162424\ttotal: 2.02s\tremaining: 477ms\n",
      "809:\tlearn: 0.3160733\ttotal: 2.02s\tremaining: 474ms\n",
      "810:\tlearn: 0.3159113\ttotal: 2.02s\tremaining: 471ms\n",
      "811:\tlearn: 0.3158526\ttotal: 2.02s\tremaining: 469ms\n",
      "812:\tlearn: 0.3157506\ttotal: 2.03s\tremaining: 466ms\n",
      "813:\tlearn: 0.3156923\ttotal: 2.03s\tremaining: 464ms\n",
      "814:\tlearn: 0.3156406\ttotal: 2.03s\tremaining: 461ms\n",
      "815:\tlearn: 0.3155837\ttotal: 2.03s\tremaining: 459ms\n",
      "816:\tlearn: 0.3155070\ttotal: 2.04s\tremaining: 456ms\n",
      "817:\tlearn: 0.3154368\ttotal: 2.04s\tremaining: 454ms\n",
      "818:\tlearn: 0.3153423\ttotal: 2.04s\tremaining: 451ms\n",
      "819:\tlearn: 0.3152351\ttotal: 2.04s\tremaining: 449ms\n",
      "820:\tlearn: 0.3151822\ttotal: 2.04s\tremaining: 446ms\n",
      "821:\tlearn: 0.3150562\ttotal: 2.05s\tremaining: 443ms\n",
      "822:\tlearn: 0.3149364\ttotal: 2.05s\tremaining: 441ms\n",
      "823:\tlearn: 0.3148584\ttotal: 2.05s\tremaining: 438ms\n",
      "824:\tlearn: 0.3147374\ttotal: 2.05s\tremaining: 436ms\n",
      "825:\tlearn: 0.3146373\ttotal: 2.06s\tremaining: 433ms\n",
      "826:\tlearn: 0.3145714\ttotal: 2.06s\tremaining: 431ms\n",
      "827:\tlearn: 0.3144842\ttotal: 2.06s\tremaining: 428ms\n",
      "828:\tlearn: 0.3144281\ttotal: 2.06s\tremaining: 426ms\n",
      "829:\tlearn: 0.3143469\ttotal: 2.06s\tremaining: 423ms\n",
      "830:\tlearn: 0.3142548\ttotal: 2.07s\tremaining: 420ms\n",
      "831:\tlearn: 0.3141266\ttotal: 2.07s\tremaining: 418ms\n",
      "832:\tlearn: 0.3140067\ttotal: 2.07s\tremaining: 415ms\n",
      "833:\tlearn: 0.3139529\ttotal: 2.07s\tremaining: 413ms\n",
      "834:\tlearn: 0.3138942\ttotal: 2.08s\tremaining: 410ms\n",
      "835:\tlearn: 0.3138034\ttotal: 2.08s\tremaining: 408ms\n",
      "836:\tlearn: 0.3137364\ttotal: 2.08s\tremaining: 405ms\n",
      "837:\tlearn: 0.3136795\ttotal: 2.08s\tremaining: 403ms\n",
      "838:\tlearn: 0.3136189\ttotal: 2.08s\tremaining: 400ms\n",
      "839:\tlearn: 0.3135521\ttotal: 2.09s\tremaining: 398ms\n",
      "840:\tlearn: 0.3134783\ttotal: 2.09s\tremaining: 395ms\n",
      "841:\tlearn: 0.3134065\ttotal: 2.09s\tremaining: 392ms\n",
      "842:\tlearn: 0.3132706\ttotal: 2.09s\tremaining: 390ms\n",
      "843:\tlearn: 0.3131596\ttotal: 2.1s\tremaining: 387ms\n",
      "844:\tlearn: 0.3130781\ttotal: 2.1s\tremaining: 385ms\n",
      "845:\tlearn: 0.3129728\ttotal: 2.1s\tremaining: 382ms\n",
      "846:\tlearn: 0.3129300\ttotal: 2.1s\tremaining: 380ms\n",
      "847:\tlearn: 0.3128672\ttotal: 2.1s\tremaining: 377ms\n",
      "848:\tlearn: 0.3127652\ttotal: 2.11s\tremaining: 375ms\n",
      "849:\tlearn: 0.3127042\ttotal: 2.11s\tremaining: 372ms\n",
      "850:\tlearn: 0.3126420\ttotal: 2.11s\tremaining: 370ms\n",
      "851:\tlearn: 0.3125616\ttotal: 2.11s\tremaining: 367ms\n",
      "852:\tlearn: 0.3124457\ttotal: 2.12s\tremaining: 365ms\n",
      "853:\tlearn: 0.3123615\ttotal: 2.12s\tremaining: 362ms\n",
      "854:\tlearn: 0.3122149\ttotal: 2.12s\tremaining: 360ms\n",
      "855:\tlearn: 0.3121059\ttotal: 2.12s\tremaining: 357ms\n",
      "856:\tlearn: 0.3120632\ttotal: 2.13s\tremaining: 355ms\n",
      "857:\tlearn: 0.3119346\ttotal: 2.13s\tremaining: 352ms\n",
      "858:\tlearn: 0.3118268\ttotal: 2.13s\tremaining: 350ms\n",
      "859:\tlearn: 0.3117049\ttotal: 2.13s\tremaining: 347ms\n",
      "860:\tlearn: 0.3116229\ttotal: 2.14s\tremaining: 345ms\n",
      "861:\tlearn: 0.3114695\ttotal: 2.14s\tremaining: 342ms\n",
      "862:\tlearn: 0.3114282\ttotal: 2.14s\tremaining: 340ms\n",
      "863:\tlearn: 0.3113186\ttotal: 2.14s\tremaining: 337ms\n",
      "864:\tlearn: 0.3112644\ttotal: 2.15s\tremaining: 335ms\n",
      "865:\tlearn: 0.3111885\ttotal: 2.15s\tremaining: 333ms\n",
      "866:\tlearn: 0.3111268\ttotal: 2.15s\tremaining: 330ms\n",
      "867:\tlearn: 0.3110800\ttotal: 2.15s\tremaining: 328ms\n",
      "868:\tlearn: 0.3109678\ttotal: 2.16s\tremaining: 325ms\n",
      "869:\tlearn: 0.3108540\ttotal: 2.16s\tremaining: 323ms\n",
      "870:\tlearn: 0.3107994\ttotal: 2.16s\tremaining: 320ms\n",
      "871:\tlearn: 0.3106776\ttotal: 2.16s\tremaining: 318ms\n",
      "872:\tlearn: 0.3105669\ttotal: 2.17s\tremaining: 315ms\n",
      "873:\tlearn: 0.3105188\ttotal: 2.17s\tremaining: 312ms\n",
      "874:\tlearn: 0.3104200\ttotal: 2.17s\tremaining: 310ms\n",
      "875:\tlearn: 0.3103438\ttotal: 2.17s\tremaining: 308ms\n",
      "876:\tlearn: 0.3103221\ttotal: 2.17s\tremaining: 305ms\n",
      "877:\tlearn: 0.3102848\ttotal: 2.18s\tremaining: 302ms\n",
      "878:\tlearn: 0.3102086\ttotal: 2.18s\tremaining: 300ms\n",
      "879:\tlearn: 0.3101301\ttotal: 2.18s\tremaining: 297ms\n",
      "880:\tlearn: 0.3100765\ttotal: 2.18s\tremaining: 295ms\n",
      "881:\tlearn: 0.3099384\ttotal: 2.19s\tremaining: 292ms\n",
      "882:\tlearn: 0.3098715\ttotal: 2.19s\tremaining: 290ms\n",
      "883:\tlearn: 0.3097626\ttotal: 2.19s\tremaining: 287ms\n",
      "884:\tlearn: 0.3096589\ttotal: 2.19s\tremaining: 285ms\n",
      "885:\tlearn: 0.3095764\ttotal: 2.19s\tremaining: 282ms\n",
      "886:\tlearn: 0.3095094\ttotal: 2.2s\tremaining: 280ms\n",
      "887:\tlearn: 0.3094888\ttotal: 2.2s\tremaining: 277ms\n",
      "888:\tlearn: 0.3094415\ttotal: 2.2s\tremaining: 275ms\n",
      "889:\tlearn: 0.3092954\ttotal: 2.2s\tremaining: 272ms\n",
      "890:\tlearn: 0.3092026\ttotal: 2.21s\tremaining: 270ms\n",
      "891:\tlearn: 0.3091459\ttotal: 2.21s\tremaining: 267ms\n",
      "892:\tlearn: 0.3090354\ttotal: 2.21s\tremaining: 265ms\n",
      "893:\tlearn: 0.3089638\ttotal: 2.21s\tremaining: 262ms\n",
      "894:\tlearn: 0.3088532\ttotal: 2.21s\tremaining: 260ms\n",
      "895:\tlearn: 0.3087747\ttotal: 2.22s\tremaining: 257ms\n",
      "896:\tlearn: 0.3086919\ttotal: 2.22s\tremaining: 255ms\n",
      "897:\tlearn: 0.3085373\ttotal: 2.22s\tremaining: 252ms\n",
      "898:\tlearn: 0.3084174\ttotal: 2.22s\tremaining: 250ms\n",
      "899:\tlearn: 0.3083722\ttotal: 2.23s\tremaining: 247ms\n",
      "900:\tlearn: 0.3083084\ttotal: 2.23s\tremaining: 245ms\n",
      "901:\tlearn: 0.3082090\ttotal: 2.23s\tremaining: 242ms\n",
      "902:\tlearn: 0.3081047\ttotal: 2.23s\tremaining: 240ms\n",
      "903:\tlearn: 0.3080281\ttotal: 2.23s\tremaining: 237ms\n",
      "904:\tlearn: 0.3079687\ttotal: 2.24s\tremaining: 235ms\n",
      "905:\tlearn: 0.3079183\ttotal: 2.24s\tremaining: 232ms\n",
      "906:\tlearn: 0.3078240\ttotal: 2.24s\tremaining: 230ms\n",
      "907:\tlearn: 0.3077151\ttotal: 2.24s\tremaining: 227ms\n",
      "908:\tlearn: 0.3076573\ttotal: 2.25s\tremaining: 225ms\n",
      "909:\tlearn: 0.3075855\ttotal: 2.25s\tremaining: 222ms\n",
      "910:\tlearn: 0.3074889\ttotal: 2.25s\tremaining: 220ms\n",
      "911:\tlearn: 0.3074162\ttotal: 2.25s\tremaining: 217ms\n",
      "912:\tlearn: 0.3073238\ttotal: 2.25s\tremaining: 215ms\n",
      "913:\tlearn: 0.3072221\ttotal: 2.26s\tremaining: 212ms\n",
      "914:\tlearn: 0.3071013\ttotal: 2.26s\tremaining: 210ms\n",
      "915:\tlearn: 0.3069905\ttotal: 2.26s\tremaining: 207ms\n",
      "916:\tlearn: 0.3069349\ttotal: 2.26s\tremaining: 205ms\n",
      "917:\tlearn: 0.3067880\ttotal: 2.27s\tremaining: 203ms\n",
      "918:\tlearn: 0.3067232\ttotal: 2.27s\tremaining: 200ms\n",
      "919:\tlearn: 0.3066547\ttotal: 2.27s\tremaining: 198ms\n",
      "920:\tlearn: 0.3065679\ttotal: 2.27s\tremaining: 195ms\n",
      "921:\tlearn: 0.3064721\ttotal: 2.28s\tremaining: 193ms\n",
      "922:\tlearn: 0.3063009\ttotal: 2.28s\tremaining: 190ms\n",
      "923:\tlearn: 0.3062252\ttotal: 2.28s\tremaining: 188ms\n",
      "924:\tlearn: 0.3061190\ttotal: 2.28s\tremaining: 185ms\n",
      "925:\tlearn: 0.3060677\ttotal: 2.29s\tremaining: 183ms\n",
      "926:\tlearn: 0.3060053\ttotal: 2.29s\tremaining: 180ms\n",
      "927:\tlearn: 0.3059526\ttotal: 2.29s\tremaining: 178ms\n",
      "928:\tlearn: 0.3058598\ttotal: 2.29s\tremaining: 175ms\n",
      "929:\tlearn: 0.3058105\ttotal: 2.29s\tremaining: 173ms\n",
      "930:\tlearn: 0.3056819\ttotal: 2.3s\tremaining: 170ms\n",
      "931:\tlearn: 0.3056377\ttotal: 2.3s\tremaining: 168ms\n",
      "932:\tlearn: 0.3055479\ttotal: 2.3s\tremaining: 165ms\n",
      "933:\tlearn: 0.3054665\ttotal: 2.31s\tremaining: 163ms\n",
      "934:\tlearn: 0.3053699\ttotal: 2.31s\tremaining: 160ms\n",
      "935:\tlearn: 0.3052664\ttotal: 2.31s\tremaining: 158ms\n",
      "936:\tlearn: 0.3052208\ttotal: 2.31s\tremaining: 156ms\n",
      "937:\tlearn: 0.3051361\ttotal: 2.31s\tremaining: 153ms\n"
     ]
    },
    {
     "name": "stdout",
     "output_type": "stream",
     "text": [
      "938:\tlearn: 0.3049727\ttotal: 2.32s\tremaining: 151ms\n",
      "939:\tlearn: 0.3048690\ttotal: 2.32s\tremaining: 148ms\n",
      "940:\tlearn: 0.3047879\ttotal: 2.32s\tremaining: 146ms\n",
      "941:\tlearn: 0.3046640\ttotal: 2.33s\tremaining: 143ms\n",
      "942:\tlearn: 0.3045456\ttotal: 2.33s\tremaining: 141ms\n",
      "943:\tlearn: 0.3044210\ttotal: 2.33s\tremaining: 138ms\n",
      "944:\tlearn: 0.3043297\ttotal: 2.33s\tremaining: 136ms\n",
      "945:\tlearn: 0.3042997\ttotal: 2.34s\tremaining: 133ms\n",
      "946:\tlearn: 0.3042400\ttotal: 2.34s\tremaining: 131ms\n",
      "947:\tlearn: 0.3041797\ttotal: 2.34s\tremaining: 128ms\n",
      "948:\tlearn: 0.3040817\ttotal: 2.34s\tremaining: 126ms\n",
      "949:\tlearn: 0.3040061\ttotal: 2.35s\tremaining: 123ms\n",
      "950:\tlearn: 0.3038858\ttotal: 2.35s\tremaining: 121ms\n",
      "951:\tlearn: 0.3038467\ttotal: 2.35s\tremaining: 119ms\n",
      "952:\tlearn: 0.3037953\ttotal: 2.35s\tremaining: 116ms\n",
      "953:\tlearn: 0.3036401\ttotal: 2.35s\tremaining: 114ms\n",
      "954:\tlearn: 0.3036020\ttotal: 2.36s\tremaining: 111ms\n",
      "955:\tlearn: 0.3034865\ttotal: 2.36s\tremaining: 109ms\n",
      "956:\tlearn: 0.3034354\ttotal: 2.36s\tremaining: 106ms\n",
      "957:\tlearn: 0.3033270\ttotal: 2.36s\tremaining: 104ms\n",
      "958:\tlearn: 0.3032839\ttotal: 2.37s\tremaining: 101ms\n",
      "959:\tlearn: 0.3031853\ttotal: 2.37s\tremaining: 98.7ms\n",
      "960:\tlearn: 0.3031431\ttotal: 2.37s\tremaining: 96.2ms\n",
      "961:\tlearn: 0.3030909\ttotal: 2.37s\tremaining: 93.8ms\n",
      "962:\tlearn: 0.3029890\ttotal: 2.38s\tremaining: 91.3ms\n",
      "963:\tlearn: 0.3028838\ttotal: 2.38s\tremaining: 88.8ms\n",
      "964:\tlearn: 0.3028563\ttotal: 2.38s\tremaining: 86.3ms\n",
      "965:\tlearn: 0.3027872\ttotal: 2.38s\tremaining: 83.9ms\n",
      "966:\tlearn: 0.3027445\ttotal: 2.38s\tremaining: 81.4ms\n",
      "967:\tlearn: 0.3027034\ttotal: 2.39s\tremaining: 78.9ms\n",
      "968:\tlearn: 0.3026610\ttotal: 2.39s\tremaining: 76.4ms\n",
      "969:\tlearn: 0.3025842\ttotal: 2.39s\tremaining: 73.9ms\n",
      "970:\tlearn: 0.3025214\ttotal: 2.39s\tremaining: 71.5ms\n",
      "971:\tlearn: 0.3024746\ttotal: 2.4s\tremaining: 69ms\n",
      "972:\tlearn: 0.3024341\ttotal: 2.4s\tremaining: 66.5ms\n",
      "973:\tlearn: 0.3023839\ttotal: 2.4s\tremaining: 64.1ms\n",
      "974:\tlearn: 0.3023624\ttotal: 2.4s\tremaining: 61.6ms\n",
      "975:\tlearn: 0.3023049\ttotal: 2.4s\tremaining: 59.1ms\n",
      "976:\tlearn: 0.3021850\ttotal: 2.41s\tremaining: 56.6ms\n",
      "977:\tlearn: 0.3021206\ttotal: 2.41s\tremaining: 54.2ms\n",
      "978:\tlearn: 0.3019862\ttotal: 2.41s\tremaining: 51.7ms\n",
      "979:\tlearn: 0.3019250\ttotal: 2.41s\tremaining: 49.3ms\n",
      "980:\tlearn: 0.3018074\ttotal: 2.42s\tremaining: 46.8ms\n",
      "981:\tlearn: 0.3016913\ttotal: 2.42s\tremaining: 44.3ms\n",
      "982:\tlearn: 0.3015771\ttotal: 2.42s\tremaining: 41.9ms\n",
      "983:\tlearn: 0.3014762\ttotal: 2.42s\tremaining: 39.4ms\n",
      "984:\tlearn: 0.3013911\ttotal: 2.42s\tremaining: 36.9ms\n",
      "985:\tlearn: 0.3013296\ttotal: 2.43s\tremaining: 34.5ms\n",
      "986:\tlearn: 0.3012787\ttotal: 2.43s\tremaining: 32ms\n",
      "987:\tlearn: 0.3012469\ttotal: 2.43s\tremaining: 29.5ms\n",
      "988:\tlearn: 0.3011631\ttotal: 2.44s\tremaining: 27.1ms\n",
      "989:\tlearn: 0.3010509\ttotal: 2.44s\tremaining: 24.6ms\n",
      "990:\tlearn: 0.3009880\ttotal: 2.44s\tremaining: 22.2ms\n",
      "991:\tlearn: 0.3009646\ttotal: 2.44s\tremaining: 19.7ms\n",
      "992:\tlearn: 0.3008497\ttotal: 2.44s\tremaining: 17.2ms\n",
      "993:\tlearn: 0.3007540\ttotal: 2.45s\tremaining: 14.8ms\n",
      "994:\tlearn: 0.3007013\ttotal: 2.45s\tremaining: 12.3ms\n",
      "995:\tlearn: 0.3006048\ttotal: 2.45s\tremaining: 9.85ms\n",
      "996:\tlearn: 0.3004997\ttotal: 2.45s\tremaining: 7.38ms\n",
      "997:\tlearn: 0.3003942\ttotal: 2.46s\tremaining: 4.92ms\n",
      "998:\tlearn: 0.3003438\ttotal: 2.46s\tremaining: 2.46ms\n",
      "999:\tlearn: 0.3002644\ttotal: 2.46s\tremaining: 0us\n"
     ]
    }
   ],
   "source": [
    "from catboost import CatBoostClassifier \n",
    "cbc = CatBoostClassifier()\n",
    "cbc.fit(x_train, y_train)\n",
    "# make predictions\n",
    "predictions = cbc.predict(x_test)"
   ]
  },
  {
   "cell_type": "code",
   "execution_count": 91,
   "id": "af97d251",
   "metadata": {},
   "outputs": [
    {
     "name": "stdout",
     "output_type": "stream",
     "text": [
      "Overall Accuracy: 0.7974443918599148\n",
      "Overall Precision: 0.7386989870465048\n",
      "Overall Recall: 0.7139907033894375\n",
      "Overall f1_score: 0.7241823957682698\n"
     ]
    }
   ],
   "source": [
    "# Метрики качества\n",
    "print(\"Overall Accuracy:\",accuracy_score(y_test, predictions))\n",
    "print(\"Overall Precision:\",precision_score(y_test, predictions, average='macro'))\n",
    "print(\"Overall Recall:\",recall_score(y_test, predictions, average='macro'))\n",
    "print(\"Overall f1_score:\",f1_score(y_test, predictions, average='macro'))"
   ]
  },
  {
   "cell_type": "code",
   "execution_count": 92,
   "id": "a494dc5f",
   "metadata": {},
   "outputs": [
    {
     "name": "stdout",
     "output_type": "stream",
     "text": [
      "Train xgb ROC-AUC = 0.9362108980106072\n",
      "Test xgb ROC-AUC =  0.8365355635925256\n"
     ]
    }
   ],
   "source": [
    "print ('Train xgb ROC-AUC =', roc_auc_score(y_train, cbc.predict_proba(x_train)[:,1]))\n",
    "print ('Test xgb ROC-AUC = ', roc_auc_score(y_test, cbc.predict_proba(x_test)[:,1]))"
   ]
  },
  {
   "cell_type": "code",
   "execution_count": 93,
   "id": "6204fef6",
   "metadata": {},
   "outputs": [],
   "source": [
    "#Можно сказать, что с небольшим отрывом лидирует catboost. Далее проведем настройку гиперпараметров на кросс-валидации.\n"
   ]
  },
  {
   "cell_type": "code",
   "execution_count": 94,
   "id": "5e3f6305",
   "metadata": {},
   "outputs": [
    {
     "data": {
      "text/plain": [
       "{'learning_rate': 0.5, 'max_depth': 1, 'n_estimators': 75}"
      ]
     },
     "execution_count": 94,
     "metadata": {},
     "output_type": "execute_result"
    }
   ],
   "source": [
    "#Кросс-валидация для GradientBoostingClassifier\n",
    "from sklearn.model_selection import GridSearchCV\n",
    "parameters = {'n_estimators': [25, 50, 75, 100], 'learning_rate': [0.1,0.5,1], 'max_depth': [1,3,5,8]}\n",
    "grid_search_gbm = GridSearchCV(gbm, parameters, cv=5, n_jobs=-1)\n",
    "grid_search_gbm.fit(x_train, y_train)\n",
    "best_gbm = grid_search_gbm.best_estimator_\n",
    "grid_search_gbm.best_params_ "
   ]
  },
  {
   "cell_type": "code",
   "execution_count": 95,
   "id": "a3e03f54",
   "metadata": {},
   "outputs": [],
   "source": [
    "#По дефолту learning_rate: 0,1; max_depth=3; n_estimators=100"
   ]
  },
  {
   "cell_type": "code",
   "execution_count": 96,
   "id": "8906cd86",
   "metadata": {},
   "outputs": [],
   "source": [
    "gbm_cv = GradientBoostingClassifier(learning_rate=0.5, max_depth=1, n_estimators=75).fit(x_train, y_train)"
   ]
  },
  {
   "cell_type": "code",
   "execution_count": 97,
   "id": "e62db178",
   "metadata": {},
   "outputs": [
    {
     "name": "stdout",
     "output_type": "stream",
     "text": [
      "Overall Accuracy: 0.8035967818267865\n",
      "Overall Precision: 0.7476282358425816\n",
      "Overall Recall: 0.7216592479250707\n",
      "Overall f1_score: 0.7323821844684343\n"
     ]
    }
   ],
   "source": [
    "predictions = gbm_cv.predict(x_test)\n",
    "# Метрики качества\n",
    "print(\"Overall Accuracy:\",accuracy_score(y_test, predictions))\n",
    "print(\"Overall Precision:\",precision_score(y_test, predictions, average='macro'))\n",
    "print(\"Overall Recall:\",recall_score(y_test, predictions, average='macro'))\n",
    "print(\"Overall f1_score:\",f1_score(y_test, predictions, average='macro'))"
   ]
  },
  {
   "cell_type": "code",
   "execution_count": 98,
   "id": "1c0f5d51",
   "metadata": {},
   "outputs": [
    {
     "name": "stdout",
     "output_type": "stream",
     "text": [
      "Train gbm ROC-AUC = 0.8616123467837841\n",
      "Test gbm ROC-AUC =  0.8397238837112255\n"
     ]
    }
   ],
   "source": [
    "print ('Train gbm ROC-AUC =', roc_auc_score(y_train, gbm_cv.predict_proba(x_train)[:,1]))\n",
    "print ('Test gbm ROC-AUC = ', roc_auc_score(y_test, gbm_cv.predict_proba(x_test)[:,1]))"
   ]
  },
  {
   "cell_type": "code",
   "execution_count": null,
   "id": "b6233d52",
   "metadata": {},
   "outputs": [],
   "source": []
  },
  {
   "cell_type": "code",
   "execution_count": 103,
   "id": "39695253",
   "metadata": {},
   "outputs": [
    {
     "data": {
      "text/plain": [
       "{'learning_rate': 0.5, 'max_depth': 1, 'n_estimators': 75}"
      ]
     },
     "execution_count": 103,
     "metadata": {},
     "output_type": "execute_result"
    }
   ],
   "source": [
    "#Кросс-валидация для xgboost\n",
    "parameters = {'n_estimators': [25, 50, 75, 100], 'learning_rate': [0.1,0.5,1], 'max_depth': [1,3,5,8]}\n",
    "grid_search_bst = GridSearchCV(bst, parameters, cv=5, n_jobs=-1)\n",
    "grid_search_bst.fit(x_train, y_train)\n",
    "best_bst = grid_search_bst.best_estimator_\n",
    "grid_search_bst.best_params_ "
   ]
  },
  {
   "cell_type": "code",
   "execution_count": 105,
   "id": "7a4456b7",
   "metadata": {},
   "outputs": [],
   "source": [
    "bst_cv = XGBClassifier(learning_rate=0.5, max_depth=1, n_estimators=75).fit(x_train, y_train)"
   ]
  },
  {
   "cell_type": "code",
   "execution_count": 106,
   "id": "07142980",
   "metadata": {},
   "outputs": [
    {
     "name": "stdout",
     "output_type": "stream",
     "text": [
      "Overall Accuracy: 0.8045433033601515\n",
      "Overall Precision: 0.7492117284384927\n",
      "Overall Recall: 0.721716627254602\n",
      "Overall f1_score: 0.7329599474652633\n"
     ]
    }
   ],
   "source": [
    "predictions = bst_cv.predict(x_test)\n",
    "# Метрики качества\n",
    "print(\"Overall Accuracy:\",accuracy_score(y_test, predictions))\n",
    "print(\"Overall Precision:\",precision_score(y_test, predictions, average='macro'))\n",
    "print(\"Overall Recall:\",recall_score(y_test, predictions, average='macro'))\n",
    "print(\"Overall f1_score:\",f1_score(y_test, predictions, average='macro'))"
   ]
  },
  {
   "cell_type": "code",
   "execution_count": 107,
   "id": "fd67ef9c",
   "metadata": {},
   "outputs": [
    {
     "name": "stdout",
     "output_type": "stream",
     "text": [
      "Train xgb ROC-AUC = 0.8613374322753627\n",
      "Test xgb ROC-AUC =  0.8400525107803588\n"
     ]
    }
   ],
   "source": [
    "print ('Train xgb ROC-AUC =', roc_auc_score(y_train, bst_cv.predict_proba(x_train)[:,1]))\n",
    "print ('Test xgb ROC-AUC = ', roc_auc_score(y_test, bst_cv.predict_proba(x_test)[:,1]))"
   ]
  },
  {
   "cell_type": "code",
   "execution_count": null,
   "id": "d0428d3d",
   "metadata": {},
   "outputs": [],
   "source": []
  },
  {
   "cell_type": "code",
   "execution_count": 111,
   "id": "af98b9d7",
   "metadata": {},
   "outputs": [
    {
     "data": {
      "text/plain": [
       "{'learning_rate': 0.5, 'max_depth': 1, 'n_estimators': 75}"
      ]
     },
     "execution_count": 111,
     "metadata": {},
     "output_type": "execute_result"
    }
   ],
   "source": [
    "#Кросс-валидация для lightGBM\n",
    "parameters = {'n_estimators': [25, 50, 75, 100], 'learning_rate': [0.1,0.5,1], 'max_depth': [1,3,5,8]}\n",
    "grid_search_clf = GridSearchCV(clf, parameters, cv=5, n_jobs=-1)\n",
    "grid_search_clf.fit(x_train, y_train)\n",
    "best_clf = grid_search_clf.best_estimator_\n",
    "grid_search_clf.best_params_ "
   ]
  },
  {
   "cell_type": "code",
   "execution_count": 113,
   "id": "0b08884f",
   "metadata": {},
   "outputs": [],
   "source": [
    "clf_cv = LGBMClassifier(learning_rate=0.5, max_depth=1, n_estimators=75).fit(x_train, y_train)"
   ]
  },
  {
   "cell_type": "code",
   "execution_count": 114,
   "id": "e7ec6b6b",
   "metadata": {},
   "outputs": [
    {
     "name": "stdout",
     "output_type": "stream",
     "text": [
      "Overall Accuracy: 0.8026502602934217\n",
      "Overall Precision: 0.7466699966699967\n",
      "Overall Recall: 0.718099990726573\n",
      "Overall f1_score: 0.7296482381223411\n"
     ]
    }
   ],
   "source": [
    "predictions = clf_cv.predict(x_test)\n",
    "# Метрики качества\n",
    "print(\"Overall Accuracy:\",accuracy_score(y_test, predictions))\n",
    "print(\"Overall Precision:\",precision_score(y_test, predictions, average='macro'))\n",
    "print(\"Overall Recall:\",recall_score(y_test, predictions, average='macro'))\n",
    "print(\"Overall f1_score:\",f1_score(y_test, predictions, average='macro'))"
   ]
  },
  {
   "cell_type": "code",
   "execution_count": 116,
   "id": "41130a36",
   "metadata": {},
   "outputs": [
    {
     "name": "stdout",
     "output_type": "stream",
     "text": [
      "Train xgb ROC-AUC = 0.8602898135080901\n",
      "Test xgb ROC-AUC =  0.840276811795799\n"
     ]
    }
   ],
   "source": [
    "print ('Train xgb ROC-AUC =', roc_auc_score(y_train, clf_cv.predict_proba(x_train)[:,1]))\n",
    "print ('Test xgb ROC-AUC = ', roc_auc_score(y_test, clf_cv.predict_proba(x_test)[:,1]))"
   ]
  },
  {
   "cell_type": "code",
   "execution_count": null,
   "id": "49b3bcba",
   "metadata": {},
   "outputs": [],
   "source": []
  },
  {
   "cell_type": "code",
   "execution_count": 117,
   "id": "ec72453a",
   "metadata": {},
   "outputs": [
    {
     "name": "stdout",
     "output_type": "stream",
     "text": [
      "0:\tlearn: 0.6560611\ttotal: 924us\tremaining: 91.5ms\n",
      "1:\tlearn: 0.6259375\ttotal: 2.06ms\tremaining: 101ms\n",
      "2:\tlearn: 0.5986354\ttotal: 2.88ms\tremaining: 93.1ms\n",
      "3:\tlearn: 0.5778923\ttotal: 3.74ms\tremaining: 89.9ms\n",
      "4:\tlearn: 0.5591626\ttotal: 4.48ms\tremaining: 85.2ms\n",
      "5:\tlearn: 0.5437914\ttotal: 5.29ms\tremaining: 82.9ms\n",
      "6:\tlearn: 0.5284455\ttotal: 6.12ms\tremaining: 81.2ms\n",
      "7:\tlearn: 0.5166628\ttotal: 6.98ms\tremaining: 80.3ms\n",
      "8:\tlearn: 0.5044122\ttotal: 7.79ms\tremaining: 78.7ms\n",
      "9:\tlearn: 0.4937672\ttotal: 8.59ms\tremaining: 77.3ms\n",
      "10:\tlearn: 0.4850915\ttotal: 9.46ms\tremaining: 76.6ms\n",
      "11:\tlearn: 0.4786584\ttotal: 10.4ms\tremaining: 76.5ms\n",
      "12:\tlearn: 0.4717492\ttotal: 11.2ms\tremaining: 75.2ms\n",
      "13:\tlearn: 0.4659052\ttotal: 12ms\tremaining: 74ms\n",
      "14:\tlearn: 0.4607009\ttotal: 12.9ms\tremaining: 73.1ms\n",
      "15:\tlearn: 0.4572294\ttotal: 13.7ms\tremaining: 72.1ms\n",
      "16:\tlearn: 0.4523197\ttotal: 14.6ms\tremaining: 71ms\n",
      "17:\tlearn: 0.4484017\ttotal: 15.4ms\tremaining: 70.2ms\n",
      "18:\tlearn: 0.4446529\ttotal: 16.3ms\tremaining: 69.4ms\n",
      "19:\tlearn: 0.4415371\ttotal: 17.2ms\tremaining: 68.7ms\n",
      "20:\tlearn: 0.4384320\ttotal: 18.1ms\tremaining: 68.3ms\n",
      "21:\tlearn: 0.4361751\ttotal: 19ms\tremaining: 67.5ms\n",
      "22:\tlearn: 0.4337857\ttotal: 20ms\tremaining: 66.9ms\n",
      "23:\tlearn: 0.4319293\ttotal: 20.8ms\tremaining: 66ms\n",
      "24:\tlearn: 0.4299224\ttotal: 21.7ms\tremaining: 65.1ms\n",
      "25:\tlearn: 0.4283341\ttotal: 22.6ms\tremaining: 64.4ms\n",
      "26:\tlearn: 0.4266994\ttotal: 23.5ms\tremaining: 63.5ms\n",
      "27:\tlearn: 0.4253972\ttotal: 24.4ms\tremaining: 62.9ms\n",
      "28:\tlearn: 0.4235268\ttotal: 25.3ms\tremaining: 62.1ms\n",
      "29:\tlearn: 0.4223073\ttotal: 26.3ms\tremaining: 61.4ms\n",
      "30:\tlearn: 0.4211705\ttotal: 27.2ms\tremaining: 60.5ms\n",
      "31:\tlearn: 0.4201228\ttotal: 28.2ms\tremaining: 59.8ms\n",
      "32:\tlearn: 0.4192847\ttotal: 29ms\tremaining: 59ms\n",
      "33:\tlearn: 0.4183984\ttotal: 30ms\tremaining: 58.2ms\n",
      "34:\tlearn: 0.4177605\ttotal: 30.9ms\tremaining: 57.4ms\n",
      "35:\tlearn: 0.4172072\ttotal: 31.9ms\tremaining: 56.6ms\n",
      "36:\tlearn: 0.4163894\ttotal: 32.8ms\tremaining: 55.8ms\n",
      "37:\tlearn: 0.4156323\ttotal: 33.7ms\tremaining: 55ms\n",
      "38:\tlearn: 0.4151118\ttotal: 34.7ms\tremaining: 54.3ms\n",
      "39:\tlearn: 0.4141456\ttotal: 35.7ms\tremaining: 53.5ms\n",
      "40:\tlearn: 0.4131955\ttotal: 36.7ms\tremaining: 52.9ms\n",
      "41:\tlearn: 0.4125189\ttotal: 37.7ms\tremaining: 52.1ms\n",
      "42:\tlearn: 0.4119104\ttotal: 38.6ms\tremaining: 51.2ms\n",
      "43:\tlearn: 0.4111038\ttotal: 39.7ms\tremaining: 50.5ms\n",
      "44:\tlearn: 0.4105157\ttotal: 40.6ms\tremaining: 49.7ms\n",
      "45:\tlearn: 0.4100395\ttotal: 41.6ms\tremaining: 48.8ms\n",
      "46:\tlearn: 0.4096845\ttotal: 42.6ms\tremaining: 48ms\n",
      "47:\tlearn: 0.4092302\ttotal: 43.5ms\tremaining: 47.1ms\n",
      "48:\tlearn: 0.4088360\ttotal: 44.4ms\tremaining: 46.2ms\n",
      "49:\tlearn: 0.4083347\ttotal: 45.3ms\tremaining: 45.3ms\n",
      "50:\tlearn: 0.4080498\ttotal: 46.3ms\tremaining: 44.5ms\n",
      "51:\tlearn: 0.4076906\ttotal: 47.3ms\tremaining: 43.6ms\n",
      "52:\tlearn: 0.4072496\ttotal: 48.3ms\tremaining: 42.8ms\n",
      "53:\tlearn: 0.4069951\ttotal: 49.3ms\tremaining: 42ms\n",
      "54:\tlearn: 0.4066792\ttotal: 50.2ms\tremaining: 41.1ms\n",
      "55:\tlearn: 0.4064202\ttotal: 51.2ms\tremaining: 40.2ms\n",
      "56:\tlearn: 0.4061687\ttotal: 52.2ms\tremaining: 39.3ms\n",
      "57:\tlearn: 0.4058884\ttotal: 53.2ms\tremaining: 38.5ms\n",
      "58:\tlearn: 0.4056211\ttotal: 54.4ms\tremaining: 37.8ms\n",
      "59:\tlearn: 0.4053995\ttotal: 55.3ms\tremaining: 36.9ms\n",
      "60:\tlearn: 0.4051291\ttotal: 56.3ms\tremaining: 36ms\n",
      "61:\tlearn: 0.4049314\ttotal: 57.2ms\tremaining: 35.1ms\n",
      "62:\tlearn: 0.4047701\ttotal: 58.1ms\tremaining: 34.1ms\n",
      "63:\tlearn: 0.4045342\ttotal: 59.1ms\tremaining: 33.2ms\n",
      "64:\tlearn: 0.4043298\ttotal: 60.1ms\tremaining: 32.4ms\n",
      "65:\tlearn: 0.4041558\ttotal: 61.1ms\tremaining: 31.5ms\n",
      "66:\tlearn: 0.4038987\ttotal: 62ms\tremaining: 30.5ms\n",
      "67:\tlearn: 0.4035048\ttotal: 63ms\tremaining: 29.7ms\n",
      "68:\tlearn: 0.4032269\ttotal: 64ms\tremaining: 28.8ms\n",
      "69:\tlearn: 0.4030411\ttotal: 65.1ms\tremaining: 27.9ms\n",
      "70:\tlearn: 0.4028194\ttotal: 66ms\tremaining: 27ms\n",
      "71:\tlearn: 0.4026132\ttotal: 67ms\tremaining: 26.1ms\n",
      "72:\tlearn: 0.4024720\ttotal: 67.9ms\tremaining: 25.1ms\n",
      "73:\tlearn: 0.4023450\ttotal: 68.9ms\tremaining: 24.2ms\n",
      "74:\tlearn: 0.4022079\ttotal: 69.9ms\tremaining: 23.3ms\n",
      "75:\tlearn: 0.4020099\ttotal: 70.8ms\tremaining: 22.4ms\n",
      "76:\tlearn: 0.4017301\ttotal: 71.9ms\tremaining: 21.5ms\n",
      "77:\tlearn: 0.4015458\ttotal: 72.9ms\tremaining: 20.6ms\n",
      "78:\tlearn: 0.4013255\ttotal: 73.8ms\tremaining: 19.6ms\n",
      "79:\tlearn: 0.4011381\ttotal: 74.9ms\tremaining: 18.7ms\n",
      "80:\tlearn: 0.4009773\ttotal: 75.9ms\tremaining: 17.8ms\n",
      "81:\tlearn: 0.4007200\ttotal: 76.8ms\tremaining: 16.9ms\n",
      "82:\tlearn: 0.4005959\ttotal: 77.8ms\tremaining: 15.9ms\n",
      "83:\tlearn: 0.4004427\ttotal: 78.8ms\tremaining: 15ms\n",
      "84:\tlearn: 0.4001406\ttotal: 79.8ms\tremaining: 14.1ms\n",
      "85:\tlearn: 0.4000325\ttotal: 80.8ms\tremaining: 13.2ms\n",
      "86:\tlearn: 0.3998585\ttotal: 81.8ms\tremaining: 12.2ms\n",
      "87:\tlearn: 0.3996715\ttotal: 82.8ms\tremaining: 11.3ms\n",
      "88:\tlearn: 0.3995311\ttotal: 83.7ms\tremaining: 10.3ms\n",
      "89:\tlearn: 0.3993347\ttotal: 84.7ms\tremaining: 9.41ms\n",
      "90:\tlearn: 0.3991927\ttotal: 85.7ms\tremaining: 8.48ms\n",
      "91:\tlearn: 0.3990256\ttotal: 86.7ms\tremaining: 7.54ms\n",
      "92:\tlearn: 0.3989391\ttotal: 87.7ms\tremaining: 6.6ms\n",
      "93:\tlearn: 0.3987338\ttotal: 88.5ms\tremaining: 5.65ms\n",
      "94:\tlearn: 0.3984861\ttotal: 89.5ms\tremaining: 4.71ms\n",
      "95:\tlearn: 0.3983225\ttotal: 90.5ms\tremaining: 3.77ms\n",
      "96:\tlearn: 0.3979292\ttotal: 91.6ms\tremaining: 2.83ms\n",
      "97:\tlearn: 0.3977696\ttotal: 92.5ms\tremaining: 1.89ms\n",
      "98:\tlearn: 0.3975657\ttotal: 93.4ms\tremaining: 943us\n",
      "99:\tlearn: 0.3974083\ttotal: 94.4ms\tremaining: 0us\n"
     ]
    },
    {
     "data": {
      "text/plain": [
       "{'learning_rate': 0.1, 'max_depth': 3, 'n_estimators': 100}"
      ]
     },
     "execution_count": 117,
     "metadata": {},
     "output_type": "execute_result"
    }
   ],
   "source": [
    "#Кросс-валидация для catboost cbc = CatBoostClassifier()\n",
    "parameters = {'n_estimators': [25, 50, 75, 100], 'learning_rate': [0.1,0.5,1], 'max_depth': [1,3,5,8]}\n",
    "grid_search_cbc = GridSearchCV(cbc, parameters, cv=5, n_jobs=-1)\n",
    "grid_search_cbc.fit(x_train, y_train)\n",
    "best_cbc = grid_search_cbc.best_estimator_\n",
    "grid_search_cbc.best_params_ "
   ]
  },
  {
   "cell_type": "code",
   "execution_count": 118,
   "id": "eb35591f",
   "metadata": {},
   "outputs": [
    {
     "name": "stdout",
     "output_type": "stream",
     "text": [
      "0:\tlearn: 0.6560611\ttotal: 732us\tremaining: 72.5ms\n",
      "1:\tlearn: 0.6259375\ttotal: 1.74ms\tremaining: 85.2ms\n",
      "2:\tlearn: 0.5986354\ttotal: 2.46ms\tremaining: 79.5ms\n",
      "3:\tlearn: 0.5778923\ttotal: 3.19ms\tremaining: 76.6ms\n",
      "4:\tlearn: 0.5591626\ttotal: 3.95ms\tremaining: 75.1ms\n",
      "5:\tlearn: 0.5437914\ttotal: 4.7ms\tremaining: 73.7ms\n",
      "6:\tlearn: 0.5284455\ttotal: 5.64ms\tremaining: 74.9ms\n",
      "7:\tlearn: 0.5166628\ttotal: 6.51ms\tremaining: 74.9ms\n",
      "8:\tlearn: 0.5044122\ttotal: 7.45ms\tremaining: 75.4ms\n",
      "9:\tlearn: 0.4937672\ttotal: 8.22ms\tremaining: 73.9ms\n",
      "10:\tlearn: 0.4850915\ttotal: 9.05ms\tremaining: 73.3ms\n",
      "11:\tlearn: 0.4786584\ttotal: 9.82ms\tremaining: 72ms\n",
      "12:\tlearn: 0.4717492\ttotal: 10.7ms\tremaining: 71.7ms\n",
      "13:\tlearn: 0.4659052\ttotal: 11.6ms\tremaining: 71.1ms\n",
      "14:\tlearn: 0.4607009\ttotal: 12.4ms\tremaining: 70ms\n",
      "15:\tlearn: 0.4572294\ttotal: 13.1ms\tremaining: 68.8ms\n",
      "16:\tlearn: 0.4523197\ttotal: 13.9ms\tremaining: 67.6ms\n",
      "17:\tlearn: 0.4484017\ttotal: 14.6ms\tremaining: 66.5ms\n",
      "18:\tlearn: 0.4446529\ttotal: 15.4ms\tremaining: 65.5ms\n",
      "19:\tlearn: 0.4415371\ttotal: 16.2ms\tremaining: 64.8ms\n",
      "20:\tlearn: 0.4384320\ttotal: 17.1ms\tremaining: 64.2ms\n",
      "21:\tlearn: 0.4361751\ttotal: 17.8ms\tremaining: 63.1ms\n",
      "22:\tlearn: 0.4337857\ttotal: 18.5ms\tremaining: 61.9ms\n",
      "23:\tlearn: 0.4319293\ttotal: 19.2ms\tremaining: 60.8ms\n",
      "24:\tlearn: 0.4299224\ttotal: 19.9ms\tremaining: 59.6ms\n",
      "25:\tlearn: 0.4283341\ttotal: 20.6ms\tremaining: 58.6ms\n",
      "26:\tlearn: 0.4266994\ttotal: 21.4ms\tremaining: 57.7ms\n",
      "27:\tlearn: 0.4253972\ttotal: 22.2ms\tremaining: 57ms\n",
      "28:\tlearn: 0.4235268\ttotal: 22.9ms\tremaining: 56.1ms\n",
      "29:\tlearn: 0.4223073\ttotal: 23.6ms\tremaining: 55.1ms\n",
      "30:\tlearn: 0.4211705\ttotal: 24.5ms\tremaining: 54.6ms\n",
      "31:\tlearn: 0.4201228\ttotal: 25.3ms\tremaining: 53.8ms\n",
      "32:\tlearn: 0.4192847\ttotal: 26.1ms\tremaining: 52.9ms\n",
      "33:\tlearn: 0.4183984\ttotal: 26.8ms\tremaining: 52.1ms\n",
      "34:\tlearn: 0.4177605\ttotal: 27.7ms\tremaining: 51.4ms\n",
      "35:\tlearn: 0.4172072\ttotal: 28.4ms\tremaining: 50.5ms\n",
      "36:\tlearn: 0.4163894\ttotal: 29.1ms\tremaining: 49.6ms\n",
      "37:\tlearn: 0.4156323\ttotal: 30ms\tremaining: 48.9ms\n",
      "38:\tlearn: 0.4151118\ttotal: 30.8ms\tremaining: 48.2ms\n",
      "39:\tlearn: 0.4141456\ttotal: 31.6ms\tremaining: 47.4ms\n",
      "40:\tlearn: 0.4131955\ttotal: 32.3ms\tremaining: 46.5ms\n",
      "41:\tlearn: 0.4125189\ttotal: 33ms\tremaining: 45.6ms\n",
      "42:\tlearn: 0.4119104\ttotal: 33.7ms\tremaining: 44.7ms\n",
      "43:\tlearn: 0.4111038\ttotal: 34.5ms\tremaining: 43.9ms\n",
      "44:\tlearn: 0.4105157\ttotal: 35.3ms\tremaining: 43.1ms\n",
      "45:\tlearn: 0.4100395\ttotal: 36ms\tremaining: 42.3ms\n",
      "46:\tlearn: 0.4096845\ttotal: 36.9ms\tremaining: 41.6ms\n",
      "47:\tlearn: 0.4092302\ttotal: 37.7ms\tremaining: 40.9ms\n",
      "48:\tlearn: 0.4088360\ttotal: 38.5ms\tremaining: 40ms\n",
      "49:\tlearn: 0.4083347\ttotal: 39.2ms\tremaining: 39.2ms\n",
      "50:\tlearn: 0.4080498\ttotal: 39.8ms\tremaining: 38.3ms\n",
      "51:\tlearn: 0.4076906\ttotal: 40.5ms\tremaining: 37.4ms\n",
      "52:\tlearn: 0.4072496\ttotal: 41.2ms\tremaining: 36.5ms\n",
      "53:\tlearn: 0.4069951\ttotal: 41.9ms\tremaining: 35.7ms\n",
      "54:\tlearn: 0.4066792\ttotal: 42.5ms\tremaining: 34.8ms\n",
      "55:\tlearn: 0.4064202\ttotal: 43.2ms\tremaining: 34ms\n",
      "56:\tlearn: 0.4061687\ttotal: 43.9ms\tremaining: 33.1ms\n",
      "57:\tlearn: 0.4058884\ttotal: 44.6ms\tremaining: 32.3ms\n",
      "58:\tlearn: 0.4056211\ttotal: 45.3ms\tremaining: 31.5ms\n",
      "59:\tlearn: 0.4053995\ttotal: 45.9ms\tremaining: 30.6ms\n",
      "60:\tlearn: 0.4051291\ttotal: 46.6ms\tremaining: 29.8ms\n",
      "61:\tlearn: 0.4049314\ttotal: 47.3ms\tremaining: 29ms\n",
      "62:\tlearn: 0.4047701\ttotal: 47.9ms\tremaining: 28.1ms\n",
      "63:\tlearn: 0.4045342\ttotal: 48.6ms\tremaining: 27.3ms\n",
      "64:\tlearn: 0.4043298\ttotal: 49.3ms\tremaining: 26.5ms\n",
      "65:\tlearn: 0.4041558\ttotal: 50ms\tremaining: 25.8ms\n",
      "66:\tlearn: 0.4038987\ttotal: 50.7ms\tremaining: 25ms\n",
      "67:\tlearn: 0.4035048\ttotal: 51.5ms\tremaining: 24.2ms\n",
      "68:\tlearn: 0.4032269\ttotal: 52.1ms\tremaining: 23.4ms\n",
      "69:\tlearn: 0.4030411\ttotal: 52.9ms\tremaining: 22.7ms\n",
      "70:\tlearn: 0.4028194\ttotal: 53.5ms\tremaining: 21.9ms\n",
      "71:\tlearn: 0.4026132\ttotal: 54.2ms\tremaining: 21.1ms\n",
      "72:\tlearn: 0.4024720\ttotal: 54.9ms\tremaining: 20.3ms\n",
      "73:\tlearn: 0.4023450\ttotal: 55.5ms\tremaining: 19.5ms\n",
      "74:\tlearn: 0.4022079\ttotal: 56.2ms\tremaining: 18.7ms\n",
      "75:\tlearn: 0.4020099\ttotal: 56.9ms\tremaining: 18ms\n",
      "76:\tlearn: 0.4017301\ttotal: 57.5ms\tremaining: 17.2ms\n",
      "77:\tlearn: 0.4015458\ttotal: 58.2ms\tremaining: 16.4ms\n",
      "78:\tlearn: 0.4013255\ttotal: 58.9ms\tremaining: 15.7ms\n",
      "79:\tlearn: 0.4011381\ttotal: 59.6ms\tremaining: 14.9ms\n",
      "80:\tlearn: 0.4009773\ttotal: 60.3ms\tremaining: 14.1ms\n",
      "81:\tlearn: 0.4007200\ttotal: 60.9ms\tremaining: 13.4ms\n",
      "82:\tlearn: 0.4005959\ttotal: 61.5ms\tremaining: 12.6ms\n",
      "83:\tlearn: 0.4004427\ttotal: 62.2ms\tremaining: 11.8ms\n",
      "84:\tlearn: 0.4001406\ttotal: 62.8ms\tremaining: 11.1ms\n",
      "85:\tlearn: 0.4000325\ttotal: 63.5ms\tremaining: 10.3ms\n",
      "86:\tlearn: 0.3998585\ttotal: 64.2ms\tremaining: 9.59ms\n",
      "87:\tlearn: 0.3996715\ttotal: 64.8ms\tremaining: 8.84ms\n",
      "88:\tlearn: 0.3995311\ttotal: 65.5ms\tremaining: 8.09ms\n",
      "89:\tlearn: 0.3993347\ttotal: 66.1ms\tremaining: 7.34ms\n",
      "90:\tlearn: 0.3991927\ttotal: 66.8ms\tremaining: 6.6ms\n",
      "91:\tlearn: 0.3990256\ttotal: 67.5ms\tremaining: 5.87ms\n",
      "92:\tlearn: 0.3989391\ttotal: 68.1ms\tremaining: 5.13ms\n",
      "93:\tlearn: 0.3987338\ttotal: 68.9ms\tremaining: 4.39ms\n",
      "94:\tlearn: 0.3984861\ttotal: 69.5ms\tremaining: 3.66ms\n",
      "95:\tlearn: 0.3983225\ttotal: 70.2ms\tremaining: 2.92ms\n",
      "96:\tlearn: 0.3979292\ttotal: 70.8ms\tremaining: 2.19ms\n",
      "97:\tlearn: 0.3977696\ttotal: 71.5ms\tremaining: 1.46ms\n",
      "98:\tlearn: 0.3975657\ttotal: 72.2ms\tremaining: 728us\n",
      "99:\tlearn: 0.3974083\ttotal: 72.8ms\tremaining: 0us\n"
     ]
    }
   ],
   "source": [
    "cbc_cv = CatBoostClassifier(learning_rate=0.1, max_depth=3, n_estimators=100).fit(x_train, y_train)"
   ]
  },
  {
   "cell_type": "code",
   "execution_count": 119,
   "id": "d49bf2c9",
   "metadata": {},
   "outputs": [
    {
     "name": "stdout",
     "output_type": "stream",
     "text": [
      "Overall Accuracy: 0.8054898248935163\n",
      "Overall Precision: 0.7519119494486752\n",
      "Overall Recall: 0.7171048360921779\n",
      "Overall f1_score: 0.7306128564263055\n"
     ]
    }
   ],
   "source": [
    "predictions = cbc_cv.predict(x_test)\n",
    "# Метрики качества\n",
    "print(\"Overall Accuracy:\",accuracy_score(y_test, predictions))\n",
    "print(\"Overall Precision:\",precision_score(y_test, predictions, average='macro'))\n",
    "print(\"Overall Recall:\",recall_score(y_test, predictions, average='macro'))\n",
    "print(\"Overall f1_score:\",f1_score(y_test, predictions, average='macro'))"
   ]
  },
  {
   "cell_type": "code",
   "execution_count": 120,
   "id": "4622e014",
   "metadata": {},
   "outputs": [
    {
     "name": "stdout",
     "output_type": "stream",
     "text": [
      "Train xgb ROC-AUC = 0.862363078907928\n",
      "Test xgb ROC-AUC =  0.8404483701952056\n"
     ]
    }
   ],
   "source": [
    "print ('Train xgb ROC-AUC =', roc_auc_score(y_train, cbc_cv.predict_proba(x_train)[:,1]))\n",
    "print ('Test xgb ROC-AUC = ', roc_auc_score(y_test, cbc_cv.predict_proba(x_test)[:,1]))"
   ]
  },
  {
   "cell_type": "markdown",
   "id": "ef14b365",
   "metadata": {},
   "source": [
    "Выводы: в целом, на данном датасете все варианты градиентного бустинга показывают высокие результаты. В лидерах Catboost,\n",
    "как без настройки гиперпараметров, так и после настройки (базовые: количество итераций, глубина деревьев, learning rate)"
   ]
  }
 ],
 "metadata": {
  "kernelspec": {
   "display_name": "Python 3 (ipykernel)",
   "language": "python",
   "name": "python3"
  },
  "language_info": {
   "codemirror_mode": {
    "name": "ipython",
    "version": 3
   },
   "file_extension": ".py",
   "mimetype": "text/x-python",
   "name": "python",
   "nbconvert_exporter": "python",
   "pygments_lexer": "ipython3",
   "version": "3.9.7"
  }
 },
 "nbformat": 4,
 "nbformat_minor": 5
}
