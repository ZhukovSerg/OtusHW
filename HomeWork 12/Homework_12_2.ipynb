{
 "cells": [
  {
   "cell_type": "code",
   "execution_count": 50,
   "id": "bea5dcf9",
   "metadata": {},
   "outputs": [],
   "source": [
    "import numpy as np\n",
    "import torch\n",
    "import torch.nn as nn\n",
    "import torch.nn.functional as F\n",
    "import torch.optim as optim\n",
    "from torchvision import datasets, transforms\n",
    "import matplotlib.pyplot as plt\n",
    "import os\n",
    "import random"
   ]
  },
  {
   "cell_type": "code",
   "execution_count": 51,
   "id": "a0317b79",
   "metadata": {},
   "outputs": [],
   "source": [
    "#Зафиксируем seed для воспроизводимости\n",
    "def seed_everything(seed):\n",
    "    random.seed(seed) # фиксируем генератор случайных чисел\n",
    "    os.environ['PYTHONHASHSEED'] = str(seed) # фиксируем заполнения хешей\n",
    "    np.random.seed(seed) # фиксируем генератор случайных чисел numpy\n",
    "    torch.manual_seed(seed) # фиксируем генератор случайных чисел pytorch"
   ]
  },
  {
   "cell_type": "code",
   "execution_count": 52,
   "id": "8a486ddb",
   "metadata": {},
   "outputs": [],
   "source": [
    "seed_everything(42)"
   ]
  },
  {
   "cell_type": "code",
   "execution_count": 53,
   "id": "4b2f4440",
   "metadata": {},
   "outputs": [],
   "source": [
    "from torchvision.datasets import MNIST\n",
    "import torchvision.transforms as tfs"
   ]
  },
  {
   "cell_type": "code",
   "execution_count": 54,
   "id": "414e79ba",
   "metadata": {},
   "outputs": [],
   "source": [
    "data_tfs = tfs.Compose([\n",
    "  tfs.ToTensor(),\n",
    "  tfs.Normalize((0.5), (0.5))\n",
    "])"
   ]
  },
  {
   "cell_type": "code",
   "execution_count": 55,
   "id": "71269946",
   "metadata": {},
   "outputs": [],
   "source": [
    "# install for train and test\n",
    "root = './'\n",
    "train = MNIST(root, train=True,  transform=data_tfs, download=True)\n",
    "test  = MNIST(root, train=False, transform=data_tfs, download=True)"
   ]
  },
  {
   "cell_type": "code",
   "execution_count": 56,
   "id": "cddffe42",
   "metadata": {},
   "outputs": [],
   "source": [
    "from torch.utils.data import DataLoader\n",
    "\n",
    "batch_size = 256\n",
    "\n",
    "train_loader = DataLoader(train, batch_size=batch_size, drop_last=True)\n",
    "test_loader = DataLoader(test, batch_size=batch_size, drop_last=True)"
   ]
  },
  {
   "cell_type": "code",
   "execution_count": 57,
   "id": "63dd2458",
   "metadata": {},
   "outputs": [
    {
     "data": {
      "text/plain": [
       "device(type='cpu')"
      ]
     },
     "execution_count": 57,
     "metadata": {},
     "output_type": "execute_result"
    }
   ],
   "source": [
    "device = torch.device('cuda' if torch.cuda.is_available() else 'cpu')\n",
    "device"
   ]
  },
  {
   "cell_type": "code",
   "execution_count": 58,
   "id": "e4ae1c46",
   "metadata": {},
   "outputs": [],
   "source": [
    "class Encoder(nn.Module):\n",
    "    def __init__(self, latent_size=10):\n",
    "        super(Encoder, self).__init__()\n",
    "        self.fc1 = nn.Linear(28*28, latent_size)\n",
    "    \n",
    "    def forward(self, x):\n",
    "        x = torch.sigmoid(self.fc1(x))\n",
    "        return x\n",
    "    \n",
    "class Decoder(nn.Module):\n",
    "    def __init__(self, latent_size=10):\n",
    "        super(Decoder, self).__init__()\n",
    "        self.fc1 = nn.Linear(latent_size, 28*28)\n",
    "    \n",
    "    def forward(self, x):\n",
    "        x = torch.tanh(self.fc1(x))\n",
    "        return x"
   ]
  },
  {
   "cell_type": "code",
   "execution_count": 59,
   "id": "36fe85b9",
   "metadata": {},
   "outputs": [],
   "source": [
    "class Net(nn.Module):\n",
    "    def __init__(self, latent_size=10):\n",
    "        super(Net, self).__init__()\n",
    "        self.latent_size = latent_size\n",
    "        self.E = Encoder(latent_size)\n",
    "        self.D = Decoder(latent_size)\n",
    "        \n",
    "    def forward(self, x):\n",
    "        x = x.view(-1, 28*28)\n",
    "        h = self.E(x)\n",
    "        out = self.D(h)\n",
    "        return out\n",
    "    \n",
    "    def decode(self, h):\n",
    "        with torch.no_grad():\n",
    "            return self.D(h)\n",
    "    "
   ]
  },
  {
   "cell_type": "code",
   "execution_count": 60,
   "id": "22b86469",
   "metadata": {},
   "outputs": [],
   "source": [
    "model = Net(2)"
   ]
  },
  {
   "cell_type": "code",
   "execution_count": 61,
   "id": "7c364866",
   "metadata": {},
   "outputs": [],
   "source": [
    "criterion = nn.CrossEntropyLoss()      \n",
    "optimizer = torch.optim.Adam(model.parameters(), lr=1e-4)"
   ]
  },
  {
   "cell_type": "code",
   "execution_count": 62,
   "id": "eeb08774",
   "metadata": {},
   "outputs": [
    {
     "name": "stdout",
     "output_type": "stream",
     "text": [
      "1,\t loss: 6.725009441375732\n",
      "1,\t loss: 6.695545196533203\n",
      "2,\t loss: 6.634446144104004\n",
      "2,\t loss: 6.611154079437256\n",
      "3,\t loss: 6.55354642868042\n",
      "3,\t loss: 6.5292158126831055\n",
      "4,\t loss: 6.481447219848633\n",
      "4,\t loss: 6.456350326538086\n",
      "5,\t loss: 6.410762786865234\n",
      "5,\t loss: 6.385681629180908\n",
      "6,\t loss: 6.340761661529541\n",
      "6,\t loss: 6.316172122955322\n",
      "7,\t loss: 6.271427631378174\n",
      "7,\t loss: 6.247615814208984\n",
      "8,\t loss: 6.20287561416626\n",
      "8,\t loss: 6.18000602722168\n",
      "9,\t loss: 6.135045528411865\n",
      "9,\t loss: 6.113279819488525\n",
      "10,\t loss: 6.040256977081299\n",
      "10,\t loss: 6.0295844078063965\n",
      "11,\t loss: 5.927290439605713\n",
      "11,\t loss: 5.920024394989014\n"
     ]
    }
   ],
   "source": [
    "losses_train = []\n",
    "losses_test = []\n",
    "for epoch in range(11):\n",
    "    history_train = []\n",
    "    history_test = []\n",
    "    for x_batch, y_batch in train_loader:\n",
    "    # 1. # загружаем батч данных (вытянутый в линию)\n",
    "        x_batch = x_batch.view(x_batch.shape[0], -1).to(device)\n",
    "        y_batch = y_batch.to(device)\n",
    "\n",
    "    # 2. вычисляем скор с помощью прямого распространения ( .forward or .__call__ )\n",
    "        preds = model(x_batch)\n",
    "\n",
    "    # 3. вычислеяем - функцию потерь (loss)\n",
    "        loss = criterion(preds, y_batch)\n",
    "        #history.append(loss.item())\n",
    "\n",
    "    # 4. вычисляем градиенты\n",
    "        optimizer.zero_grad()\n",
    "        loss.backward()\n",
    "\n",
    "    # 5. шаг градиентного спуска\n",
    "        optimizer.step()\n",
    "        history_train.append(loss.item())\n",
    "    losses_train.append(np.mean(history_train))\n",
    "    \n",
    "    with torch.no_grad():\n",
    "        for x_batch, y_batch in test_loader:\n",
    "            x_batch = x_batch.view(x_batch.shape[0], -1).to(device)\n",
    "            y_batch = y_batch.to(device)\n",
    "            \n",
    "            preds = model(x_batch)\n",
    "            \n",
    "            loss = criterion(preds, y_batch)\n",
    "            \n",
    "            history_test.append(loss.item())\n",
    "    \n",
    "    losses_test.append(np.mean(history_test))       \n",
    "    print(f'{epoch+1},\\t loss: {history_train[-1]}')\n",
    "    print(f'{epoch+1},\\t loss: {history_test[-1]}')"
   ]
  },
  {
   "cell_type": "code",
   "execution_count": 63,
   "id": "22ce3ce1",
   "metadata": {},
   "outputs": [],
   "source": [
    "for batch in test_loader:\n",
    "    data = batch[0].float()\n",
    "    target = batch[1].float()\n",
    "    break"
   ]
  },
  {
   "cell_type": "code",
   "execution_count": 64,
   "id": "095f2567",
   "metadata": {},
   "outputs": [],
   "source": [
    "data=data.view(-1,28*28)"
   ]
  },
  {
   "cell_type": "code",
   "execution_count": 65,
   "id": "e8375b27",
   "metadata": {},
   "outputs": [],
   "source": [
    "target=target.detach().cpu().numpy().astype(int).astype(str)\n",
    "#Так вроде бы получше выглядит"
   ]
  },
  {
   "cell_type": "code",
   "execution_count": 66,
   "id": "6ffb312d",
   "metadata": {},
   "outputs": [
    {
     "data": {
      "text/plain": [
       "array([[0.98495805, 0.9999238 ],\n",
       "       [0.0384411 , 0.99749774],\n",
       "       [0.2257587 , 0.23810406],\n",
       "       [0.49190918, 0.99999976],\n",
       "       [0.96098256, 0.99996436],\n",
       "       [0.34169623, 0.18463811],\n",
       "       [0.7220056 , 0.9998934 ],\n",
       "       [0.6660988 , 0.99935716],\n",
       "       [0.9332082 , 0.9982828 ],\n",
       "       [0.97060806, 0.9999894 ],\n",
       "       [0.61758775, 0.9999639 ],\n",
       "       [0.27729845, 0.99958974],\n",
       "       [0.9922619 , 0.9999871 ],\n",
       "       [0.9497371 , 0.99999785],\n",
       "       [0.08853082, 0.1705635 ],\n",
       "       [0.24262904, 0.9988788 ],\n",
       "       [0.99406403, 0.9999925 ],\n",
       "       [0.90198493, 0.99997747],\n",
       "       [0.01548256, 0.9991584 ],\n",
       "       [0.93503034, 0.999889  ],\n",
       "       [0.88909644, 0.9999747 ],\n",
       "       [0.01931357, 0.999979  ],\n",
       "       [0.32495594, 0.99620616],\n",
       "       [0.28860152, 0.9998373 ],\n",
       "       [0.93170893, 0.9996619 ],\n",
       "       [0.7879646 , 1.        ],\n",
       "       [0.9401455 , 0.99952745],\n",
       "       [0.96820235, 0.99998784],\n",
       "       [0.7595582 , 0.9999995 ],\n",
       "       [0.06138433, 0.53906476],\n",
       "       [0.02635707, 0.99992585],\n",
       "       [0.20999229, 0.65832144],\n",
       "       [0.02486382, 0.9999378 ],\n",
       "       [0.6967098 , 0.999757  ],\n",
       "       [0.9936786 , 0.9997137 ],\n",
       "       [0.78330946, 0.9994142 ],\n",
       "       [0.9733469 , 0.99997854],\n",
       "       [0.097383  , 0.2138759 ],\n",
       "       [0.05578525, 0.99145377],\n",
       "       [0.06749639, 0.18105692],\n",
       "       [0.22796334, 0.34955022],\n",
       "       [0.9849305 , 0.9999026 ],\n",
       "       [0.9805602 , 0.9995907 ],\n",
       "       [0.6760229 , 0.849033  ],\n",
       "       [0.04550798, 0.998254  ],\n",
       "       [0.08587527, 0.99992776],\n",
       "       [0.13856734, 0.99347746],\n",
       "       [0.91767246, 0.99691975],\n",
       "       [0.9242879 , 1.        ],\n",
       "       [0.9885002 , 0.9999769 ],\n",
       "       [0.03751196, 0.999928  ],\n",
       "       [0.08587465, 0.9999895 ],\n",
       "       [0.3505403 , 0.9999181 ],\n",
       "       [0.20151426, 0.9988538 ],\n",
       "       [0.3651058 , 0.9983663 ],\n",
       "       [0.42922312, 0.9999989 ],\n",
       "       [0.9358842 , 0.9999982 ],\n",
       "       [0.28621295, 0.29054415],\n",
       "       [0.9845889 , 0.9999914 ],\n",
       "       [0.3855959 , 0.98185813],\n",
       "       [0.6534284 , 0.9998659 ],\n",
       "       [0.9683866 , 0.9999331 ],\n",
       "       [0.91025996, 0.9995377 ],\n",
       "       [0.833994  , 0.9993656 ],\n",
       "       [0.9782226 , 0.9999367 ],\n",
       "       [0.46366116, 0.9995759 ],\n",
       "       [0.39390793, 0.99920267],\n",
       "       [0.9923849 , 0.9994287 ],\n",
       "       [0.10171651, 0.999997  ],\n",
       "       [0.7823215 , 0.99986506],\n",
       "       [0.89433056, 0.99992454],\n",
       "       [0.8034814 , 0.99999917],\n",
       "       [0.27452582, 0.9997578 ],\n",
       "       [0.89839965, 0.9974941 ],\n",
       "       [0.07807353, 0.3245578 ],\n",
       "       [0.93583107, 0.9930738 ],\n",
       "       [0.02330119, 0.99485105],\n",
       "       [0.9288419 , 0.9971935 ],\n",
       "       [0.33297864, 0.99558556],\n",
       "       [0.9899687 , 0.9999883 ],\n",
       "       [0.92425567, 0.99997973],\n",
       "       [0.37351406, 0.9999927 ],\n",
       "       [0.98331094, 0.9999021 ],\n",
       "       [0.9816263 , 0.99995744],\n",
       "       [0.6094598 , 0.9990941 ],\n",
       "       [0.8347506 , 0.9999994 ],\n",
       "       [0.971458  , 0.9989887 ],\n",
       "       [0.02009263, 0.99998736],\n",
       "       [0.48162538, 0.9999826 ],\n",
       "       [0.21412882, 0.16362834],\n",
       "       [0.27751952, 0.99988425],\n",
       "       [0.05980625, 0.9996629 ],\n",
       "       [0.8152611 , 0.9927731 ],\n",
       "       [0.14435232, 0.99999774],\n",
       "       [0.07355788, 0.7783301 ],\n",
       "       [0.9587294 , 0.9998554 ],\n",
       "       [0.19900091, 0.9502575 ],\n",
       "       [0.27934605, 0.9915959 ],\n",
       "       [0.20048822, 0.9997943 ],\n",
       "       [0.9963043 , 0.99999464],\n",
       "       [0.2467859 , 0.99765354],\n",
       "       [0.94046474, 0.9999714 ],\n",
       "       [0.2858634 , 0.99998856],\n",
       "       [0.9861959 , 0.99997056],\n",
       "       [0.9028567 , 0.99988294],\n",
       "       [0.99328   , 0.9999703 ],\n",
       "       [0.7485816 , 0.99995875],\n",
       "       [0.15745075, 0.5098603 ],\n",
       "       [0.67595774, 0.9999907 ],\n",
       "       [0.97970426, 0.99982077],\n",
       "       [0.4517408 , 0.99932253],\n",
       "       [0.6396808 , 0.88483244],\n",
       "       [0.06492227, 0.9980129 ],\n",
       "       [0.99308115, 0.99990976],\n",
       "       [0.9535247 , 0.99430144],\n",
       "       [0.9586507 , 0.99909246],\n",
       "       [0.79249305, 0.99958044],\n",
       "       [0.91249347, 0.9998863 ],\n",
       "       [0.987644  , 0.9997347 ],\n",
       "       [0.9833883 , 0.9999912 ],\n",
       "       [0.14597411, 0.99999976],\n",
       "       [0.94780856, 0.9996989 ],\n",
       "       [0.8813997 , 0.9990163 ],\n",
       "       [0.18552196, 0.9999269 ],\n",
       "       [0.6521964 , 0.9998623 ],\n",
       "       [0.9615656 , 0.99948055],\n",
       "       [0.88197076, 0.99990284],\n",
       "       [0.8373543 , 0.99983406],\n",
       "       [0.81676644, 0.9999963 ],\n",
       "       [0.44155997, 0.9999082 ],\n",
       "       [0.256118  , 0.99999344],\n",
       "       [0.2147203 , 0.9999926 ],\n",
       "       [0.06256444, 0.99999845],\n",
       "       [0.99708635, 0.9999838 ],\n",
       "       [0.6940055 , 0.9996568 ],\n",
       "       [0.11395305, 0.09873758],\n",
       "       [0.4606663 , 0.9999969 ],\n",
       "       [0.16393198, 0.21959652],\n",
       "       [0.129765  , 0.99998236],\n",
       "       [0.98873645, 0.9999021 ],\n",
       "       [0.11077076, 0.99891174],\n",
       "       [0.95017505, 0.9994261 ],\n",
       "       [0.9514013 , 0.9995937 ],\n",
       "       [0.13091192, 0.12529932],\n",
       "       [0.9947131 , 0.99988914],\n",
       "       [0.13637362, 0.4820135 ],\n",
       "       [0.9680855 , 0.9999125 ],\n",
       "       [0.9784968 , 0.9999827 ],\n",
       "       [0.45019454, 0.99998987],\n",
       "       [0.31686187, 0.97767454],\n",
       "       [0.9824273 , 0.9999919 ],\n",
       "       [0.99325985, 0.99972826],\n",
       "       [0.82092273, 0.9990984 ],\n",
       "       [0.44936213, 0.99985147],\n",
       "       [0.3759139 , 0.44646087],\n",
       "       [0.3143314 , 0.9999474 ],\n",
       "       [0.52013594, 0.9999616 ],\n",
       "       [0.5179066 , 0.99999595],\n",
       "       [0.1561098 , 0.9986534 ],\n",
       "       [0.5656152 , 0.9905161 ],\n",
       "       [0.9429049 , 0.9999087 ],\n",
       "       [0.1307255 , 0.9998994 ],\n",
       "       [0.306765  , 0.99999857],\n",
       "       [0.98789376, 0.9999913 ],\n",
       "       [0.54645675, 0.99982435],\n",
       "       [0.0494666 , 0.99998343],\n",
       "       [0.9586899 , 0.9999589 ],\n",
       "       [0.12524241, 0.99492455],\n",
       "       [0.07189149, 0.17261392],\n",
       "       [0.81042546, 0.9999776 ],\n",
       "       [0.9305945 , 0.99991465],\n",
       "       [0.99213165, 0.9992291 ],\n",
       "       [0.37090418, 0.9973314 ],\n",
       "       [0.14767344, 0.99850994],\n",
       "       [0.9753646 , 0.99898154],\n",
       "       [0.6423151 , 0.9268543 ],\n",
       "       [0.16735685, 0.30370378],\n",
       "       [0.66144633, 0.9999603 ],\n",
       "       [0.1895067 , 0.1194455 ],\n",
       "       [0.2759326 , 0.9994677 ],\n",
       "       [0.27198312, 0.2055069 ],\n",
       "       [0.13012414, 0.9996444 ],\n",
       "       [0.5140908 , 0.9989054 ],\n",
       "       [0.38663864, 0.9999838 ],\n",
       "       [0.15233658, 0.9995654 ],\n",
       "       [0.9858732 , 0.99992967],\n",
       "       [0.16646983, 0.99840444],\n",
       "       [0.5879854 , 0.9999753 ],\n",
       "       [0.5893501 , 0.9999994 ],\n",
       "       [0.22064415, 0.81957215],\n",
       "       [0.5245787 , 0.5400908 ],\n",
       "       [0.13296843, 0.96922964],\n",
       "       [0.52700853, 0.99992716],\n",
       "       [0.56313044, 0.99988294],\n",
       "       [0.6784547 , 0.99999976],\n",
       "       [0.4157392 , 0.98159826],\n",
       "       [0.04368524, 0.21141899],\n",
       "       [0.15342964, 0.9997495 ],\n",
       "       [0.9545541 , 0.9999825 ],\n",
       "       [0.9728924 , 0.9999709 ],\n",
       "       [0.22607201, 0.9999999 ],\n",
       "       [0.56136084, 0.9999161 ],\n",
       "       [0.34797475, 0.33628133],\n",
       "       [0.18689398, 0.28944883],\n",
       "       [0.24858202, 0.24222891],\n",
       "       [0.04034795, 0.99690264],\n",
       "       [0.90264666, 0.9999747 ],\n",
       "       [0.10511556, 0.99996924],\n",
       "       [0.9578894 , 0.998396  ],\n",
       "       [0.28784996, 0.99998987],\n",
       "       [0.9102696 , 0.99988735],\n",
       "       [0.79386514, 0.99478465],\n",
       "       [0.6758421 , 0.99995196],\n",
       "       [0.5670514 , 0.9819494 ],\n",
       "       [0.9708679 , 0.99999654],\n",
       "       [0.9737127 , 0.9999999 ],\n",
       "       [0.3661592 , 0.9997894 ],\n",
       "       [0.23057444, 0.99597126],\n",
       "       [0.66986436, 0.9982856 ],\n",
       "       [0.06303665, 0.99977   ],\n",
       "       [0.9830267 , 0.99999785],\n",
       "       [0.90991396, 0.99999654],\n",
       "       [0.99304384, 1.        ],\n",
       "       [0.99300426, 0.99993646],\n",
       "       [0.36269072, 0.45533642],\n",
       "       [0.9230923 , 0.9914358 ],\n",
       "       [0.18349037, 0.99998033],\n",
       "       [0.8625085 , 0.99912304],\n",
       "       [0.20998892, 0.15786326],\n",
       "       [0.96998984, 0.997827  ],\n",
       "       [0.2923184 , 0.9990282 ],\n",
       "       [0.2923865 , 0.97078246],\n",
       "       [0.07692182, 0.9999516 ],\n",
       "       [0.9862558 , 0.9999969 ],\n",
       "       [0.95899695, 0.9991673 ],\n",
       "       [0.9851634 , 0.99992037],\n",
       "       [0.9141194 , 0.99939954],\n",
       "       [0.8963136 , 0.9833213 ],\n",
       "       [0.987346  , 0.99996936],\n",
       "       [0.1407908 , 0.15024732],\n",
       "       [0.09049662, 0.99987817],\n",
       "       [0.93137264, 0.9999981 ],\n",
       "       [0.95539373, 0.99998903],\n",
       "       [0.7222771 , 0.9982008 ],\n",
       "       [0.6318944 , 0.9740176 ],\n",
       "       [0.0144342 , 0.99902415],\n",
       "       [0.94121414, 0.9999311 ],\n",
       "       [0.83938855, 0.99892884],\n",
       "       [0.99672806, 0.9999975 ],\n",
       "       [0.23191758, 0.8163494 ],\n",
       "       [0.9168114 , 0.9999993 ],\n",
       "       [0.1894855 , 0.68559706],\n",
       "       [0.96001726, 0.9999722 ],\n",
       "       [0.16076997, 0.9996319 ],\n",
       "       [0.97939724, 0.9999231 ],\n",
       "       [0.92328566, 0.9991928 ]], dtype=float32)"
      ]
     },
     "execution_count": 66,
     "metadata": {},
     "output_type": "execute_result"
    }
   ],
   "source": [
    "s=model.E(data)\n",
    "s=s.detach().numpy()\n",
    "s"
   ]
  },
  {
   "cell_type": "code",
   "execution_count": 67,
   "id": "72901ce5",
   "metadata": {},
   "outputs": [
    {
     "name": "stderr",
     "output_type": "stream",
     "text": [
      "C:\\Users\\zhuko\\anaconda3\\lib\\site-packages\\seaborn\\_core.py:882: FutureWarning: elementwise comparison failed; returning scalar instead, but in the future will perform elementwise comparison\n",
      "  val in data\n"
     ]
    },
    {
     "data": {
      "text/plain": [
       "<AxesSubplot:>"
      ]
     },
     "execution_count": 67,
     "metadata": {},
     "output_type": "execute_result"
    },
    {
     "data": {
      "image/png": "[encoded data removed]",
      "text/plain": [
       "<Figure size 576x576 with 1 Axes>"
      ]
     },
     "metadata": {},
     "output_type": "display_data"
    }
   ],
   "source": [
    "import seaborn as sns\n",
    "from matplotlib import rcParams\n",
    "sns.set(rc={'figure.figsize':(8,8)})\n",
    "sns.scatterplot(data=s, x=s[:,0], y=s[:,-1], hue=target)"
   ]
  },
  {
   "cell_type": "code",
   "execution_count": 68,
   "id": "ac99c3aa",
   "metadata": {},
   "outputs": [],
   "source": [
    "model_32 = Net(32)"
   ]
  },
  {
   "cell_type": "code",
   "execution_count": 69,
   "id": "4cfeb0af",
   "metadata": {},
   "outputs": [],
   "source": [
    "optimizer_32 = torch.optim.Adam(model_32.parameters(), lr=1e-4)"
   ]
  },
  {
   "cell_type": "code",
   "execution_count": 70,
   "id": "e1312d2b",
   "metadata": {},
   "outputs": [
    {
     "name": "stdout",
     "output_type": "stream",
     "text": [
      "1,\t loss: 5.587246894836426\n",
      "1,\t loss: 5.592343807220459\n",
      "2,\t loss: 5.052779674530029\n",
      "2,\t loss: 5.055705547332764\n",
      "3,\t loss: 4.886003494262695\n",
      "3,\t loss: 4.886662483215332\n",
      "4,\t loss: 4.825390815734863\n",
      "4,\t loss: 4.8254313468933105\n",
      "5,\t loss: 4.797603607177734\n",
      "5,\t loss: 4.7975544929504395\n",
      "6,\t loss: 4.782125949859619\n",
      "6,\t loss: 4.782068729400635\n",
      "7,\t loss: 4.7724385261535645\n",
      "7,\t loss: 4.772390365600586\n",
      "8,\t loss: 4.765899658203125\n",
      "8,\t loss: 4.765861511230469\n",
      "9,\t loss: 4.761246681213379\n",
      "9,\t loss: 4.76121711730957\n",
      "10,\t loss: 4.757803916931152\n",
      "10,\t loss: 4.757781028747559\n"
     ]
    }
   ],
   "source": [
    "losses_train = []\n",
    "losses_test = []\n",
    "for epoch in range(10):\n",
    "    history_train = []\n",
    "    history_test = []\n",
    "    for x_batch, y_batch in train_loader:\n",
    "    # 1. # загружаем батч данных (вытянутый в линию)\n",
    "        x_batch = x_batch.view(x_batch.shape[0], -1).to(device)\n",
    "        y_batch = y_batch.to(device)\n",
    "\n",
    "    # 2. вычисляем скор с помощью прямого распространения ( .forward or .__call__ )\n",
    "        preds = model_32(x_batch)\n",
    "\n",
    "    # 3. вычислеяем - функцию потерь (loss)\n",
    "        loss = criterion(preds, y_batch)\n",
    "        #history.append(loss.item())\n",
    "\n",
    "    # 4. вычисляем градиенты\n",
    "        optimizer_32.zero_grad()\n",
    "        loss.backward()\n",
    "\n",
    "    # 5. шаг градиентного спуска\n",
    "        optimizer_32.step()\n",
    "        history_train.append(loss.item())\n",
    "    losses_train.append(np.mean(history_train))\n",
    "    \n",
    "    with torch.no_grad():\n",
    "        for x_batch, y_batch in test_loader:\n",
    "            x_batch = x_batch.view(x_batch.shape[0], -1).to(device)\n",
    "            y_batch = y_batch.to(device)\n",
    "            \n",
    "            preds = model_32(x_batch)\n",
    "            \n",
    "            loss = criterion(preds, y_batch)\n",
    "            \n",
    "            history_test.append(loss.item())\n",
    "    \n",
    "    losses_test.append(np.mean(history_test))       \n",
    "    print(f'{epoch+1},\\t loss: {history_train[-1]}')\n",
    "    print(f'{epoch+1},\\t loss: {history_test[-1]}')"
   ]
  },
  {
   "cell_type": "code",
   "execution_count": 71,
   "id": "1b8d779c",
   "metadata": {},
   "outputs": [],
   "source": [
    "for batch in test_loader:\n",
    "    data_32 = batch[0].float()\n",
    "    target_32 = batch[1].float()\n",
    "    break"
   ]
  },
  {
   "cell_type": "code",
   "execution_count": 72,
   "id": "f5449c26",
   "metadata": {},
   "outputs": [],
   "source": [
    "data_32=data_32.view(-1,28*28)"
   ]
  },
  {
   "cell_type": "code",
   "execution_count": 73,
   "id": "c179db79",
   "metadata": {},
   "outputs": [
    {
     "data": {
      "text/plain": [
       "array([[0.9995466 , 0.99992573, 0.99883336, ..., 0.9993703 , 0.99959594,\n",
       "        0.99978715],\n",
       "       [0.9990688 , 0.99842167, 0.9997218 , ..., 0.999632  , 0.99891675,\n",
       "        0.9997619 ],\n",
       "       [0.9998745 , 0.99957174, 0.99992764, ..., 0.9997825 , 0.99985504,\n",
       "        0.9998349 ],\n",
       "       ...,\n",
       "       [0.9997763 , 0.99942136, 0.99962246, ..., 0.9997154 , 0.99970883,\n",
       "        0.99974114],\n",
       "       [0.9996513 , 0.99981946, 0.9986186 , ..., 0.99940705, 0.99964535,\n",
       "        0.9998423 ],\n",
       "       [0.99976   , 0.99969196, 0.99936   , ..., 0.9996049 , 0.99978   ,\n",
       "        0.9997873 ]], dtype=float32)"
      ]
     },
     "execution_count": 73,
     "metadata": {},
     "output_type": "execute_result"
    }
   ],
   "source": [
    "s_32=model_32.E(data_32)\n",
    "s_32=s_32.detach().numpy()\n",
    "s_32"
   ]
  },
  {
   "cell_type": "code",
   "execution_count": 74,
   "id": "3815ab48",
   "metadata": {},
   "outputs": [
    {
     "data": {
      "text/plain": [
       "(256, 32)"
      ]
     },
     "execution_count": 74,
     "metadata": {},
     "output_type": "execute_result"
    }
   ],
   "source": [
    "s_32.shape"
   ]
  },
  {
   "cell_type": "code",
   "execution_count": 75,
   "id": "974b72de",
   "metadata": {},
   "outputs": [],
   "source": [
    "from sklearn.manifold import TSNE"
   ]
  },
  {
   "cell_type": "code",
   "execution_count": 76,
   "id": "e78f2ddc",
   "metadata": {},
   "outputs": [],
   "source": [
    "tsne = TSNE(n_components=2, random_state=42)"
   ]
  },
  {
   "cell_type": "code",
   "execution_count": 77,
   "id": "799198d6",
   "metadata": {},
   "outputs": [],
   "source": [
    "X_tsne = tsne.fit_transform(s_32)"
   ]
  },
  {
   "cell_type": "code",
   "execution_count": 78,
   "id": "9b0f12e3",
   "metadata": {},
   "outputs": [
    {
     "data": {
      "text/plain": [
       "(256, 2)"
      ]
     },
     "execution_count": 78,
     "metadata": {},
     "output_type": "execute_result"
    }
   ],
   "source": [
    "X_tsne.shape"
   ]
  },
  {
   "cell_type": "code",
   "execution_count": 79,
   "id": "5feea460",
   "metadata": {},
   "outputs": [
    {
     "data": {
      "text/plain": [
       "array([[ 6.27241755e+00,  2.78950214e-01],\n",
       "       [-1.66636410e+01,  8.04084682e+00],\n",
       "       [ 1.50003366e+01, -6.01044750e+00],\n",
       "       [-1.29616537e+01,  8.88787174e+00],\n",
       "       [ 4.46707582e+00, -1.03656206e+01],\n",
       "       [-6.08235896e-01, -7.02742386e+00],\n",
       "       [ 1.61290061e+00, -9.12924099e+00],\n",
       "       [-2.52862787e+00,  2.75871134e+00],\n",
       "       [-5.14188623e+00,  8.14453840e-01],\n",
       "       [ 5.95939875e+00,  1.48712862e+00],\n",
       "       [ 2.48388910e+00,  6.18110847e+00],\n",
       "       [-1.51717138e+01,  8.96001148e+00],\n",
       "       [ 6.51232290e+00, -1.02270613e+01],\n",
       "       [ 4.58742714e+00,  9.56201315e-01],\n",
       "       [ 1.56328430e+01, -6.00941229e+00],\n",
       "       [ 6.88224602e+00,  3.69199133e+00],\n",
       "       [ 4.14034986e+00, -9.17054749e+00],\n",
       "       [-4.80445099e+00,  2.17995071e+00],\n",
       "       [-1.82525768e+01,  8.16374302e+00],\n",
       "       [ 5.65724134e+00, -1.03694172e+01],\n",
       "       [ 6.33680916e+00,  1.57246876e+00],\n",
       "       [-7.19938374e+00,  1.01343212e+01],\n",
       "       [-3.58411837e+00,  4.76407766e+00],\n",
       "       [-3.34821749e+00,  4.26694721e-01],\n",
       "       [ 5.52041626e+00, -9.74931240e+00],\n",
       "       [-1.40394449e+01,  4.45878077e+00],\n",
       "       [ 5.21562290e+00, -8.31050205e+00],\n",
       "       [ 4.98537874e+00, -1.14708319e+01],\n",
       "       [-7.27836657e+00,  3.91145110e+00],\n",
       "       [ 1.17602501e+01, -4.81457138e+00],\n",
       "       [-1.77668419e+01,  9.05427933e+00],\n",
       "       [ 9.44051075e+00, -3.85608196e+00],\n",
       "       [-8.42474174e+00,  5.65654945e+00],\n",
       "       [ 4.46402407e+00, -6.36811733e-01],\n",
       "       [ 4.50318766e+00,  3.98983455e+00],\n",
       "       [-5.24250937e+00,  6.77175856e+00],\n",
       "       [-1.11543620e+00, -1.01020312e+00],\n",
       "       [ 1.37525845e+01, -5.30852127e+00],\n",
       "       [-1.10088139e+01,  7.83112288e+00],\n",
       "       [ 1.61508980e+01, -6.84731245e+00],\n",
       "       [ 1.25709105e+01, -4.87703657e+00],\n",
       "       [ 5.87171602e+00, -7.71465254e+00],\n",
       "       [ 1.13408165e+01,  1.03532290e+00],\n",
       "       [-1.27576709e+00,  4.89481068e+00],\n",
       "       [-1.40398970e+01,  8.70367146e+00],\n",
       "       [-3.54443550e+00,  8.86830091e-01],\n",
       "       [-4.33280182e+00,  3.45490789e+00],\n",
       "       [ 4.28233147e+00, -3.00251198e+00],\n",
       "       [-2.62710190e+00, -8.70166969e+00],\n",
       "       [ 6.48330390e-01, -1.13088140e+01],\n",
       "       [-1.04354572e+01,  9.32483673e+00],\n",
       "       [-1.81261005e+01,  8.65359402e+00],\n",
       "       [ 5.38984954e-01, -3.86647558e+00],\n",
       "       [ 6.12902880e+00, -1.30039597e+00],\n",
       "       [-1.53555965e+01,  7.35275316e+00],\n",
       "       [-1.78206921e+00, -1.21396470e+00],\n",
       "       [-4.80160046e+00, -2.11071944e+00],\n",
       "       [ 1.40204802e+01, -6.50292110e+00],\n",
       "       [ 6.23158693e-01, -9.95096207e+00],\n",
       "       [ 1.05923119e+01, -2.68085432e+00],\n",
       "       [-5.63557720e+00,  2.44587207e+00],\n",
       "       [-4.86188507e+00,  6.53750801e+00],\n",
       "       [ 4.16663504e+00, -6.38364887e+00],\n",
       "       [-8.68078411e-01,  1.45803237e+00],\n",
       "       [-9.93790817e+00,  5.33953094e+00],\n",
       "       [ 2.16645375e-01, -2.56773591e+00],\n",
       "       [-9.64983845e+00,  7.85210228e+00],\n",
       "       [-7.67054617e-01, -1.07866087e+01],\n",
       "       [-1.67338772e+01,  9.01426411e+00],\n",
       "       [-9.31775951e+00,  5.39806700e+00],\n",
       "       [-1.82444668e+00,  1.34717262e+00],\n",
       "       [-1.34687719e+01,  4.51389551e+00],\n",
       "       [-1.50332251e+01,  8.58896542e+00],\n",
       "       [ 4.23756456e+00,  4.14233208e+00],\n",
       "       [ 1.42906439e+00, -6.68703365e+00],\n",
       "       [-2.03067803e+00, -1.07374058e+01],\n",
       "       [-1.97444153e+00,  2.22992444e+00],\n",
       "       [ 5.09761953e+00, -2.63658333e+00],\n",
       "       [ 8.83137512e+00, -7.62699604e-01],\n",
       "       [ 4.18813467e+00,  6.42453671e+00],\n",
       "       [ 4.08003759e+00, -6.92495871e+00],\n",
       "       [-6.81780624e+00,  1.03926010e+01],\n",
       "       [-1.01511288e+01,  1.15519924e+01],\n",
       "       [ 6.15464067e+00, -9.15396976e+00],\n",
       "       [ 5.20834255e+00,  2.98693919e+00],\n",
       "       [-7.52945423e+00,  3.75754423e-02],\n",
       "       [ 5.66173983e+00,  4.46566010e+00],\n",
       "       [-1.10862246e+01,  8.55403709e+00],\n",
       "       [-6.21150637e+00, -4.37202740e+00],\n",
       "       [ 1.67877369e+01, -7.67564344e+00],\n",
       "       [-7.51379967e+00,  4.69913578e+00],\n",
       "       [-7.23746967e+00,  1.09030561e+01],\n",
       "       [ 6.07238007e+00, -4.19598913e+00],\n",
       "       [-1.62212105e+01,  8.91939926e+00],\n",
       "       [-2.02209806e+00,  5.44563198e+00],\n",
       "       [-1.22384853e+01,  1.01985912e+01],\n",
       "       [ 8.62756538e+00, -4.28008556e+00],\n",
       "       [-1.14785891e+01,  5.68381071e+00],\n",
       "       [ 2.27749252e+00, -4.02125502e+00],\n",
       "       [-5.98861456e+00,  5.38176358e-01],\n",
       "       [ 3.93337321e+00, -2.60423279e+00],\n",
       "       [ 7.41501236e+00,  2.66520524e+00],\n",
       "       [ 3.44068575e+00,  1.99907136e+00],\n",
       "       [-5.62480748e-01, -1.11423788e+01],\n",
       "       [-5.77233410e+00,  3.02249122e+00],\n",
       "       [ 6.21441078e+00, -1.05552282e+01],\n",
       "       [-1.69222622e+01,  8.65710163e+00],\n",
       "       [ 1.33537540e+01, -8.19836140e+00],\n",
       "       [ 3.38200521e+00, -6.33578491e+00],\n",
       "       [ 5.64076757e+00, -1.15539818e+01],\n",
       "       [-1.31642904e+01,  8.00071430e+00],\n",
       "       [ 1.27385302e+01, -2.65529561e+00],\n",
       "       [-9.68939245e-01,  1.62904358e+00],\n",
       "       [ 1.32159829e+00, -9.94622040e+00],\n",
       "       [ 7.69926834e+00, -3.74496126e+00],\n",
       "       [ 5.12638617e+00, -1.08303347e+01],\n",
       "       [ 4.92372656e+00, -8.88069725e+00],\n",
       "       [-7.47577858e+00, -1.37511224e-01],\n",
       "       [ 7.02174759e+00, -1.16544914e+01],\n",
       "       [ 2.77493525e+00, -3.08048606e+00],\n",
       "       [-1.16881599e+01,  8.14666653e+00],\n",
       "       [ 3.97924733e+00, -9.85055065e+00],\n",
       "       [ 4.11701679e+00, -5.08059072e+00],\n",
       "       [-7.56444216e+00,  1.06805477e+01],\n",
       "       [-5.60708046e-01, -1.02435122e+01],\n",
       "       [ 2.84366727e+00, -5.56408262e+00],\n",
       "       [-1.45384293e+01,  6.95066071e+00],\n",
       "       [ 8.02132797e+00,  2.58140504e-01],\n",
       "       [ 3.89754581e+00,  4.49114370e+00],\n",
       "       [ 5.18788290e+00, -6.86763668e+00],\n",
       "       [-8.36106777e+00,  1.30411291e+01],\n",
       "       [-8.38660526e+00,  1.30636454e+01],\n",
       "       [-1.17165413e+01,  8.86694527e+00],\n",
       "       [-9.67425823e+00,  8.50860596e+00],\n",
       "       [ 4.66343689e+00,  2.87668538e+00],\n",
       "       [ 1.59886208e+01, -7.19740868e+00],\n",
       "       [-1.53271973e+00, -1.64692140e+00],\n",
       "       [ 1.61984348e+01, -8.11435509e+00],\n",
       "       [-5.74692869e+00,  1.08824778e+01],\n",
       "       [ 2.71859217e+00, -1.06678152e+01],\n",
       "       [ 2.59955192e+00, -4.38728905e+00],\n",
       "       [ 5.99146187e-01, -4.91605854e+00],\n",
       "       [ 3.03169584e+00,  4.19481611e+00],\n",
       "       [ 1.48859940e+01, -6.63741779e+00],\n",
       "       [-6.02736413e-01,  7.76221633e-01],\n",
       "       [ 1.08366480e+01, -4.36517334e+00],\n",
       "       [ 5.45718622e+00,  8.87574375e-01],\n",
       "       [-1.01757698e+01,  1.15602570e+01],\n",
       "       [-2.28652573e+00, -7.68288195e-01],\n",
       "       [-2.46468449e+00,  3.80653572e+00],\n",
       "       [ 3.17455459e+00, -6.85452652e+00],\n",
       "       [ 1.70192194e+00,  4.50946999e+00],\n",
       "       [ 5.77700615e+00, -4.48509026e+00],\n",
       "       [ 2.01263356e+00, -1.71603906e+00],\n",
       "       [ 1.09407787e+01, -3.70986795e+00],\n",
       "       [ 2.87025690e+00, -1.00158370e+00],\n",
       "       [-5.50636053e+00,  1.03879433e+01],\n",
       "       [-2.97487831e+00, -3.73896956e-01],\n",
       "       [-1.43349466e+01,  8.91596699e+00],\n",
       "       [ 2.87296128e+00, -8.50446224e+00],\n",
       "       [ 4.61112231e-01, -1.08402958e+01],\n",
       "       [-8.30743122e+00,  1.10883341e+01],\n",
       "       [ 3.89438748e+00,  1.65650403e+00],\n",
       "       [-8.04967308e+00,  1.37575224e-01],\n",
       "       [-4.48632526e+00,  5.04618835e+00],\n",
       "       [-7.59947586e+00,  5.97708035e+00],\n",
       "       [-1.16159117e+00, -2.10303855e+00],\n",
       "       [ 6.90204716e+00, -3.19788623e+00],\n",
       "       [ 1.38162861e+01, -4.81412649e+00],\n",
       "       [ 3.81230855e+00, -7.38485193e+00],\n",
       "       [ 5.89638186e+00, -1.01121016e+01],\n",
       "       [-6.51676702e+00,  6.42391968e+00],\n",
       "       [-1.61656418e+01,  6.45144987e+00],\n",
       "       [ 5.97950792e+00,  5.21192598e+00],\n",
       "       [-4.90932274e+00,  3.71443462e+00],\n",
       "       [ 1.06928024e+01, -3.20165849e+00],\n",
       "       [ 1.29375057e+01, -5.48175764e+00],\n",
       "       [ 3.82442617e+00, -5.69017458e+00],\n",
       "       [ 1.45148363e+01, -6.14969063e+00],\n",
       "       [-5.71760559e+00,  6.01438189e+00],\n",
       "       [ 1.32964640e+01, -5.92513418e+00],\n",
       "       [-1.11140413e+01,  9.19717693e+00],\n",
       "       [ 7.61190844e+00, -1.09063187e+01],\n",
       "       [-1.58558550e+01,  6.75672054e+00],\n",
       "       [-1.04807777e+01,  7.88375998e+00],\n",
       "       [ 4.23534966e+00, -1.14150534e+01],\n",
       "       [-1.89288979e+01,  8.48182201e+00],\n",
       "       [ 3.14172316e+00,  3.04131913e+00],\n",
       "       [ 2.75759935e+00,  6.58454466e+00],\n",
       "       [ 9.37451935e+00, -4.24409437e+00],\n",
       "       [ 1.44820986e+01, -7.87479019e+00],\n",
       "       [ 8.50771713e+00, -4.12878132e+00],\n",
       "       [-1.23732567e+01,  7.30448532e+00],\n",
       "       [-4.13296080e+00, -4.98021066e-01],\n",
       "       [-1.81992424e+00,  1.52550235e-01],\n",
       "       [ 8.32074261e+00, -3.58334780e+00],\n",
       "       [ 1.62397060e+01, -6.30692244e+00],\n",
       "       [-1.07845469e+01,  1.03791370e+01],\n",
       "       [ 5.89582396e+00, -1.08352127e+01],\n",
       "       [-1.39882164e+01,  9.37211418e+00],\n",
       "       [-1.96574459e+01,  8.45373344e+00],\n",
       "       [-6.07774830e+00,  1.18968973e+01],\n",
       "       [ 1.38524599e+01, -7.58775711e+00],\n",
       "       [ 1.18451166e+01, -4.01903296e+00],\n",
       "       [ 5.40052354e-01, -6.92729616e+00],\n",
       "       [-4.42108679e+00,  2.85036349e+00],\n",
       "       [ 1.35644293e+00, -8.55296040e+00],\n",
       "       [ 2.03243947e+00,  1.77700698e+00],\n",
       "       [ 3.53785515e+00, -3.05568600e+00],\n",
       "       [-6.68322849e+00,  2.75258708e+00],\n",
       "       [-7.96272308e-02, -4.46948099e+00],\n",
       "       [ 7.74671888e+00, -7.74368346e-01],\n",
       "       [-1.13429394e+01,  6.82026482e+00],\n",
       "       [-5.70157337e+00,  4.42727613e+00],\n",
       "       [-1.39235663e+00, -3.54181814e+00],\n",
       "       [-2.77061582e+00,  5.03253676e-02],\n",
       "       [-1.69359474e+01,  9.30603504e+00],\n",
       "       [-6.80180502e+00,  4.98461914e+00],\n",
       "       [ 6.17732286e+00,  2.59620166e+00],\n",
       "       [-9.28052807e+00,  6.96144485e+00],\n",
       "       [ 7.03170729e+00, -9.34531403e+00],\n",
       "       [-1.59364872e+01,  9.29533672e+00],\n",
       "       [-1.87584362e+01,  8.84011745e+00],\n",
       "       [ 4.96780968e+00,  1.64068222e+00],\n",
       "       [ 1.23899069e+01, -4.29743719e+00],\n",
       "       [ 7.40959597e+00,  4.36645222e+00],\n",
       "       [-6.01613712e+00,  3.86357832e+00],\n",
       "       [ 4.76324463e+00, -7.99800920e+00],\n",
       "       [ 1.52239466e+01, -7.42226696e+00],\n",
       "       [ 6.77540398e+00, -7.21374321e+00],\n",
       "       [-1.20043764e+01,  8.27439976e+00],\n",
       "       [ 3.38594824e-01,  2.77298260e+00],\n",
       "       [-6.72790861e+00,  1.00625658e+01],\n",
       "       [ 7.48872471e+00,  1.08249807e+00],\n",
       "       [ 5.87993956e+00, -6.69140482e+00],\n",
       "       [ 4.61732531e+00, -8.40650272e+00],\n",
       "       [-1.03221607e+01,  8.50326824e+00],\n",
       "       [-3.64210105e+00,  5.41004992e+00],\n",
       "       [-3.14694971e-01, -1.06169796e+01],\n",
       "       [ 1.31928444e+01, -4.96236372e+00],\n",
       "       [-3.85128760e+00,  2.07139945e+00],\n",
       "       [ 2.63280725e+00, -1.99648035e+00],\n",
       "       [ 4.87497139e+00,  4.61922264e+00],\n",
       "       [-3.16884637e+00,  2.68236399e+00],\n",
       "       [-4.07627392e+00,  3.77136612e+00],\n",
       "       [-9.78852749e+00,  7.12882996e+00],\n",
       "       [-1.46401415e+01,  5.10156584e+00],\n",
       "       [-1.03697329e+01,  8.18470955e+00],\n",
       "       [ 4.96246992e-03, -1.22252436e+01],\n",
       "       [-2.78209662e+00,  5.18229294e+00],\n",
       "       [-3.76363230e+00, -2.10596848e+00],\n",
       "       [ 1.00898285e+01, -4.08125210e+00],\n",
       "       [-1.45474756e+00, -1.00157776e+01],\n",
       "       [ 2.37158561e+00, -2.17742682e+00],\n",
       "       [ 5.36510420e+00, -7.57664442e+00],\n",
       "       [ 4.19936061e-01, -2.69963956e+00]], dtype=float32)"
      ]
     },
     "execution_count": 79,
     "metadata": {},
     "output_type": "execute_result"
    }
   ],
   "source": [
    "X_tsne"
   ]
  },
  {
   "cell_type": "code",
   "execution_count": 80,
   "id": "1ebfbe91",
   "metadata": {},
   "outputs": [
    {
     "data": {
      "text/plain": [
       "<AxesSubplot:>"
      ]
     },
     "execution_count": 80,
     "metadata": {},
     "output_type": "execute_result"
    },
    {
     "data": {
      "image/png": "[encoded data removed]",
      "text/plain": [
       "<Figure size 576x576 with 1 Axes>"
      ]
     },
     "metadata": {},
     "output_type": "display_data"
    }
   ],
   "source": [
    "sns.set(rc={'figure.figsize':(8,8)})\n",
    "sns.scatterplot(data=s_32, x=X_tsne[:,0], y=X_tsne[:,-1], hue=target_32)"
   ]
  },
  {
   "cell_type": "code",
   "execution_count": 81,
   "id": "8a8ca1b0",
   "metadata": {},
   "outputs": [],
   "source": [
    "class Encoder(nn.Module):\n",
    "    def __init__(self, latent_size=64):\n",
    "        super(Encoder, self).__init__()\n",
    "        self.fc1 = nn.Linear(28*28, latent_size)\n",
    "    \n",
    "    def forward(self, x):\n",
    "        x = torch.sigmoid(self.fc1(x))\n",
    "        return x\n",
    "    \n",
    "class Decoder(nn.Module):\n",
    "    def __init__(self, latent_size=64):\n",
    "        super(Decoder, self).__init__()\n",
    "        self.fc1 = nn.Linear(latent_size, 28*28)\n",
    "    \n",
    "    def forward(self, x):\n",
    "        x = torch.tanh(self.fc1(x))\n",
    "        return x"
   ]
  },
  {
   "cell_type": "code",
   "execution_count": 82,
   "id": "fa4b1209",
   "metadata": {},
   "outputs": [],
   "source": [
    "class Net(nn.Module):\n",
    "    def __init__(self, latent_size=64, loss_fn=F.mse_loss, lr=1e-4, l2=0.):\n",
    "        super(Net, self).__init__()\n",
    "        self.latent_size = latent_size\n",
    "        self.E = Encoder(latent_size)\n",
    "        self.D = Decoder(latent_size)\n",
    "        self.loss_fn = loss_fn\n",
    "        self._loss = None\n",
    "        self.optim = optim.Adam(self.parameters(), lr=lr, weight_decay=l2)\n",
    "        \n",
    "    def forward(self, x):\n",
    "        x = x.view(-1, 28*28)\n",
    "        h = self.E(x)\n",
    "        out = self.D(h)\n",
    "        return out\n",
    "    \n",
    "    def decode(self, h):\n",
    "        with torch.no_grad():\n",
    "            return self.D(h)\n",
    "    \n",
    "    def loss(self, x, target, **kwargs):\n",
    "        target = target.view(-1, 28*28)\n",
    "        self._loss = self.loss_fn(x, target, **kwargs)\n",
    "        return self._loss"
   ]
  },
  {
   "cell_type": "code",
   "execution_count": 83,
   "id": "a0bc3962",
   "metadata": {},
   "outputs": [],
   "source": [
    "models = {'16': Net(16), '32': Net(32)}\n",
    "train_log = {k: [] for k in models}\n",
    "test_log = {k: [] for k in models}"
   ]
  },
  {
   "cell_type": "code",
   "execution_count": 84,
   "id": "edab87f8",
   "metadata": {},
   "outputs": [],
   "source": [
    "for batch in test_loader:\n",
    "    data_n = batch[0].float()\n",
    "    target_n = batch[1].float()\n",
    "    break"
   ]
  },
  {
   "cell_type": "code",
   "execution_count": 85,
   "id": "3d5e8893",
   "metadata": {},
   "outputs": [],
   "source": [
    "data_n=data_n.view(-1,28*28)"
   ]
  },
  {
   "cell_type": "code",
   "execution_count": 86,
   "id": "ab4f40fa",
   "metadata": {},
   "outputs": [
    {
     "data": {
      "text/plain": [
       "torch.Size([256, 784])"
      ]
     },
     "execution_count": 86,
     "metadata": {},
     "output_type": "execute_result"
    }
   ],
   "source": [
    "data_n.shape"
   ]
  },
  {
   "cell_type": "code",
   "execution_count": 87,
   "id": "a778c23e",
   "metadata": {},
   "outputs": [],
   "source": [
    "#Добавим гауссовский шум к данным + сделаем отражение части изображения"
   ]
  },
  {
   "cell_type": "code",
   "execution_count": 88,
   "id": "6d8e0d1d",
   "metadata": {},
   "outputs": [],
   "source": [
    "mu, sigma = 0, 0.1\n",
    "noise = np.random.normal(mu, sigma, [256,784])\n",
    "data_noized=data_n+noise\n",
    "data_noized=torch.fliplr(data_noized)"
   ]
  },
  {
   "cell_type": "code",
   "execution_count": 89,
   "id": "fd340397",
   "metadata": {},
   "outputs": [],
   "source": [
    "data_n = [d.reshape(28,28) for d in data_n]"
   ]
  },
  {
   "cell_type": "code",
   "execution_count": 90,
   "id": "b64b1da0",
   "metadata": {},
   "outputs": [],
   "source": [
    "data_noized = [d.reshape(28,28) for d in data_noized]"
   ]
  },
  {
   "cell_type": "code",
   "execution_count": 91,
   "id": "9b58cf06",
   "metadata": {},
   "outputs": [
    {
     "data": {
      "text/plain": [
       "<matplotlib.image.AxesImage at 0x2b340450b80>"
      ]
     },
     "execution_count": 91,
     "metadata": {},
     "output_type": "execute_result"
    },
    {
     "data": {
      "image/png": "[encoded data removed]",
      "text/plain": [
       "<Figure size 720x720 with 10 Axes>"
      ]
     },
     "metadata": {},
     "output_type": "display_data"
    }
   ],
   "source": [
    "fig, axs = plt.subplots(2, 5, figsize=(10, 10))\n",
    "axs[0, 0].imshow(data_n[0])\n",
    "axs[0, 1].imshow(data_n[1])\n",
    "axs[0, 2].imshow(data_n[2])\n",
    "axs[0, 3].imshow(data_n[3])\n",
    "axs[0, 4].imshow(data_n[4])\n",
    "axs[1, 0].imshow(data_n[5])\n",
    "axs[1, 1].imshow(data_n[6])\n",
    "axs[1, 2].imshow(data_n[7])\n",
    "axs[1, 3].imshow(data_n[8])\n",
    "axs[1, 4].imshow(data_n[9])"
   ]
  },
  {
   "cell_type": "code",
   "execution_count": 92,
   "id": "9aee42c6",
   "metadata": {},
   "outputs": [
    {
     "data": {
      "text/plain": [
       "<matplotlib.image.AxesImage at 0x2b34250ec70>"
      ]
     },
     "execution_count": 92,
     "metadata": {},
     "output_type": "execute_result"
    },
    {
     "data": {
      "image/png": "[encoded data removed]",
      "text/plain": [
       "<Figure size 720x720 with 10 Axes>"
      ]
     },
     "metadata": {},
     "output_type": "display_data"
    }
   ],
   "source": [
    "fig, axs = plt.subplots(2, 5, figsize=(10, 10))\n",
    "axs[0, 0].imshow(data_noized[0])\n",
    "axs[0, 1].imshow(data_noized[1])\n",
    "axs[0, 2].imshow(data_noized[2])\n",
    "axs[0, 3].imshow(data_noized[3])\n",
    "axs[0, 4].imshow(data_noized[4])\n",
    "axs[1, 0].imshow(data_noized[5])\n",
    "axs[1, 1].imshow(data_noized[6])\n",
    "axs[1, 2].imshow(data_noized[7])\n",
    "axs[1, 3].imshow(data_noized[8])\n",
    "axs[1, 4].imshow(data_noized[9])"
   ]
  },
  {
   "cell_type": "code",
   "execution_count": 103,
   "id": "407c274c",
   "metadata": {},
   "outputs": [],
   "source": [
    "def add_noise(x, mode='gaussian', elementwise=True):\n",
    "    if np.random.randint(2):\n",
    "        return x\n",
    "    x = x.clone()\n",
    "    if elementwise:\n",
    "        if mode == 'gaussian':\n",
    "            for i in range(x.shape[0]):\n",
    "                x=x+(0.1**0.5)*torch.randn(256, 1, 28,28) \n",
    "    else:\n",
    "        if mode == 'mirror':\n",
    "            x=torch.fliplr(x)\n",
    "    return x"
   ]
  },
  {
   "cell_type": "code",
   "execution_count": 104,
   "id": "3709efeb",
   "metadata": {},
   "outputs": [],
   "source": [
    "def train(epoch, models, log=None):\n",
    "    train_size = len(train_loader.sampler)\n",
    "    for batch_idx, (data, _) in enumerate(train_loader):\n",
    "        noized = add_noise(data)\n",
    "        for model in models.values():\n",
    "            model.optim.zero_grad()\n",
    "            output = model(noized)\n",
    "            loss = model.loss(output, data)\n",
    "            loss.backward()\n",
    "            model.optim.step()\n",
    "            \n",
    "        if batch_idx % 150 == 0:\n",
    "            line = 'Train Epoch: {} [{:05d}/{}] '.format(\n",
    "                epoch, batch_idx * len(data), train_size)\n",
    "            losses = ' '.join(['{}: {:.6f}'.format(k, m._loss.item()) for k, m in models.items()])\n",
    "            print(line + losses)\n",
    "            \n",
    "    else:\n",
    "        batch_idx += 1\n",
    "        line = 'Train Epoch: {} [{:05d}/{}] '.format(\n",
    "            epoch, batch_idx * len(data), train_size)\n",
    "        losses = ' '.join(['{}: {:.6f}'.format(k, m._loss.item()) for k, m in models.items()])\n",
    "        if log is not None:\n",
    "            for k in models:\n",
    "                log[k].append(models[k]._loss)\n",
    "        print(line + losses)"
   ]
  },
  {
   "cell_type": "code",
   "execution_count": 105,
   "id": "cf415f8f",
   "metadata": {},
   "outputs": [],
   "source": [
    "avg_lambda = lambda l: 'loss: {:.4f}'.format(l)\n",
    "line = lambda i, l: '{}: '.format(i) + avg_lambda(l)\n",
    "    \n",
    "def test(models, loader, log=None):\n",
    "    test_size = len(loader.sampler)\n",
    "\n",
    "    test_loss = {k: 0. for k in models}\n",
    "    with torch.no_grad():\n",
    "        for data, _ in loader:\n",
    "            if np.random.randint(2):\n",
    "                noized = add_noise(data, mode='gaussian')\n",
    "            else:\n",
    "                noized = add_noise(data, mode='mirror')\n",
    "            output = {k: m(noized) for k, m in models.items()}\n",
    "            for k, m in models.items():\n",
    "                test_loss[k] += m.loss(output[k], data, reduction='sum').item() # sum up batch loss\n",
    "    \n",
    "    for k in models:\n",
    "        test_loss[k] /= (test_size * 784)\n",
    "        if log is not None:\n",
    "            log[k].append(test_loss[k])\n",
    "    \n",
    "    lines = '\\n'.join([line(k, test_loss[k]) for k in models]) + '\\n'\n",
    "    report = 'Test set:\\n' + lines        \n",
    "    print(report)"
   ]
  },
  {
   "cell_type": "code",
   "execution_count": 106,
   "id": "78a744a7",
   "metadata": {},
   "outputs": [
    {
     "name": "stdout",
     "output_type": "stream",
     "text": [
      "Train Epoch: 1 [00000/60000] 16: 0.267438 32: 0.255368\n",
      "Train Epoch: 1 [38400/60000] 16: 0.272803 32: 0.259797\n",
      "Train Epoch: 1 [59904/60000] 16: 0.275574 32: 0.252369\n",
      "Test set:\n",
      "16: loss: 0.2721\n",
      "32: loss: 0.2516\n",
      "\n",
      "Train Epoch: 2 [00000/60000] 16: 0.266483 32: 0.242839\n",
      "Train Epoch: 2 [38400/60000] 16: 0.271425 32: 0.246514\n",
      "Train Epoch: 2 [59904/60000] 16: 0.275015 32: 0.260703\n",
      "Test set:\n",
      "16: loss: 0.2710\n",
      "32: loss: 0.2481\n",
      "\n",
      "Train Epoch: 3 [00000/60000] 16: 0.265889 32: 0.250615\n",
      "Train Epoch: 3 [38400/60000] 16: 0.269427 32: 0.242505\n",
      "Train Epoch: 3 [59904/60000] 16: 0.274100 32: 0.258188\n",
      "Test set:\n",
      "16: loss: 0.2690\n",
      "32: loss: 0.2442\n",
      "\n",
      "Train Epoch: 4 [00000/60000] 16: 0.263215 32: 0.235125\n",
      "Train Epoch: 4 [38400/60000] 16: 0.269313 32: 0.254730\n",
      "Train Epoch: 4 [59904/60000] 16: 0.270181 32: 0.241141\n",
      "Test set:\n",
      "16: loss: 0.2671\n",
      "32: loss: 0.2406\n",
      "\n",
      "Train Epoch: 5 [00000/60000] 16: 0.263028 32: 0.249031\n",
      "Train Epoch: 5 [38400/60000] 16: 0.263496 32: 0.235430\n",
      "Train Epoch: 5 [59904/60000] 16: 0.265102 32: 0.236756\n",
      "Test set:\n",
      "16: loss: 0.2625\n",
      "32: loss: 0.2366\n",
      "\n",
      "Train Epoch: 6 [00000/60000] 16: 0.255755 32: 0.228047\n",
      "Train Epoch: 6 [38400/60000] 16: 0.259113 32: 0.231634\n",
      "Train Epoch: 6 [59904/60000] 16: 0.268043 32: 0.253322\n",
      "Test set:\n",
      "16: loss: 0.2585\n",
      "32: loss: 0.2327\n",
      "\n",
      "Train Epoch: 7 [00000/60000] 16: 0.257841 32: 0.244619\n",
      "Train Epoch: 7 [38400/60000] 16: 0.263548 32: 0.248927\n",
      "Train Epoch: 7 [59904/60000] 16: 0.266941 32: 0.254154\n",
      "Test set:\n",
      "16: loss: 0.2557\n",
      "32: loss: 0.2306\n",
      "\n",
      "Train Epoch: 8 [00000/60000] 16: 0.248618 32: 0.221721\n",
      "Train Epoch: 8 [38400/60000] 16: 0.261920 32: 0.249236\n",
      "Train Epoch: 8 [59904/60000] 16: 0.264854 32: 0.250200\n",
      "Test set:\n",
      "16: loss: 0.2546\n",
      "32: loss: 0.2321\n",
      "\n",
      "Train Epoch: 9 [00000/60000] 16: 0.245619 32: 0.218789\n",
      "Train Epoch: 9 [38400/60000] 16: 0.250191 32: 0.222319\n",
      "Train Epoch: 9 [59904/60000] 16: 0.263500 32: 0.248689\n",
      "Test set:\n",
      "16: loss: 0.2529\n",
      "32: loss: 0.2304\n",
      "\n",
      "Train Epoch: 10 [00000/60000] 16: 0.242870 32: 0.215690\n",
      "Train Epoch: 10 [38400/60000] 16: 0.257326 32: 0.245058\n",
      "Train Epoch: 10 [59904/60000] 16: 0.250453 32: 0.220116\n",
      "Test set:\n",
      "16: loss: 0.2486\n",
      "32: loss: 0.2232\n",
      "\n"
     ]
    }
   ],
   "source": [
    "for epoch in range(1, 11):\n",
    "    for model in models.values():\n",
    "        model.train()\n",
    "    train(epoch, models, train_log)\n",
    "    for model in models.values():\n",
    "        model.eval()\n",
    "    test(models, test_loader, test_log)"
   ]
  },
  {
   "cell_type": "code",
   "execution_count": 107,
   "id": "b0d1b431",
   "metadata": {},
   "outputs": [],
   "source": [
    "for batch in test_loader:\n",
    "    data = batch[0].float()\n",
    "    target = batch[1].float()\n",
    "    break"
   ]
  },
  {
   "cell_type": "code",
   "execution_count": 108,
   "id": "9b832175",
   "metadata": {},
   "outputs": [],
   "source": [
    "data = [d.reshape(28,28) for d in data]"
   ]
  },
  {
   "cell_type": "code",
   "execution_count": 109,
   "id": "a12b61e5",
   "metadata": {},
   "outputs": [
    {
     "data": {
      "text/plain": [
       "<matplotlib.image.AxesImage at 0x2b344d947f0>"
      ]
     },
     "execution_count": 109,
     "metadata": {},
     "output_type": "execute_result"
    },
    {
     "data": {
      "image/png": "[encoded data removed]",
      "text/plain": [
       "<Figure size 720x720 with 10 Axes>"
      ]
     },
     "metadata": {},
     "output_type": "display_data"
    }
   ],
   "source": [
    "fig, axs = plt.subplots(2, 5, figsize=(10, 10))\n",
    "axs[0, 0].imshow(data_n[0])\n",
    "axs[0, 1].imshow(data_n[1])\n",
    "axs[0, 2].imshow(data_n[2])\n",
    "axs[0, 3].imshow(data_n[3])\n",
    "axs[0, 4].imshow(data_n[4])\n",
    "axs[1, 0].imshow(data_n[5])\n",
    "axs[1, 1].imshow(data_n[6])\n",
    "axs[1, 2].imshow(data_n[7])\n",
    "axs[1, 3].imshow(data_n[8])\n",
    "axs[1, 4].imshow(data_n[9])"
   ]
  },
  {
   "cell_type": "code",
   "execution_count": 113,
   "id": "c79276b9",
   "metadata": {},
   "outputs": [],
   "source": [
    "data, _ = next(iter(test_loader))\n",
    "noized = add_noise(data, elementwise=True)\n",
    "output = models['32'](noized[:50])\n",
    "to_plot = output.view(-1, 1, 28, 28).data.numpy()"
   ]
  },
  {
   "cell_type": "code",
   "execution_count": 114,
   "id": "aad496c6",
   "metadata": {},
   "outputs": [],
   "source": [
    "to_plot = [d.reshape(28,28) for d in to_plot]"
   ]
  },
  {
   "cell_type": "code",
   "execution_count": 115,
   "id": "35f05929",
   "metadata": {},
   "outputs": [
    {
     "data": {
      "text/plain": [
       "<matplotlib.image.AxesImage at 0x2b34cd62d90>"
      ]
     },
     "execution_count": 115,
     "metadata": {},
     "output_type": "execute_result"
    },
    {
     "data": {
      "image/png": "[encoded data removed]",
      "text/plain": [
       "<Figure size 720x720 with 10 Axes>"
      ]
     },
     "metadata": {},
     "output_type": "display_data"
    }
   ],
   "source": [
    "fig, axs = plt.subplots(2, 5, figsize=(10, 10))\n",
    "axs[0, 0].imshow(to_plot[0])\n",
    "axs[0, 1].imshow(to_plot[1])\n",
    "axs[0, 2].imshow(to_plot[2])\n",
    "axs[0, 3].imshow(to_plot[3])\n",
    "axs[0, 4].imshow(to_plot[4])\n",
    "axs[1, 0].imshow(to_plot[5])\n",
    "axs[1, 1].imshow(to_plot[6])\n",
    "axs[1, 2].imshow(to_plot[7])\n",
    "axs[1, 3].imshow(to_plot[8])\n",
    "axs[1, 4].imshow(to_plot[9])"
   ]
  },
  {
   "cell_type": "code",
   "execution_count": null,
   "id": "0c1018e0",
   "metadata": {},
   "outputs": [],
   "source": []
  }
 ],
 "metadata": {
  "kernelspec": {
   "display_name": "Python 3 (ipykernel)",
   "language": "python",
   "name": "python3"
  },
  "language_info": {
   "codemirror_mode": {
    "name": "ipython",
    "version": 3
   },
   "file_extension": ".py",
   "mimetype": "text/x-python",
   "name": "python",
   "nbconvert_exporter": "python",
   "pygments_lexer": "ipython3",
   "version": "3.9.7"
  }
 },
 "nbformat": 4,
 "nbformat_minor": 5
}
