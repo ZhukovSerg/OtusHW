{
 "cells": [
  {
   "cell_type": "code",
   "execution_count": 1,
   "id": "1d0a495e",
   "metadata": {},
   "outputs": [],
   "source": [
    "import numpy as np\n",
    "import torch\n",
    "import torch.nn as nn\n",
    "import pandas as pd\n",
    "import matplotlib.pyplot as plt"
   ]
  },
  {
   "cell_type": "code",
   "execution_count": 2,
   "id": "355abc07",
   "metadata": {},
   "outputs": [],
   "source": [
    "from torchvision.datasets import MNIST\n",
    "import torchvision.transforms as tfs"
   ]
  },
  {
   "cell_type": "code",
   "execution_count": 3,
   "id": "23b9af3e",
   "metadata": {},
   "outputs": [],
   "source": [
    "data_tfs = tfs.Compose([\n",
    "  tfs.ToTensor(),\n",
    "  tfs.Normalize((0.5), (0.5))\n",
    "])"
   ]
  },
  {
   "cell_type": "code",
   "execution_count": 4,
   "id": "2bd71e51",
   "metadata": {},
   "outputs": [],
   "source": [
    "# install for train and test\n",
    "root = './'\n",
    "train = MNIST(root, train=True,  transform=data_tfs, download=True)\n",
    "test  = MNIST(root, train=False, transform=data_tfs, download=True)"
   ]
  },
  {
   "cell_type": "code",
   "execution_count": 5,
   "id": "51108324",
   "metadata": {},
   "outputs": [
    {
     "name": "stdout",
     "output_type": "stream",
     "text": [
      "Data size:\n",
      "\t train 60000,\n",
      "\t test 10000\n",
      "Data shape:\n",
      "\t features torch.Size([1, 28, 28]),\n",
      "\t target <class 'int'>\n"
     ]
    }
   ],
   "source": [
    "print(f'Data size:\\n\\t train {len(train)},\\n\\t test {len(test)}')\n",
    "print(f'Data shape:\\n\\t features {train[0][0].shape},\\n\\t target {type(test[0][1])}')"
   ]
  },
  {
   "cell_type": "code",
   "execution_count": 6,
   "id": "ccc378ef",
   "metadata": {},
   "outputs": [],
   "source": [
    "from torch.utils.data import DataLoader\n",
    "\n",
    "batch_size = 256\n",
    "\n",
    "train_loader = DataLoader(train, batch_size=batch_size, drop_last=True)\n",
    "test_loader = DataLoader(test, batch_size=batch_size, drop_last=True)"
   ]
  },
  {
   "cell_type": "code",
   "execution_count": 7,
   "id": "3b026f8d",
   "metadata": {},
   "outputs": [],
   "source": [
    "features = 784\n",
    "classes = 10"
   ]
  },
  {
   "cell_type": "code",
   "execution_count": 8,
   "id": "dab5b26d",
   "metadata": {},
   "outputs": [
    {
     "data": {
      "text/plain": [
       "device(type='cpu')"
      ]
     },
     "execution_count": 8,
     "metadata": {},
     "output_type": "execute_result"
    }
   ],
   "source": [
    "device = torch.device('cuda' if torch.cuda.is_available() else 'cpu')\n",
    "device"
   ]
  },
  {
   "cell_type": "code",
   "execution_count": 84,
   "id": "d50579c4",
   "metadata": {},
   "outputs": [],
   "source": [
    "class Net(torch.nn.Module):\n",
    "    def __init__(self, features, n_hidden_neurons):\n",
    "        super(Net, self).__init__()\n",
    "        \n",
    "        self.fc1 = torch.nn.Linear(features, 128)\n",
    "        self.activ1 = torch.nn.ReLU()\n",
    "        self.fc2 = torch.nn.Linear(128, 128)\n",
    "        self.activ2 = torch.nn.ReLU()\n",
    "        self.fc3 = torch.nn.Linear(128, 128)\n",
    "        self.activ3 = torch.nn.ReLU()\n",
    "        self.fc4 = torch.nn.Linear(128, 128)\n",
    "        self.activ4 = torch.nn.ReLU()\n",
    "        self.fc5 = torch.nn.Linear(128, classes)\n",
    "        \n",
    "        \n",
    "    def forward(self, x):\n",
    "        x = self.fc1(x)\n",
    "        x = self.activ1(x)\n",
    "        x = self.fc2(x)\n",
    "        x = self.activ2(x)\n",
    "        x = self.fc3(x)\n",
    "        x = self.activ3(x)\n",
    "        x = self.fc4(x)\n",
    "        x = self.activ4(x)\n",
    "        x = self.fc5(x)\n",
    "        return x\n",
    "\n",
    "    def inference(self, x):\n",
    "        x = self.forward(x)\n",
    "        return x\n",
    "    \n",
    "net = Net(features, 128)"
   ]
  },
  {
   "cell_type": "code",
   "execution_count": 85,
   "id": "f89ce8f0",
   "metadata": {},
   "outputs": [],
   "source": [
    "criterion = nn.CrossEntropyLoss()      # (logsoftmax + negative likelihood) в своей основе применительно к логитам (logits)\n",
    "optimizer = torch.optim.Adam(net.parameters(), lr=1e-3)"
   ]
  },
  {
   "cell_type": "code",
   "execution_count": 86,
   "id": "035289d4",
   "metadata": {},
   "outputs": [
    {
     "name": "stdout",
     "output_type": "stream",
     "text": [
      "1,\t loss: 0.3102811872959137\n",
      "1,\t loss: 0.6452949643135071\n",
      "2,\t loss: 0.26129835844039917\n",
      "2,\t loss: 0.5227288603782654\n",
      "3,\t loss: 0.2249191850423813\n",
      "3,\t loss: 0.39725685119628906\n",
      "4,\t loss: 0.1963321715593338\n",
      "4,\t loss: 0.3231958746910095\n",
      "5,\t loss: 0.1887316256761551\n",
      "5,\t loss: 0.3145866394042969\n",
      "6,\t loss: 0.16399532556533813\n",
      "6,\t loss: 0.2986645996570587\n",
      "7,\t loss: 0.14811287820339203\n",
      "7,\t loss: 0.2562374770641327\n",
      "8,\t loss: 0.14254161715507507\n",
      "8,\t loss: 0.24867717921733856\n",
      "9,\t loss: 0.128465935587883\n",
      "9,\t loss: 0.23153501749038696\n",
      "10,\t loss: 0.1276879906654358\n",
      "10,\t loss: 0.2418094128370285\n",
      "11,\t loss: 0.12598510086536407\n",
      "11,\t loss: 0.2451215535402298\n",
      "12,\t loss: 0.11102715879678726\n",
      "12,\t loss: 0.21413642168045044\n",
      "13,\t loss: 0.08564123511314392\n",
      "13,\t loss: 0.27756139636039734\n"
     ]
    }
   ],
   "source": [
    "losses_train = []\n",
    "losses_test = []\n",
    "for epoch in range(13):\n",
    "    history_train = []\n",
    "    history_test = []\n",
    "    for x_batch, y_batch in train_loader:\n",
    "    # 1. # загружаем батч данных (вытянутый в линию)\n",
    "        x_batch = x_batch.view(x_batch.shape[0], -1).to(device)\n",
    "        y_batch = y_batch.to(device)\n",
    "\n",
    "    # 2. вычисляем скор с помощью прямого распространения ( .forward or .__call__ )\n",
    "        preds = net(x_batch)\n",
    "\n",
    "    # 3. вычислеяем - функцию потерь (loss)\n",
    "        loss = criterion(preds, y_batch)\n",
    "        #history.append(loss.item())\n",
    "\n",
    "    # 4. вычисляем градиенты\n",
    "        optimizer.zero_grad()\n",
    "        loss.backward()\n",
    "\n",
    "    # 5. шаг градиентного спуска\n",
    "        optimizer.step()\n",
    "        history_train.append(loss.item())\n",
    "    losses_train.append(np.mean(history_train))\n",
    "    \n",
    "    with torch.no_grad():\n",
    "        for x_batch, y_batch in test_loader:\n",
    "            x_batch = x_batch.view(x_batch.shape[0], -1).to(device)\n",
    "            y_batch = y_batch.to(device)\n",
    "            \n",
    "            preds = net(x_batch)\n",
    "            \n",
    "            loss = criterion(preds, y_batch)\n",
    "            \n",
    "            history_test.append(loss.item())\n",
    "    \n",
    "    losses_test.append(np.mean(history_test))       \n",
    "    print(f'{epoch+1},\\t loss: {history_train[-1]}')\n",
    "    print(f'{epoch+1},\\t loss: {history_test[-1]}')\n"
   ]
  },
  {
   "cell_type": "code",
   "execution_count": 87,
   "id": "854e9f84",
   "metadata": {},
   "outputs": [
    {
     "data": {
      "image/png": "[encoded data removed]",
      "text/plain": [
       "<Figure size 720x504 with 1 Axes>"
      ]
     },
     "metadata": {
      "needs_background": "light"
     },
     "output_type": "display_data"
    }
   ],
   "source": [
    "import matplotlib.pyplot as plt\n",
    "     \n",
    "plt.figure(figsize=(10, 7))\n",
    "\n",
    "plt.plot(losses_train, color='steelblue')\n",
    "plt.plot(losses_test, color='green')\n",
    "\n",
    "plt.title('Loss by batch iterations')\n",
    "plt.ylabel('Entropy Loss')\n",
    "plt.xlabel('batches')\n",
    "\n",
    "plt.show()"
   ]
  },
  {
   "cell_type": "code",
   "execution_count": null,
   "id": "6712b963",
   "metadata": {},
   "outputs": [],
   "source": []
  }
 ],
 "metadata": {
  "kernelspec": {
   "display_name": "Python 3 (ipykernel)",
   "language": "python",
   "name": "python3"
  },
  "language_info": {
   "codemirror_mode": {
    "name": "ipython",
    "version": 3
   },
   "file_extension": ".py",
   "mimetype": "text/x-python",
   "name": "python",
   "nbconvert_exporter": "python",
   "pygments_lexer": "ipython3",
   "version": "3.9.7"
  }
 },
 "nbformat": 4,
 "nbformat_minor": 5
}
